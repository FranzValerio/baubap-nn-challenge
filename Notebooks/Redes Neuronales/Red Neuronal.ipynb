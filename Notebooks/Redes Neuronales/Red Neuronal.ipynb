{
 "cells": [
  {
   "cell_type": "code",
   "execution_count": 1,
   "id": "89bd18ce",
   "metadata": {
    "ExecuteTime": {
     "end_time": "2023-08-26T19:15:47.911034Z",
     "start_time": "2023-08-26T19:15:45.643121Z"
    }
   },
   "outputs": [],
   "source": [
    "from sklearn.model_selection import train_test_split\n",
    "import pandas as pd\n",
    "import numpy\n",
    "import matplotlib.pyplot as plt\n",
    "import seaborn as sns\n",
    "import tensorflow as tf\n",
    "import keras"
   ]
  },
  {
   "cell_type": "code",
   "execution_count": 2,
   "id": "2a589ed5",
   "metadata": {
    "ExecuteTime": {
     "end_time": "2023-08-26T19:15:48.467352Z",
     "start_time": "2023-08-26T19:15:48.454038Z"
    }
   },
   "outputs": [],
   "source": [
    "from tensorflow.keras import Sequential\n",
    "from tensorflow.keras.layers import Dense\n",
    "from tensorflow.keras.layers import Flatten\n",
    "from tensorflow.keras.layers import Dropout, BatchNormalization\n",
    "from tensorflow.keras.initializers import HeNormal\n",
    "from keras.regularizers import l1, l2"
   ]
  },
  {
   "cell_type": "code",
   "execution_count": 3,
   "id": "71dbc009",
   "metadata": {
    "ExecuteTime": {
     "end_time": "2023-08-26T19:15:48.916076Z",
     "start_time": "2023-08-26T19:15:48.810140Z"
    }
   },
   "outputs": [
    {
     "data": {
      "text/html": [
       "<div>\n",
       "<style scoped>\n",
       "    .dataframe tbody tr th:only-of-type {\n",
       "        vertical-align: middle;\n",
       "    }\n",
       "\n",
       "    .dataframe tbody tr th {\n",
       "        vertical-align: top;\n",
       "    }\n",
       "\n",
       "    .dataframe thead th {\n",
       "        text-align: right;\n",
       "    }\n",
       "</style>\n",
       "<table border=\"1\" class=\"dataframe\">\n",
       "  <thead>\n",
       "    <tr style=\"text-align: right;\">\n",
       "      <th></th>\n",
       "      <th>feature_2</th>\n",
       "      <th>feature_3</th>\n",
       "      <th>feature_4</th>\n",
       "      <th>feature_6</th>\n",
       "      <th>feature_7</th>\n",
       "      <th>feature_9</th>\n",
       "      <th>feature_12</th>\n",
       "      <th>feature_13</th>\n",
       "      <th>feature_14</th>\n",
       "      <th>feature_15</th>\n",
       "      <th>...</th>\n",
       "      <th>feature_197</th>\n",
       "      <th>feature_201</th>\n",
       "      <th>feature_204</th>\n",
       "      <th>feature_207</th>\n",
       "      <th>feature_208</th>\n",
       "      <th>feature_212</th>\n",
       "      <th>feature_216</th>\n",
       "      <th>feature_217</th>\n",
       "      <th>feature_218</th>\n",
       "      <th>target</th>\n",
       "    </tr>\n",
       "  </thead>\n",
       "  <tbody>\n",
       "    <tr>\n",
       "      <th>3</th>\n",
       "      <td>0.5</td>\n",
       "      <td>0.0</td>\n",
       "      <td>0.000000</td>\n",
       "      <td>0.001299</td>\n",
       "      <td>0.087886</td>\n",
       "      <td>0.002227</td>\n",
       "      <td>0.000113</td>\n",
       "      <td>0.0</td>\n",
       "      <td>0.000011</td>\n",
       "      <td>0.013514</td>\n",
       "      <td>...</td>\n",
       "      <td>0.034483</td>\n",
       "      <td>0.042598</td>\n",
       "      <td>0.012136</td>\n",
       "      <td>0.013420</td>\n",
       "      <td>0.026187</td>\n",
       "      <td>0.003375</td>\n",
       "      <td>0.020597</td>\n",
       "      <td>0.002580</td>\n",
       "      <td>0.0</td>\n",
       "      <td>1</td>\n",
       "    </tr>\n",
       "    <tr>\n",
       "      <th>6</th>\n",
       "      <td>1.0</td>\n",
       "      <td>0.0</td>\n",
       "      <td>0.000018</td>\n",
       "      <td>0.014286</td>\n",
       "      <td>0.571429</td>\n",
       "      <td>0.001050</td>\n",
       "      <td>0.000113</td>\n",
       "      <td>0.0</td>\n",
       "      <td>0.000046</td>\n",
       "      <td>0.114286</td>\n",
       "      <td>...</td>\n",
       "      <td>0.022989</td>\n",
       "      <td>0.042971</td>\n",
       "      <td>0.001849</td>\n",
       "      <td>0.011287</td>\n",
       "      <td>0.029193</td>\n",
       "      <td>0.005062</td>\n",
       "      <td>0.199603</td>\n",
       "      <td>0.004473</td>\n",
       "      <td>0.0</td>\n",
       "      <td>1</td>\n",
       "    </tr>\n",
       "    <tr>\n",
       "      <th>7</th>\n",
       "      <td>1.0</td>\n",
       "      <td>0.0</td>\n",
       "      <td>0.000259</td>\n",
       "      <td>0.040909</td>\n",
       "      <td>0.571429</td>\n",
       "      <td>0.000923</td>\n",
       "      <td>0.000845</td>\n",
       "      <td>0.0</td>\n",
       "      <td>0.001890</td>\n",
       "      <td>0.877660</td>\n",
       "      <td>...</td>\n",
       "      <td>0.017241</td>\n",
       "      <td>0.056945</td>\n",
       "      <td>0.008079</td>\n",
       "      <td>0.000320</td>\n",
       "      <td>0.216927</td>\n",
       "      <td>0.001125</td>\n",
       "      <td>0.106760</td>\n",
       "      <td>0.005346</td>\n",
       "      <td>0.0</td>\n",
       "      <td>1</td>\n",
       "    </tr>\n",
       "    <tr>\n",
       "      <th>10</th>\n",
       "      <td>0.5</td>\n",
       "      <td>0.0</td>\n",
       "      <td>0.000120</td>\n",
       "      <td>0.005844</td>\n",
       "      <td>0.263771</td>\n",
       "      <td>0.001273</td>\n",
       "      <td>0.000225</td>\n",
       "      <td>0.0</td>\n",
       "      <td>0.000046</td>\n",
       "      <td>0.100000</td>\n",
       "      <td>...</td>\n",
       "      <td>0.000000</td>\n",
       "      <td>0.000000</td>\n",
       "      <td>0.000000</td>\n",
       "      <td>0.000000</td>\n",
       "      <td>0.000000</td>\n",
       "      <td>0.000000</td>\n",
       "      <td>0.000000</td>\n",
       "      <td>0.000000</td>\n",
       "      <td>0.0</td>\n",
       "      <td>1</td>\n",
       "    </tr>\n",
       "    <tr>\n",
       "      <th>11</th>\n",
       "      <td>0.5</td>\n",
       "      <td>0.0</td>\n",
       "      <td>0.000164</td>\n",
       "      <td>0.017532</td>\n",
       "      <td>0.571429</td>\n",
       "      <td>0.000032</td>\n",
       "      <td>0.000056</td>\n",
       "      <td>0.0</td>\n",
       "      <td>0.000011</td>\n",
       "      <td>1.000000</td>\n",
       "      <td>...</td>\n",
       "      <td>0.022989</td>\n",
       "      <td>0.065277</td>\n",
       "      <td>0.009147</td>\n",
       "      <td>0.008748</td>\n",
       "      <td>0.209485</td>\n",
       "      <td>0.000562</td>\n",
       "      <td>0.020597</td>\n",
       "      <td>0.005515</td>\n",
       "      <td>1.0</td>\n",
       "      <td>1</td>\n",
       "    </tr>\n",
       "    <tr>\n",
       "      <th>...</th>\n",
       "      <td>...</td>\n",
       "      <td>...</td>\n",
       "      <td>...</td>\n",
       "      <td>...</td>\n",
       "      <td>...</td>\n",
       "      <td>...</td>\n",
       "      <td>...</td>\n",
       "      <td>...</td>\n",
       "      <td>...</td>\n",
       "      <td>...</td>\n",
       "      <td>...</td>\n",
       "      <td>...</td>\n",
       "      <td>...</td>\n",
       "      <td>...</td>\n",
       "      <td>...</td>\n",
       "      <td>...</td>\n",
       "      <td>...</td>\n",
       "      <td>...</td>\n",
       "      <td>...</td>\n",
       "      <td>...</td>\n",
       "      <td>...</td>\n",
       "    </tr>\n",
       "    <tr>\n",
       "      <th>467454</th>\n",
       "      <td>0.5</td>\n",
       "      <td>0.0</td>\n",
       "      <td>0.000000</td>\n",
       "      <td>0.070779</td>\n",
       "      <td>0.285714</td>\n",
       "      <td>0.000859</td>\n",
       "      <td>0.000056</td>\n",
       "      <td>0.0</td>\n",
       "      <td>0.000011</td>\n",
       "      <td>0.037037</td>\n",
       "      <td>...</td>\n",
       "      <td>0.051724</td>\n",
       "      <td>0.034712</td>\n",
       "      <td>0.010139</td>\n",
       "      <td>0.085771</td>\n",
       "      <td>0.069349</td>\n",
       "      <td>0.002812</td>\n",
       "      <td>0.020597</td>\n",
       "      <td>0.006062</td>\n",
       "      <td>0.0</td>\n",
       "      <td>1</td>\n",
       "    </tr>\n",
       "    <tr>\n",
       "      <th>467457</th>\n",
       "      <td>1.0</td>\n",
       "      <td>0.0</td>\n",
       "      <td>0.000163</td>\n",
       "      <td>0.000000</td>\n",
       "      <td>0.163314</td>\n",
       "      <td>0.000064</td>\n",
       "      <td>0.000113</td>\n",
       "      <td>0.0</td>\n",
       "      <td>0.000023</td>\n",
       "      <td>1.000000</td>\n",
       "      <td>...</td>\n",
       "      <td>0.063218</td>\n",
       "      <td>0.032673</td>\n",
       "      <td>0.004626</td>\n",
       "      <td>0.001302</td>\n",
       "      <td>0.057865</td>\n",
       "      <td>0.001687</td>\n",
       "      <td>0.069309</td>\n",
       "      <td>0.006433</td>\n",
       "      <td>0.0</td>\n",
       "      <td>1</td>\n",
       "    </tr>\n",
       "    <tr>\n",
       "      <th>467459</th>\n",
       "      <td>0.5</td>\n",
       "      <td>0.0</td>\n",
       "      <td>0.000125</td>\n",
       "      <td>0.000000</td>\n",
       "      <td>0.380914</td>\n",
       "      <td>0.001273</td>\n",
       "      <td>0.000169</td>\n",
       "      <td>0.0</td>\n",
       "      <td>0.000046</td>\n",
       "      <td>0.100000</td>\n",
       "      <td>...</td>\n",
       "      <td>0.183908</td>\n",
       "      <td>0.033275</td>\n",
       "      <td>0.001822</td>\n",
       "      <td>0.000768</td>\n",
       "      <td>0.024046</td>\n",
       "      <td>0.014623</td>\n",
       "      <td>0.045383</td>\n",
       "      <td>0.004853</td>\n",
       "      <td>0.0</td>\n",
       "      <td>1</td>\n",
       "    </tr>\n",
       "    <tr>\n",
       "      <th>467461</th>\n",
       "      <td>0.5</td>\n",
       "      <td>0.0</td>\n",
       "      <td>0.000078</td>\n",
       "      <td>0.035714</td>\n",
       "      <td>0.000000</td>\n",
       "      <td>0.002195</td>\n",
       "      <td>0.000056</td>\n",
       "      <td>0.0</td>\n",
       "      <td>0.000023</td>\n",
       "      <td>0.028986</td>\n",
       "      <td>...</td>\n",
       "      <td>0.022989</td>\n",
       "      <td>0.046901</td>\n",
       "      <td>0.017513</td>\n",
       "      <td>0.012908</td>\n",
       "      <td>0.205344</td>\n",
       "      <td>0.001125</td>\n",
       "      <td>0.020597</td>\n",
       "      <td>0.006386</td>\n",
       "      <td>0.0</td>\n",
       "      <td>1</td>\n",
       "    </tr>\n",
       "    <tr>\n",
       "      <th>467467</th>\n",
       "      <td>0.5</td>\n",
       "      <td>0.0</td>\n",
       "      <td>0.000000</td>\n",
       "      <td>0.010390</td>\n",
       "      <td>0.489829</td>\n",
       "      <td>0.001845</td>\n",
       "      <td>0.000225</td>\n",
       "      <td>0.0</td>\n",
       "      <td>0.000092</td>\n",
       "      <td>0.126984</td>\n",
       "      <td>...</td>\n",
       "      <td>0.068966</td>\n",
       "      <td>0.041566</td>\n",
       "      <td>0.012445</td>\n",
       "      <td>0.001707</td>\n",
       "      <td>0.038724</td>\n",
       "      <td>0.002250</td>\n",
       "      <td>0.020597</td>\n",
       "      <td>0.002218</td>\n",
       "      <td>0.0</td>\n",
       "      <td>1</td>\n",
       "    </tr>\n",
       "  </tbody>\n",
       "</table>\n",
       "<p>223177 rows × 121 columns</p>\n",
       "</div>"
      ],
      "text/plain": [
       "        feature_2  feature_3  feature_4  feature_6  feature_7  feature_9   \n",
       "3             0.5        0.0   0.000000   0.001299   0.087886   0.002227  \\\n",
       "6             1.0        0.0   0.000018   0.014286   0.571429   0.001050   \n",
       "7             1.0        0.0   0.000259   0.040909   0.571429   0.000923   \n",
       "10            0.5        0.0   0.000120   0.005844   0.263771   0.001273   \n",
       "11            0.5        0.0   0.000164   0.017532   0.571429   0.000032   \n",
       "...           ...        ...        ...        ...        ...        ...   \n",
       "467454        0.5        0.0   0.000000   0.070779   0.285714   0.000859   \n",
       "467457        1.0        0.0   0.000163   0.000000   0.163314   0.000064   \n",
       "467459        0.5        0.0   0.000125   0.000000   0.380914   0.001273   \n",
       "467461        0.5        0.0   0.000078   0.035714   0.000000   0.002195   \n",
       "467467        0.5        0.0   0.000000   0.010390   0.489829   0.001845   \n",
       "\n",
       "        feature_12  feature_13  feature_14  feature_15  ...  feature_197   \n",
       "3         0.000113         0.0    0.000011    0.013514  ...     0.034483  \\\n",
       "6         0.000113         0.0    0.000046    0.114286  ...     0.022989   \n",
       "7         0.000845         0.0    0.001890    0.877660  ...     0.017241   \n",
       "10        0.000225         0.0    0.000046    0.100000  ...     0.000000   \n",
       "11        0.000056         0.0    0.000011    1.000000  ...     0.022989   \n",
       "...            ...         ...         ...         ...  ...          ...   \n",
       "467454    0.000056         0.0    0.000011    0.037037  ...     0.051724   \n",
       "467457    0.000113         0.0    0.000023    1.000000  ...     0.063218   \n",
       "467459    0.000169         0.0    0.000046    0.100000  ...     0.183908   \n",
       "467461    0.000056         0.0    0.000023    0.028986  ...     0.022989   \n",
       "467467    0.000225         0.0    0.000092    0.126984  ...     0.068966   \n",
       "\n",
       "        feature_201  feature_204  feature_207  feature_208  feature_212   \n",
       "3          0.042598     0.012136     0.013420     0.026187     0.003375  \\\n",
       "6          0.042971     0.001849     0.011287     0.029193     0.005062   \n",
       "7          0.056945     0.008079     0.000320     0.216927     0.001125   \n",
       "10         0.000000     0.000000     0.000000     0.000000     0.000000   \n",
       "11         0.065277     0.009147     0.008748     0.209485     0.000562   \n",
       "...             ...          ...          ...          ...          ...   \n",
       "467454     0.034712     0.010139     0.085771     0.069349     0.002812   \n",
       "467457     0.032673     0.004626     0.001302     0.057865     0.001687   \n",
       "467459     0.033275     0.001822     0.000768     0.024046     0.014623   \n",
       "467461     0.046901     0.017513     0.012908     0.205344     0.001125   \n",
       "467467     0.041566     0.012445     0.001707     0.038724     0.002250   \n",
       "\n",
       "        feature_216  feature_217  feature_218  target  \n",
       "3          0.020597     0.002580          0.0       1  \n",
       "6          0.199603     0.004473          0.0       1  \n",
       "7          0.106760     0.005346          0.0       1  \n",
       "10         0.000000     0.000000          0.0       1  \n",
       "11         0.020597     0.005515          1.0       1  \n",
       "...             ...          ...          ...     ...  \n",
       "467454     0.020597     0.006062          0.0       1  \n",
       "467457     0.069309     0.006433          0.0       1  \n",
       "467459     0.045383     0.004853          0.0       1  \n",
       "467461     0.020597     0.006386          0.0       1  \n",
       "467467     0.020597     0.002218          0.0       1  \n",
       "\n",
       "[223177 rows x 121 columns]"
      ]
     },
     "execution_count": 3,
     "metadata": {},
     "output_type": "execute_result"
    }
   ],
   "source": [
    "df = pd.read_pickle('../../Base de datos/train_clean.pkl')\n",
    "df"
   ]
  },
  {
   "cell_type": "code",
   "execution_count": 4,
   "id": "5b42ce63",
   "metadata": {
    "ExecuteTime": {
     "end_time": "2023-08-26T19:15:49.410028Z",
     "start_time": "2023-08-26T19:15:49.253972Z"
    }
   },
   "outputs": [
    {
     "data": {
      "text/plain": [
       "target\n",
       "1    192301\n",
       "0    192301\n",
       "Name: count, dtype: int64"
      ]
     },
     "execution_count": 4,
     "metadata": {},
     "output_type": "execute_result"
    }
   ],
   "source": [
    "from sklearn.utils import resample\n",
    "\n",
    "# Separar las clases mayoritaria y minoritaria\n",
    "df_majority = df[df.target==1]\n",
    "df_minority = df[df.target==0]\n",
    "\n",
    "# Sobremuestreo de la clase minoritaria\n",
    "df_minority_upsampled = resample(df_minority, \n",
    "                                 replace=True,     # Muestreo con reemplazo\n",
    "                                 n_samples=len(df_majority),    # Coincide con el número en la clase mayoritaria\n",
    "                                 random_state=42) \n",
    "\n",
    "# Combinar la clase mayoritaria con la clase minoritaria sobremuestreada\n",
    "df_upsampled = pd.concat([df_majority, df_minority_upsampled])\n",
    "\n",
    "# Mostrar el nuevo recuento de clases\n",
    "df_upsampled.target.value_counts()"
   ]
  },
  {
   "cell_type": "code",
   "execution_count": 5,
   "id": "fd49104f",
   "metadata": {
    "ExecuteTime": {
     "end_time": "2023-08-26T19:15:49.593037Z",
     "start_time": "2023-08-26T19:15:49.534296Z"
    }
   },
   "outputs": [
    {
     "data": {
      "text/plain": [
       "target\n",
       "1    30876\n",
       "0    30876\n",
       "Name: count, dtype: int64"
      ]
     },
     "execution_count": 5,
     "metadata": {},
     "output_type": "execute_result"
    }
   ],
   "source": [
    "# Submuestreo de la clase mayoritaria\n",
    "df_majority_downsampled = resample(df_majority, \n",
    "                                   replace=False,    # Muestreo sin reemplazo\n",
    "                                   n_samples=len(df_minority),  # Coincide con el número en la clase minoritaria\n",
    "                                   random_state=42) \n",
    "\n",
    "# Combinar la clase minoritaria con la clase mayoritaria submuestreada\n",
    "df_downsampled = pd.concat([df_majority_downsampled, df_minority])\n",
    "\n",
    "# Mostrar el nuevo recuento de clases\n",
    "df_downsampled.target.value_counts()"
   ]
  },
  {
   "cell_type": "code",
   "execution_count": 6,
   "id": "307e1eff",
   "metadata": {
    "ExecuteTime": {
     "end_time": "2023-08-26T19:15:49.825177Z",
     "start_time": "2023-08-26T19:15:49.735567Z"
    }
   },
   "outputs": [],
   "source": [
    "X = df_upsampled.drop(columns = ['target'])\n",
    "y = df_upsampled['target']"
   ]
  },
  {
   "cell_type": "markdown",
   "id": "0badc387",
   "metadata": {},
   "source": [
    "# Reescalamos datos"
   ]
  },
  {
   "cell_type": "code",
   "execution_count": 7,
   "id": "11f2fac7",
   "metadata": {
    "ExecuteTime": {
     "end_time": "2023-08-26T19:15:50.615618Z",
     "start_time": "2023-08-26T19:15:50.065696Z"
    }
   },
   "outputs": [],
   "source": [
    "from sklearn.preprocessing import StandardScaler\n",
    "\n",
    "scaler = StandardScaler()\n",
    "X_scaled = scaler.fit_transform(X)"
   ]
  },
  {
   "cell_type": "code",
   "execution_count": 8,
   "id": "ca3ce465",
   "metadata": {
    "ExecuteTime": {
     "end_time": "2023-08-26T19:15:50.786372Z",
     "start_time": "2023-08-26T19:15:50.771882Z"
    }
   },
   "outputs": [
    {
     "data": {
      "text/plain": [
       "array([[-0.09550743, -0.24659532, -0.06203389, ..., -0.35344528,\n",
       "        -0.14087963, -1.40344126],\n",
       "       [ 1.47384858, -0.24659532, -0.06048764, ...,  1.41457466,\n",
       "        -0.02441051, -1.40344126],\n",
       "       [ 1.47384858, -0.24659532, -0.03965707, ...,  0.49757798,\n",
       "         0.0293089 , -1.40344126],\n",
       "       ...,\n",
       "       [-1.66486344, -0.24659532, -0.06203389, ..., -0.55687875,\n",
       "        -0.29959107,  0.71253428],\n",
       "       [-0.09550743, -0.24659532, -0.06095444, ..., -0.35344528,\n",
       "        -0.10303113,  0.71253428],\n",
       "       [-0.09550743, -0.24659532, -0.05189576, ..., -0.35344528,\n",
       "        -0.06128572,  0.71253428]])"
      ]
     },
     "execution_count": 8,
     "metadata": {},
     "output_type": "execute_result"
    }
   ],
   "source": [
    "X_scaled"
   ]
  },
  {
   "cell_type": "code",
   "execution_count": 9,
   "id": "c1db6280",
   "metadata": {
    "ExecuteTime": {
     "end_time": "2023-08-26T19:15:51.468794Z",
     "start_time": "2023-08-26T19:15:51.045498Z"
    }
   },
   "outputs": [],
   "source": [
    "from sklearn.model_selection import train_test_split\n",
    "\n",
    "X_train, X_val, y_train, y_val = train_test_split(X_scaled, y, test_size=0.3, random_state=42)"
   ]
  },
  {
   "cell_type": "code",
   "execution_count": 10,
   "id": "2a8409a5",
   "metadata": {
    "ExecuteTime": {
     "end_time": "2023-08-26T19:15:51.655841Z",
     "start_time": "2023-08-26T19:15:51.640564Z"
    }
   },
   "outputs": [
    {
     "data": {
      "text/plain": [
       "(115381, 120)"
      ]
     },
     "execution_count": 10,
     "metadata": {},
     "output_type": "execute_result"
    }
   ],
   "source": [
    "np.shape(X_val)"
   ]
  },
  {
   "cell_type": "markdown",
   "id": "7ec6a6bb",
   "metadata": {},
   "source": [
    "# Unimos coeficeintes con datos"
   ]
  },
  {
   "cell_type": "code",
   "execution_count": 11,
   "id": "57f29d6a",
   "metadata": {
    "ExecuteTime": {
     "end_time": "2023-08-26T19:15:51.902311Z",
     "start_time": "2023-08-26T19:15:51.875603Z"
    }
   },
   "outputs": [],
   "source": [
    "train_dataset = tf.data.Dataset.from_tensor_slices((X_train, y_train))\n",
    "val_dataset = tf.data.Dataset.from_tensor_slices((X_val, y_val))"
   ]
  },
  {
   "cell_type": "code",
   "execution_count": 12,
   "id": "fc893a6e",
   "metadata": {
    "ExecuteTime": {
     "end_time": "2023-08-26T19:15:52.072119Z",
     "start_time": "2023-08-26T19:15:52.058348Z"
    }
   },
   "outputs": [
    {
     "data": {
      "text/plain": [
       "<TensorSliceDataset element_spec=(TensorSpec(shape=(120,), dtype=tf.float64, name=None), TensorSpec(shape=(), dtype=tf.int32, name=None))>"
      ]
     },
     "execution_count": 12,
     "metadata": {},
     "output_type": "execute_result"
    }
   ],
   "source": [
    "train_dataset"
   ]
  },
  {
   "cell_type": "markdown",
   "id": "8cb5dfef",
   "metadata": {},
   "source": [
    "# Mezclar y procesar por lotes los conjuntos de datos"
   ]
  },
  {
   "cell_type": "code",
   "execution_count": 13,
   "id": "65d44894",
   "metadata": {
    "ExecuteTime": {
     "end_time": "2023-08-26T19:15:52.396024Z",
     "start_time": "2023-08-26T19:15:52.376058Z"
    }
   },
   "outputs": [],
   "source": [
    "BATCH_SIZE = 100\n",
    "SHUFFLE_BUFFER_SIZE = 100\n",
    "\n",
    "train_dataset = train_dataset.shuffle(SHUFFLE_BUFFER_SIZE).batch(BATCH_SIZE)\n",
    "val_dataset = val_dataset.batch(BATCH_SIZE)"
   ]
  },
  {
   "cell_type": "markdown",
   "id": "0606a04b",
   "metadata": {},
   "source": [
    "# Creación del modelo"
   ]
  },
  {
   "cell_type": "code",
   "execution_count": 14,
   "id": "97f96083",
   "metadata": {
    "ExecuteTime": {
     "end_time": "2023-08-26T19:15:52.938820Z",
     "start_time": "2023-08-26T19:15:52.846290Z"
    }
   },
   "outputs": [],
   "source": [
    "model = Sequential()\n",
    "\n",
    "# Flatten layer\n",
    "model.add(Flatten(input_shape=(120,)))\n",
    "\n",
    "# Batch normalization\n",
    "model.add(BatchNormalization())\n",
    "\n",
    "# First set of dense layers\n",
    "model.add(Dense(120, activation='tanh', kernel_initializer=HeNormal(), kernel_regularizer=l1(0.001)))\n",
    "model.add(Dense(120, activation='tanh', kernel_initializer=HeNormal(), kernel_regularizer=l1(0.001)))\n",
    "model.add(Dense(120, activation='tanh', kernel_initializer=HeNormal(), kernel_regularizer=l1(0.001)))\n",
    "model.add(Dense(120, activation='tanh', kernel_initializer=HeNormal(), kernel_regularizer=l1(0.001)))\n",
    "\n",
    "# Second set of dense layers\n",
    "model.add(Dense(60, activation='tanh', kernel_initializer=HeNormal(), kernel_regularizer=l1(0.001)))\n",
    "model.add(Dense(60, activation='tanh', kernel_initializer=HeNormal(), kernel_regularizer=l1(0.001)))\n",
    "model.add(Dense(60, activation='tanh', kernel_initializer=HeNormal(), kernel_regularizer=l1(0.001)))\n",
    "model.add(Dense(60, activation='tanh', kernel_initializer=HeNormal(), kernel_regularizer=l1(0.001)))\n",
    "\n",
    "# Dropout layer\n",
    "model.add(Dropout(0.2))\n",
    "\n",
    "# Another batch normalization\n",
    "model.add(BatchNormalization())\n",
    "\n",
    "# Output layer\n",
    "model.add(Dense(1, activation='sigmoid'))"
   ]
  },
  {
   "cell_type": "code",
   "execution_count": 15,
   "id": "19a3224d",
   "metadata": {
    "ExecuteTime": {
     "end_time": "2023-08-26T19:15:53.171592Z",
     "start_time": "2023-08-26T19:15:53.154055Z"
    }
   },
   "outputs": [
    {
     "name": "stdout",
     "output_type": "stream",
     "text": [
      "Model: \"sequential\"\n",
      "_________________________________________________________________\n",
      " Layer (type)                Output Shape              Param #   \n",
      "=================================================================\n",
      " flatten (Flatten)           (None, 120)               0         \n",
      "                                                                 \n",
      " batch_normalization (BatchN  (None, 120)              480       \n",
      " ormalization)                                                   \n",
      "                                                                 \n",
      " dense (Dense)               (None, 120)               14520     \n",
      "                                                                 \n",
      " dense_1 (Dense)             (None, 120)               14520     \n",
      "                                                                 \n",
      " dense_2 (Dense)             (None, 120)               14520     \n",
      "                                                                 \n",
      " dense_3 (Dense)             (None, 120)               14520     \n",
      "                                                                 \n",
      " dense_4 (Dense)             (None, 60)                7260      \n",
      "                                                                 \n",
      " dense_5 (Dense)             (None, 60)                3660      \n",
      "                                                                 \n",
      " dense_6 (Dense)             (None, 60)                3660      \n",
      "                                                                 \n",
      " dense_7 (Dense)             (None, 60)                3660      \n",
      "                                                                 \n",
      " dropout (Dropout)           (None, 60)                0         \n",
      "                                                                 \n",
      " batch_normalization_1 (Batc  (None, 60)               240       \n",
      " hNormalization)                                                 \n",
      "                                                                 \n",
      " dense_8 (Dense)             (None, 1)                 61        \n",
      "                                                                 \n",
      "=================================================================\n",
      "Total params: 77,101\n",
      "Trainable params: 76,741\n",
      "Non-trainable params: 360\n",
      "_________________________________________________________________\n"
     ]
    }
   ],
   "source": [
    "model.summary()"
   ]
  },
  {
   "cell_type": "code",
   "execution_count": 16,
   "id": "edb72cee",
   "metadata": {
    "ExecuteTime": {
     "end_time": "2023-08-26T19:15:53.464763Z",
     "start_time": "2023-08-26T19:15:53.353945Z"
    }
   },
   "outputs": [
    {
     "data": {
      "image/png": "[encoded data removed]",
      "text/plain": [
       "<IPython.core.display.Image object>"
      ]
     },
     "execution_count": 16,
     "metadata": {},
     "output_type": "execute_result"
    }
   ],
   "source": [
    "keras.utils.plot_model(model,show_shapes=True)"
   ]
  },
  {
   "cell_type": "markdown",
   "id": "4161467d",
   "metadata": {},
   "source": [
    "# Entrenamos el modelo"
   ]
  },
  {
   "cell_type": "code",
   "execution_count": 17,
   "id": "2fefdfe2",
   "metadata": {
    "ExecuteTime": {
     "end_time": "2023-08-26T19:15:53.716239Z",
     "start_time": "2023-08-26T19:15:53.704087Z"
    }
   },
   "outputs": [],
   "source": [
    "from keras.optimizers import Adam\n",
    "optimizer = Adam(learning_rate=0.001,clipvalue=100.0)"
   ]
  },
  {
   "cell_type": "code",
   "execution_count": 18,
   "id": "27ca0bbf",
   "metadata": {
    "ExecuteTime": {
     "end_time": "2023-08-26T19:15:53.916653Z",
     "start_time": "2023-08-26T19:15:53.899743Z"
    }
   },
   "outputs": [],
   "source": [
    "def total_mae_loss(y_true, y_pred):\n",
    "    total_loss = tf.keras.losses.binary_crossentropy(y_true, y_pred)\n",
    "    tf.print(y_true, summarize = -1)\n",
    "    tf.print(y_pred, summarize = -1)\n",
    "    return total_loss"
   ]
  },
  {
   "cell_type": "code",
   "execution_count": 39,
   "id": "711ee805",
   "metadata": {
    "ExecuteTime": {
     "end_time": "2023-08-26T19:28:25.120653Z",
     "start_time": "2023-08-26T19:28:25.106675Z"
    }
   },
   "outputs": [],
   "source": [
    "def brier_score(y_true, y_pred):\n",
    "    return tf.reduce_mean(tf.square(y_true - y_pred))\n",
    "\n",
    "metrics = [ ]"
   ]
  },
  {
   "cell_type": "code",
   "execution_count": 40,
   "id": "89057f66",
   "metadata": {
    "ExecuteTime": {
     "end_time": "2023-08-26T19:28:25.787757Z",
     "start_time": "2023-08-26T19:28:25.774834Z"
    }
   },
   "outputs": [],
   "source": [
    "model.compile(optimizer='adam',\n",
    "              loss= 'binary_crossentropy',\n",
    "              metrics=['accuracy'])"
   ]
  },
  {
   "cell_type": "code",
   "execution_count": 45,
   "id": "c2be211c",
   "metadata": {
    "ExecuteTime": {
     "end_time": "2023-08-26T19:30:03.591370Z",
     "start_time": "2023-08-26T19:30:03.583542Z"
    }
   },
   "outputs": [],
   "source": [
    "model.compile(optimizer= optimizer,\n",
    "              loss= 'binary_crossentropy',\n",
    "              metrics=[brier_score, 'accuracy'])"
   ]
  },
  {
   "cell_type": "code",
   "execution_count": 46,
   "id": "eb493299",
   "metadata": {
    "ExecuteTime": {
     "end_time": "2023-08-26T19:30:03.933652Z",
     "start_time": "2023-08-26T19:30:03.918024Z"
    }
   },
   "outputs": [],
   "source": [
    "def scheduler(epoch, lr):\n",
    "  if epoch < 400:\n",
    "    return lr\n",
    "  else:\n",
    "    return -1.65e-6*epoch +  0.00166"
   ]
  },
  {
   "cell_type": "code",
   "execution_count": null,
   "id": "1e4eb344",
   "metadata": {
    "ExecuteTime": {
     "start_time": "2023-08-26T19:30:04.231Z"
    }
   },
   "outputs": [
    {
     "name": "stdout",
     "output_type": "stream",
     "text": [
      "Epoch 1/50\n",
      "2693/2693 [==============================] - 7s 2ms/step - loss: 0.6871 - brier_score: 0.2382 - accuracy: 0.5892 - val_loss: 0.6867 - val_brier_score: 0.2378 - val_accuracy: 0.5895 - lr: 0.0010\n",
      "Epoch 2/50\n",
      "2693/2693 [==============================] - 6s 2ms/step - loss: 0.6873 - brier_score: 0.2382 - accuracy: 0.5894 - val_loss: 0.6871 - val_brier_score: 0.2377 - val_accuracy: 0.5910 - lr: 0.0010\n",
      "Epoch 3/50\n",
      "2693/2693 [==============================] - 6s 2ms/step - loss: 0.6873 - brier_score: 0.2382 - accuracy: 0.5902 - val_loss: 0.6862 - val_brier_score: 0.2379 - val_accuracy: 0.5900 - lr: 0.0010\n",
      "Epoch 4/50\n",
      "2693/2693 [==============================] - 6s 2ms/step - loss: 0.6873 - brier_score: 0.2382 - accuracy: 0.5887 - val_loss: 0.6880 - val_brier_score: 0.2379 - val_accuracy: 0.5892 - lr: 0.0010\n",
      "Epoch 5/50\n",
      "2693/2693 [==============================] - 6s 2ms/step - loss: 0.6869 - brier_score: 0.2381 - accuracy: 0.5898 - val_loss: 0.6890 - val_brier_score: 0.2392 - val_accuracy: 0.5833 - lr: 0.0010\n",
      "Epoch 6/50\n",
      "2693/2693 [==============================] - 6s 2ms/step - loss: 0.6868 - brier_score: 0.2381 - accuracy: 0.5900 - val_loss: 0.6859 - val_brier_score: 0.2374 - val_accuracy: 0.5910 - lr: 0.0010\n",
      "Epoch 7/50\n",
      "2693/2693 [==============================] - 6s 2ms/step - loss: 0.6869 - brier_score: 0.2381 - accuracy: 0.5894 - val_loss: 0.6865 - val_brier_score: 0.2381 - val_accuracy: 0.5863 - lr: 0.0010\n",
      "Epoch 8/50\n",
      "2693/2693 [==============================] - 6s 2ms/step - loss: 0.6869 - brier_score: 0.2382 - accuracy: 0.5893 - val_loss: 0.6927 - val_brier_score: 0.2404 - val_accuracy: 0.5791 - lr: 0.0010\n",
      "Epoch 9/50\n",
      "2693/2693 [==============================] - 6s 2ms/step - loss: 0.6871 - brier_score: 0.2382 - accuracy: 0.5890 - val_loss: 0.6857 - val_brier_score: 0.2376 - val_accuracy: 0.5901 - lr: 0.0010\n",
      "Epoch 10/50\n",
      "2693/2693 [==============================] - 6s 2ms/step - loss: 0.6869 - brier_score: 0.2381 - accuracy: 0.5888 - val_loss: 0.6866 - val_brier_score: 0.2380 - val_accuracy: 0.5898 - lr: 0.0010\n",
      "Epoch 11/50\n",
      "2693/2693 [==============================] - 6s 2ms/step - loss: 0.6869 - brier_score: 0.2382 - accuracy: 0.5897 - val_loss: 0.6980 - val_brier_score: 0.2434 - val_accuracy: 0.5681 - lr: 0.0010\n",
      "Epoch 12/50\n",
      "2693/2693 [==============================] - 6s 2ms/step - loss: 0.6869 - brier_score: 0.2381 - accuracy: 0.5899 - val_loss: 0.6922 - val_brier_score: 0.2407 - val_accuracy: 0.5834 - lr: 0.0010\n",
      "Epoch 13/50\n",
      "2693/2693 [==============================] - 6s 2ms/step - loss: 0.6867 - brier_score: 0.2381 - accuracy: 0.5892 - val_loss: 0.6995 - val_brier_score: 0.2442 - val_accuracy: 0.5746 - lr: 0.0010\n",
      "Epoch 14/50\n",
      "2693/2693 [==============================] - 6s 2ms/step - loss: 0.6869 - brier_score: 0.2382 - accuracy: 0.5897 - val_loss: 0.6959 - val_brier_score: 0.2422 - val_accuracy: 0.5787 - lr: 0.0010\n",
      "Epoch 15/50\n",
      "2693/2693 [==============================] - 6s 2ms/step - loss: 0.6870 - brier_score: 0.2382 - accuracy: 0.5899 - val_loss: 0.6854 - val_brier_score: 0.2376 - val_accuracy: 0.5909 - lr: 0.0010\n",
      "Epoch 16/50\n",
      "2693/2693 [==============================] - 6s 2ms/step - loss: 0.6867 - brier_score: 0.2381 - accuracy: 0.5896 - val_loss: 0.6866 - val_brier_score: 0.2378 - val_accuracy: 0.5909 - lr: 0.0010\n",
      "Epoch 17/50\n",
      " 677/2693 [======>.......................] - ETA: 3s - loss: 0.6872 - brier_score: 0.2383 - accuracy: 0.5891"
     ]
    }
   ],
   "source": [
    "val_epochs = 50\n",
    "\n",
    "early_stop = tf.keras.callbacks.EarlyStopping( monitor = 'val_accuracy', patience = 1000,verbose = 1, \n",
    "                                              restore_best_weights = True)\n",
    "\n",
    "#class_weights = {0: 1., 1: 0.2}  # asigna más peso a la clase 0\n",
    "\n",
    "\n",
    "reduce_lr = tf.keras.callbacks.LearningRateScheduler(scheduler)\n",
    "#history = model.fit(train_dataset, validation_data=val_dataset, epochs= val_epochs, callbacks=[reduce_lr, early_stop],\n",
    "#                    class_weight=class_weights)\n",
    "history = model.fit(train_dataset, validation_data=val_dataset, epochs= val_epochs, callbacks=[reduce_lr, early_stop])"
   ]
  },
  {
   "cell_type": "code",
   "execution_count": 34,
   "id": "9ea593e2",
   "metadata": {
    "ExecuteTime": {
     "end_time": "2023-08-26T19:21:55.583683Z",
     "start_time": "2023-08-26T19:21:55.572068Z"
    }
   },
   "outputs": [],
   "source": [
    "evaluación = X_val[2]"
   ]
  },
  {
   "cell_type": "code",
   "execution_count": 35,
   "id": "77bdecf2",
   "metadata": {
    "ExecuteTime": {
     "end_time": "2023-08-26T19:21:55.831064Z",
     "start_time": "2023-08-26T19:21:55.821671Z"
    }
   },
   "outputs": [],
   "source": [
    "X_test1_None = evaluación[None, :]"
   ]
  },
  {
   "cell_type": "code",
   "execution_count": 36,
   "id": "f3a4873b",
   "metadata": {
    "ExecuteTime": {
     "end_time": "2023-08-26T19:21:56.063620Z",
     "start_time": "2023-08-26T19:21:56.019831Z"
    }
   },
   "outputs": [
    {
     "name": "stdout",
     "output_type": "stream",
     "text": [
      "1/1 [==============================] - 0s 12ms/step\n",
      "[[0.72220325]]\n"
     ]
    }
   ],
   "source": [
    "prediction = model.predict(X_test1_None)\n",
    "print(prediction)"
   ]
  },
  {
   "cell_type": "code",
   "execution_count": 37,
   "id": "b6b4d87a",
   "metadata": {
    "ExecuteTime": {
     "end_time": "2023-08-26T19:21:56.249433Z",
     "start_time": "2023-08-26T19:21:56.231459Z"
    }
   },
   "outputs": [
    {
     "data": {
      "text/plain": [
       "444451    1\n",
       "339125    1\n",
       "304278    0\n",
       "296098    0\n",
       "338386    0\n",
       "410445    1\n",
       "222279    0\n",
       "13651     1\n",
       "325920    0\n",
       "292666    1\n",
       "Name: target, dtype: int32"
      ]
     },
     "execution_count": 37,
     "metadata": {},
     "output_type": "execute_result"
    }
   ],
   "source": [
    "y_val.iloc[0:10]"
   ]
  },
  {
   "cell_type": "code",
   "execution_count": null,
   "id": "dab1d226",
   "metadata": {},
   "outputs": [],
   "source": []
  }
 ],
 "metadata": {
  "hide_input": false,
  "kernelspec": {
   "display_name": "Python 3 (ipykernel)",
   "language": "python",
   "name": "python3"
  },
  "language_info": {
   "codemirror_mode": {
    "name": "ipython",
    "version": 3
   },
   "file_extension": ".py",
   "mimetype": "text/x-python",
   "name": "python",
   "nbconvert_exporter": "python",
   "pygments_lexer": "ipython3",
   "version": "3.10.11"
  },
  "toc": {
   "base_numbering": 1,
   "nav_menu": {},
   "number_sections": true,
   "sideBar": true,
   "skip_h1_title": false,
   "title_cell": "Table of Contents",
   "title_sidebar": "Contents",
   "toc_cell": false,
   "toc_position": {},
   "toc_section_display": true,
   "toc_window_display": false
  },
  "varInspector": {
   "cols": {
    "lenName": 16,
    "lenType": 16,
    "lenVar": 40
   },
   "kernels_config": {
    "python": {
     "delete_cmd_postfix": "",
     "delete_cmd_prefix": "del ",
     "library": "var_list.py",
     "varRefreshCmd": "print(var_dic_list())"
    },
    "r": {
     "delete_cmd_postfix": ") ",
     "delete_cmd_prefix": "rm(",
     "library": "var_list.r",
     "varRefreshCmd": "cat(var_dic_list()) "
    }
   },
   "types_to_exclude": [
    "module",
    "function",
    "builtin_function_or_method",
    "instance",
    "_Feature"
   ],
   "window_display": false
  }
 },
 "nbformat": 4,
 "nbformat_minor": 5
}
