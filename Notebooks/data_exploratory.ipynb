{
 "cells": [
  {
   "cell_type": "markdown",
   "metadata": {},
   "source": [
    "# Análisis exploratorio de datos - Baubap AI Challenge 2023 \n",
    "## Por: Rafael Sánchez Cedillo, Francisco Valerio López\n",
    "\n",
    "### Neural networks challenge\n",
    "\n",
    "El objetivo consiste en predecir con la mayor precisión la variable objetivo. \n",
    "El primer paso entonces sería conocer cuál es la variable objetivo y cuáles son las variables que tienen mayor importancia para generar el modelo de regresión."
   ]
  },
  {
   "cell_type": "code",
   "execution_count": 1,
   "metadata": {},
   "outputs": [],
   "source": [
    "#pip install optuna"
   ]
  },
  {
   "cell_type": "code",
   "execution_count": 2,
   "metadata": {},
   "outputs": [],
   "source": [
    "import numpy as np\n",
    "import matplotlib.pyplot as plt\n",
    "import pandas as pd\n",
    "import seaborn as sns\n",
    "import tensorflow as tf"
   ]
  },
  {
   "cell_type": "markdown",
   "metadata": {},
   "source": [
    "### Importación y análisis exploratorio de datos\n",
    "\n",
    "Ideas:\n",
    "\n",
    "- Utilizar `head()`, `describe()` e `info()`\n",
    "- Visualizar la distribución de la variable objetivo y de las otras características\n",
    "- Identificar NaNs y buscar outliers\n",
    "\n",
    "### Datos de entrenamiento"
   ]
  },
  {
   "cell_type": "code",
   "execution_count": 3,
   "metadata": {},
   "outputs": [],
   "source": [
    "datos = pd.read_pickle(\"Data/nn_challenge_train.pkl\")"
   ]
  },
  {
   "cell_type": "code",
   "execution_count": 4,
   "metadata": {},
   "outputs": [
    {
     "data": {
      "text/html": [
       "<div>\n",
       "<style scoped>\n",
       "    .dataframe tbody tr th:only-of-type {\n",
       "        vertical-align: middle;\n",
       "    }\n",
       "\n",
       "    .dataframe tbody tr th {\n",
       "        vertical-align: top;\n",
       "    }\n",
       "\n",
       "    .dataframe thead th {\n",
       "        text-align: right;\n",
       "    }\n",
       "</style>\n",
       "<table border=\"1\" class=\"dataframe\">\n",
       "  <thead>\n",
       "    <tr style=\"text-align: right;\">\n",
       "      <th></th>\n",
       "      <th>feature_1</th>\n",
       "      <th>feature_2</th>\n",
       "      <th>feature_3</th>\n",
       "      <th>feature_4</th>\n",
       "      <th>feature_5</th>\n",
       "      <th>feature_6</th>\n",
       "      <th>feature_7</th>\n",
       "      <th>feature_8</th>\n",
       "      <th>feature_9</th>\n",
       "      <th>feature_10</th>\n",
       "      <th>...</th>\n",
       "      <th>feature_210</th>\n",
       "      <th>feature_211</th>\n",
       "      <th>feature_212</th>\n",
       "      <th>feature_213</th>\n",
       "      <th>feature_214</th>\n",
       "      <th>feature_215</th>\n",
       "      <th>feature_216</th>\n",
       "      <th>feature_217</th>\n",
       "      <th>feature_218</th>\n",
       "      <th>target</th>\n",
       "    </tr>\n",
       "  </thead>\n",
       "  <tbody>\n",
       "    <tr>\n",
       "      <th>0</th>\n",
       "      <td>0.554222</td>\n",
       "      <td>1.0</td>\n",
       "      <td>0.0</td>\n",
       "      <td>0.000000</td>\n",
       "      <td>0.398189</td>\n",
       "      <td>0.000000</td>\n",
       "      <td>0.190514</td>\n",
       "      <td>0.774141</td>\n",
       "      <td>0.004995</td>\n",
       "      <td>0.666667</td>\n",
       "      <td>...</td>\n",
       "      <td>0.000000</td>\n",
       "      <td>0.000000</td>\n",
       "      <td>0.000000</td>\n",
       "      <td>0.00000</td>\n",
       "      <td>0.000000</td>\n",
       "      <td>0.000000</td>\n",
       "      <td>0.000000</td>\n",
       "      <td>0.000000</td>\n",
       "      <td>1.0</td>\n",
       "      <td>1</td>\n",
       "    </tr>\n",
       "    <tr>\n",
       "      <th>1</th>\n",
       "      <td>0.521013</td>\n",
       "      <td>0.5</td>\n",
       "      <td>0.0</td>\n",
       "      <td>NaN</td>\n",
       "      <td>0.299222</td>\n",
       "      <td>0.000649</td>\n",
       "      <td>0.000000</td>\n",
       "      <td>0.827157</td>\n",
       "      <td>0.000668</td>\n",
       "      <td>0.000000</td>\n",
       "      <td>...</td>\n",
       "      <td>0.000000</td>\n",
       "      <td>0.000000</td>\n",
       "      <td>0.000000</td>\n",
       "      <td>0.00000</td>\n",
       "      <td>0.000000</td>\n",
       "      <td>0.000000</td>\n",
       "      <td>0.000000</td>\n",
       "      <td>0.000000</td>\n",
       "      <td>1.0</td>\n",
       "      <td>1</td>\n",
       "    </tr>\n",
       "    <tr>\n",
       "      <th>2</th>\n",
       "      <td>0.545612</td>\n",
       "      <td>1.0</td>\n",
       "      <td>0.0</td>\n",
       "      <td>0.000102</td>\n",
       "      <td>0.248790</td>\n",
       "      <td>0.000000</td>\n",
       "      <td>0.571429</td>\n",
       "      <td>0.851531</td>\n",
       "      <td>0.000604</td>\n",
       "      <td>0.000000</td>\n",
       "      <td>...</td>\n",
       "      <td>0.206293</td>\n",
       "      <td>0.022686</td>\n",
       "      <td>0.000562</td>\n",
       "      <td>0.50000</td>\n",
       "      <td>0.116689</td>\n",
       "      <td>0.566809</td>\n",
       "      <td>0.020597</td>\n",
       "      <td>0.020891</td>\n",
       "      <td>1.0</td>\n",
       "      <td>1</td>\n",
       "    </tr>\n",
       "    <tr>\n",
       "      <th>3</th>\n",
       "      <td>0.593774</td>\n",
       "      <td>0.5</td>\n",
       "      <td>0.0</td>\n",
       "      <td>0.000000</td>\n",
       "      <td>0.412052</td>\n",
       "      <td>0.001299</td>\n",
       "      <td>0.087886</td>\n",
       "      <td>0.559571</td>\n",
       "      <td>0.002227</td>\n",
       "      <td>0.333333</td>\n",
       "      <td>...</td>\n",
       "      <td>0.026009</td>\n",
       "      <td>0.074658</td>\n",
       "      <td>0.003375</td>\n",
       "      <td>1.00000</td>\n",
       "      <td>0.025595</td>\n",
       "      <td>0.097360</td>\n",
       "      <td>0.020597</td>\n",
       "      <td>0.002580</td>\n",
       "      <td>0.0</td>\n",
       "      <td>1</td>\n",
       "    </tr>\n",
       "    <tr>\n",
       "      <th>4</th>\n",
       "      <td>0.278900</td>\n",
       "      <td>0.0</td>\n",
       "      <td>0.0</td>\n",
       "      <td>0.000000</td>\n",
       "      <td>0.160199</td>\n",
       "      <td>0.009740</td>\n",
       "      <td>0.134400</td>\n",
       "      <td>0.841197</td>\n",
       "      <td>0.000700</td>\n",
       "      <td>0.833333</td>\n",
       "      <td>...</td>\n",
       "      <td>0.049540</td>\n",
       "      <td>0.064444</td>\n",
       "      <td>0.003375</td>\n",
       "      <td>0.85715</td>\n",
       "      <td>0.032973</td>\n",
       "      <td>0.131737</td>\n",
       "      <td>0.020597</td>\n",
       "      <td>0.002613</td>\n",
       "      <td>1.0</td>\n",
       "      <td>1</td>\n",
       "    </tr>\n",
       "  </tbody>\n",
       "</table>\n",
       "<p>5 rows × 219 columns</p>\n",
       "</div>"
      ],
      "text/plain": [
       "   feature_1  feature_2  feature_3  feature_4  feature_5  feature_6  \\\n",
       "0   0.554222        1.0        0.0   0.000000   0.398189   0.000000   \n",
       "1   0.521013        0.5        0.0        NaN   0.299222   0.000649   \n",
       "2   0.545612        1.0        0.0   0.000102   0.248790   0.000000   \n",
       "3   0.593774        0.5        0.0   0.000000   0.412052   0.001299   \n",
       "4   0.278900        0.0        0.0   0.000000   0.160199   0.009740   \n",
       "\n",
       "   feature_7  feature_8  feature_9  feature_10  ...  feature_210  feature_211  \\\n",
       "0   0.190514   0.774141   0.004995    0.666667  ...     0.000000     0.000000   \n",
       "1   0.000000   0.827157   0.000668    0.000000  ...     0.000000     0.000000   \n",
       "2   0.571429   0.851531   0.000604    0.000000  ...     0.206293     0.022686   \n",
       "3   0.087886   0.559571   0.002227    0.333333  ...     0.026009     0.074658   \n",
       "4   0.134400   0.841197   0.000700    0.833333  ...     0.049540     0.064444   \n",
       "\n",
       "   feature_212  feature_213  feature_214  feature_215 feature_216  \\\n",
       "0     0.000000      0.00000     0.000000     0.000000    0.000000   \n",
       "1     0.000000      0.00000     0.000000     0.000000    0.000000   \n",
       "2     0.000562      0.50000     0.116689     0.566809    0.020597   \n",
       "3     0.003375      1.00000     0.025595     0.097360    0.020597   \n",
       "4     0.003375      0.85715     0.032973     0.131737    0.020597   \n",
       "\n",
       "   feature_217  feature_218  target  \n",
       "0     0.000000          1.0       1  \n",
       "1     0.000000          1.0       1  \n",
       "2     0.020891          1.0       1  \n",
       "3     0.002580          0.0       1  \n",
       "4     0.002613          1.0       1  \n",
       "\n",
       "[5 rows x 219 columns]"
      ]
     },
     "execution_count": 4,
     "metadata": {},
     "output_type": "execute_result"
    }
   ],
   "source": [
    "datos.head()"
   ]
  },
  {
   "cell_type": "code",
   "execution_count": 5,
   "metadata": {},
   "outputs": [
    {
     "data": {
      "text/plain": [
       "(472422, 219)"
      ]
     },
     "execution_count": 5,
     "metadata": {},
     "output_type": "execute_result"
    }
   ],
   "source": [
    "datos.shape"
   ]
  },
  {
   "cell_type": "code",
   "execution_count": 6,
   "metadata": {},
   "outputs": [
    {
     "data": {
      "text/html": [
       "<div>\n",
       "<style scoped>\n",
       "    .dataframe tbody tr th:only-of-type {\n",
       "        vertical-align: middle;\n",
       "    }\n",
       "\n",
       "    .dataframe tbody tr th {\n",
       "        vertical-align: top;\n",
       "    }\n",
       "\n",
       "    .dataframe thead th {\n",
       "        text-align: right;\n",
       "    }\n",
       "</style>\n",
       "<table border=\"1\" class=\"dataframe\">\n",
       "  <thead>\n",
       "    <tr style=\"text-align: right;\">\n",
       "      <th></th>\n",
       "      <th>feature_1</th>\n",
       "      <th>feature_2</th>\n",
       "      <th>feature_3</th>\n",
       "      <th>feature_4</th>\n",
       "      <th>feature_5</th>\n",
       "      <th>feature_6</th>\n",
       "      <th>feature_7</th>\n",
       "      <th>feature_8</th>\n",
       "      <th>feature_9</th>\n",
       "      <th>feature_10</th>\n",
       "      <th>...</th>\n",
       "      <th>feature_210</th>\n",
       "      <th>feature_211</th>\n",
       "      <th>feature_212</th>\n",
       "      <th>feature_213</th>\n",
       "      <th>feature_214</th>\n",
       "      <th>feature_215</th>\n",
       "      <th>feature_216</th>\n",
       "      <th>feature_217</th>\n",
       "      <th>feature_218</th>\n",
       "      <th>target</th>\n",
       "    </tr>\n",
       "  </thead>\n",
       "  <tbody>\n",
       "    <tr>\n",
       "      <th>count</th>\n",
       "      <td>472422.000000</td>\n",
       "      <td>472420.000000</td>\n",
       "      <td>471254.000000</td>\n",
       "      <td>435576.000000</td>\n",
       "      <td>472422.000000</td>\n",
       "      <td>471256.000000</td>\n",
       "      <td>472422.000000</td>\n",
       "      <td>472422.000000</td>\n",
       "      <td>471256.000000</td>\n",
       "      <td>449700.000000</td>\n",
       "      <td>...</td>\n",
       "      <td>472420.000000</td>\n",
       "      <td>472420.000000</td>\n",
       "      <td>472420.000000</td>\n",
       "      <td>472420.000000</td>\n",
       "      <td>472420.000000</td>\n",
       "      <td>472420.000000</td>\n",
       "      <td>472420.000000</td>\n",
       "      <td>472420.000000</td>\n",
       "      <td>471255.000000</td>\n",
       "      <td>472422.000000</td>\n",
       "    </tr>\n",
       "    <tr>\n",
       "      <th>mean</th>\n",
       "      <td>0.518669</td>\n",
       "      <td>0.544020</td>\n",
       "      <td>0.004611</td>\n",
       "      <td>0.000691</td>\n",
       "      <td>0.312839</td>\n",
       "      <td>0.015258</td>\n",
       "      <td>0.249711</td>\n",
       "      <td>0.727841</td>\n",
       "      <td>0.001884</td>\n",
       "      <td>0.513358</td>\n",
       "      <td>...</td>\n",
       "      <td>0.080568</td>\n",
       "      <td>0.091190</td>\n",
       "      <td>0.003238</td>\n",
       "      <td>0.584832</td>\n",
       "      <td>0.040472</td>\n",
       "      <td>0.154438</td>\n",
       "      <td>0.057250</td>\n",
       "      <td>0.004895</td>\n",
       "      <td>0.653336</td>\n",
       "      <td>0.859308</td>\n",
       "    </tr>\n",
       "    <tr>\n",
       "      <th>std</th>\n",
       "      <td>0.108863</td>\n",
       "      <td>0.324083</td>\n",
       "      <td>0.018434</td>\n",
       "      <td>0.010233</td>\n",
       "      <td>0.112954</td>\n",
       "      <td>0.025510</td>\n",
       "      <td>0.145240</td>\n",
       "      <td>0.110845</td>\n",
       "      <td>0.006095</td>\n",
       "      <td>0.318793</td>\n",
       "      <td>...</td>\n",
       "      <td>0.089586</td>\n",
       "      <td>0.115406</td>\n",
       "      <td>0.009128</td>\n",
       "      <td>0.358869</td>\n",
       "      <td>0.043787</td>\n",
       "      <td>0.123564</td>\n",
       "      <td>0.103643</td>\n",
       "      <td>0.016048</td>\n",
       "      <td>0.475908</td>\n",
       "      <td>0.347704</td>\n",
       "    </tr>\n",
       "    <tr>\n",
       "      <th>min</th>\n",
       "      <td>0.000000</td>\n",
       "      <td>0.000000</td>\n",
       "      <td>0.000000</td>\n",
       "      <td>0.000000</td>\n",
       "      <td>0.000000</td>\n",
       "      <td>0.000000</td>\n",
       "      <td>0.000000</td>\n",
       "      <td>0.000000</td>\n",
       "      <td>0.000000</td>\n",
       "      <td>0.000000</td>\n",
       "      <td>...</td>\n",
       "      <td>0.000000</td>\n",
       "      <td>0.000000</td>\n",
       "      <td>0.000000</td>\n",
       "      <td>0.000000</td>\n",
       "      <td>0.000000</td>\n",
       "      <td>0.000000</td>\n",
       "      <td>0.000000</td>\n",
       "      <td>0.000000</td>\n",
       "      <td>0.000000</td>\n",
       "      <td>0.000000</td>\n",
       "    </tr>\n",
       "    <tr>\n",
       "      <th>25%</th>\n",
       "      <td>0.445342</td>\n",
       "      <td>0.500000</td>\n",
       "      <td>0.000000</td>\n",
       "      <td>0.000000</td>\n",
       "      <td>0.227816</td>\n",
       "      <td>0.001948</td>\n",
       "      <td>0.152343</td>\n",
       "      <td>0.662139</td>\n",
       "      <td>0.000732</td>\n",
       "      <td>0.333333</td>\n",
       "      <td>...</td>\n",
       "      <td>0.023898</td>\n",
       "      <td>0.020597</td>\n",
       "      <td>0.000562</td>\n",
       "      <td>0.500000</td>\n",
       "      <td>0.024305</td>\n",
       "      <td>0.093145</td>\n",
       "      <td>0.020597</td>\n",
       "      <td>0.001184</td>\n",
       "      <td>0.000000</td>\n",
       "      <td>1.000000</td>\n",
       "    </tr>\n",
       "    <tr>\n",
       "      <th>50%</th>\n",
       "      <td>0.518781</td>\n",
       "      <td>0.500000</td>\n",
       "      <td>0.000000</td>\n",
       "      <td>0.000051</td>\n",
       "      <td>0.293266</td>\n",
       "      <td>0.006494</td>\n",
       "      <td>0.228571</td>\n",
       "      <td>0.747226</td>\n",
       "      <td>0.001145</td>\n",
       "      <td>0.500000</td>\n",
       "      <td>...</td>\n",
       "      <td>0.058742</td>\n",
       "      <td>0.049828</td>\n",
       "      <td>0.001687</td>\n",
       "      <td>0.727250</td>\n",
       "      <td>0.035991</td>\n",
       "      <td>0.143492</td>\n",
       "      <td>0.020597</td>\n",
       "      <td>0.002420</td>\n",
       "      <td>1.000000</td>\n",
       "      <td>1.000000</td>\n",
       "    </tr>\n",
       "    <tr>\n",
       "      <th>75%</th>\n",
       "      <td>0.592213</td>\n",
       "      <td>1.000000</td>\n",
       "      <td>0.000000</td>\n",
       "      <td>0.000147</td>\n",
       "      <td>0.379608</td>\n",
       "      <td>0.018182</td>\n",
       "      <td>0.326514</td>\n",
       "      <td>0.811302</td>\n",
       "      <td>0.001909</td>\n",
       "      <td>0.750000</td>\n",
       "      <td>...</td>\n",
       "      <td>0.110885</td>\n",
       "      <td>0.123073</td>\n",
       "      <td>0.003937</td>\n",
       "      <td>0.852950</td>\n",
       "      <td>0.051146</td>\n",
       "      <td>0.225993</td>\n",
       "      <td>0.037407</td>\n",
       "      <td>0.004468</td>\n",
       "      <td>1.000000</td>\n",
       "      <td>1.000000</td>\n",
       "    </tr>\n",
       "    <tr>\n",
       "      <th>max</th>\n",
       "      <td>1.000000</td>\n",
       "      <td>1.000000</td>\n",
       "      <td>1.000000</td>\n",
       "      <td>1.000000</td>\n",
       "      <td>1.000000</td>\n",
       "      <td>1.000000</td>\n",
       "      <td>1.000000</td>\n",
       "      <td>1.000000</td>\n",
       "      <td>1.000000</td>\n",
       "      <td>1.000000</td>\n",
       "      <td>...</td>\n",
       "      <td>1.000000</td>\n",
       "      <td>1.000000</td>\n",
       "      <td>1.000000</td>\n",
       "      <td>1.000000</td>\n",
       "      <td>1.000000</td>\n",
       "      <td>1.000000</td>\n",
       "      <td>1.000000</td>\n",
       "      <td>1.000000</td>\n",
       "      <td>1.000000</td>\n",
       "      <td>1.000000</td>\n",
       "    </tr>\n",
       "  </tbody>\n",
       "</table>\n",
       "<p>8 rows × 208 columns</p>\n",
       "</div>"
      ],
      "text/plain": [
       "           feature_1      feature_2      feature_3      feature_4  \\\n",
       "count  472422.000000  472420.000000  471254.000000  435576.000000   \n",
       "mean        0.518669       0.544020       0.004611       0.000691   \n",
       "std         0.108863       0.324083       0.018434       0.010233   \n",
       "min         0.000000       0.000000       0.000000       0.000000   \n",
       "25%         0.445342       0.500000       0.000000       0.000000   \n",
       "50%         0.518781       0.500000       0.000000       0.000051   \n",
       "75%         0.592213       1.000000       0.000000       0.000147   \n",
       "max         1.000000       1.000000       1.000000       1.000000   \n",
       "\n",
       "           feature_5      feature_6      feature_7      feature_8  \\\n",
       "count  472422.000000  471256.000000  472422.000000  472422.000000   \n",
       "mean        0.312839       0.015258       0.249711       0.727841   \n",
       "std         0.112954       0.025510       0.145240       0.110845   \n",
       "min         0.000000       0.000000       0.000000       0.000000   \n",
       "25%         0.227816       0.001948       0.152343       0.662139   \n",
       "50%         0.293266       0.006494       0.228571       0.747226   \n",
       "75%         0.379608       0.018182       0.326514       0.811302   \n",
       "max         1.000000       1.000000       1.000000       1.000000   \n",
       "\n",
       "           feature_9     feature_10  ...    feature_210    feature_211  \\\n",
       "count  471256.000000  449700.000000  ...  472420.000000  472420.000000   \n",
       "mean        0.001884       0.513358  ...       0.080568       0.091190   \n",
       "std         0.006095       0.318793  ...       0.089586       0.115406   \n",
       "min         0.000000       0.000000  ...       0.000000       0.000000   \n",
       "25%         0.000732       0.333333  ...       0.023898       0.020597   \n",
       "50%         0.001145       0.500000  ...       0.058742       0.049828   \n",
       "75%         0.001909       0.750000  ...       0.110885       0.123073   \n",
       "max         1.000000       1.000000  ...       1.000000       1.000000   \n",
       "\n",
       "         feature_212    feature_213    feature_214    feature_215  \\\n",
       "count  472420.000000  472420.000000  472420.000000  472420.000000   \n",
       "mean        0.003238       0.584832       0.040472       0.154438   \n",
       "std         0.009128       0.358869       0.043787       0.123564   \n",
       "min         0.000000       0.000000       0.000000       0.000000   \n",
       "25%         0.000562       0.500000       0.024305       0.093145   \n",
       "50%         0.001687       0.727250       0.035991       0.143492   \n",
       "75%         0.003937       0.852950       0.051146       0.225993   \n",
       "max         1.000000       1.000000       1.000000       1.000000   \n",
       "\n",
       "         feature_216    feature_217    feature_218         target  \n",
       "count  472420.000000  472420.000000  471255.000000  472422.000000  \n",
       "mean        0.057250       0.004895       0.653336       0.859308  \n",
       "std         0.103643       0.016048       0.475908       0.347704  \n",
       "min         0.000000       0.000000       0.000000       0.000000  \n",
       "25%         0.020597       0.001184       0.000000       1.000000  \n",
       "50%         0.020597       0.002420       1.000000       1.000000  \n",
       "75%         0.037407       0.004468       1.000000       1.000000  \n",
       "max         1.000000       1.000000       1.000000       1.000000  \n",
       "\n",
       "[8 rows x 208 columns]"
      ]
     },
     "execution_count": 6,
     "metadata": {},
     "output_type": "execute_result"
    }
   ],
   "source": [
    "datos.describe()"
   ]
  },
  {
   "cell_type": "code",
   "execution_count": 7,
   "metadata": {},
   "outputs": [
    {
     "data": {
      "text/plain": [
       "float32     197\n",
       "float64      10\n",
       "category      1\n",
       "category      1\n",
       "category      1\n",
       "category      1\n",
       "category      1\n",
       "category      1\n",
       "category      1\n",
       "object        1\n",
       "category      1\n",
       "category      1\n",
       "category      1\n",
       "int32         1\n",
       "dtype: int64"
      ]
     },
     "execution_count": 7,
     "metadata": {},
     "output_type": "execute_result"
    }
   ],
   "source": [
    "datos.dtypes.value_counts()"
   ]
  },
  {
   "cell_type": "code",
   "execution_count": 8,
   "metadata": {},
   "outputs": [
    {
     "name": "stdout",
     "output_type": "stream",
     "text": [
      "Index(['feature_17', 'feature_87', 'feature_118', 'feature_119', 'feature_139',\n",
      "       'feature_144', 'feature_147', 'feature_148', 'feature_158',\n",
      "       'feature_159', 'feature_195'],\n",
      "      dtype='object')\n"
     ]
    }
   ],
   "source": [
    "columnas_raras = datos.select_dtypes(include = ['object', 'category']).columns\n",
    "\n",
    "print(columnas_raras)"
   ]
  },
  {
   "cell_type": "code",
   "execution_count": 9,
   "metadata": {},
   "outputs": [],
   "source": [
    "datos_copy = datos.copy()"
   ]
  },
  {
   "cell_type": "code",
   "execution_count": 10,
   "metadata": {},
   "outputs": [],
   "source": [
    "from sklearn.preprocessing import LabelEncoder\n",
    "\n",
    "le = LabelEncoder()\n",
    "\n",
    "datos_copy[columnas_raras] = datos_copy[columnas_raras].apply(lambda col: le.fit_transform(col))"
   ]
  },
  {
   "cell_type": "code",
   "execution_count": 11,
   "metadata": {},
   "outputs": [],
   "source": [
    "# columns_drop = datos_copy.select_dtypes(include = ['category', 'object']).columns\n",
    "\n",
    "# datos_copy.drop(columns = columns_drop, inplace = True)"
   ]
  },
  {
   "cell_type": "code",
   "execution_count": 12,
   "metadata": {},
   "outputs": [
    {
     "data": {
      "text/plain": [
       "feature_1          0\n",
       "feature_2          2\n",
       "feature_3       1168\n",
       "feature_4      36846\n",
       "feature_5          0\n",
       "               ...  \n",
       "feature_215        2\n",
       "feature_216        2\n",
       "feature_217        2\n",
       "feature_218     1167\n",
       "target             0\n",
       "Length: 219, dtype: int64"
      ]
     },
     "execution_count": 12,
     "metadata": {},
     "output_type": "execute_result"
    }
   ],
   "source": [
    "datos_copy.isnull().sum()"
   ]
  },
  {
   "cell_type": "markdown",
   "metadata": {},
   "source": [
    "Buscamos las columnas que únicamente tengan valores NaN"
   ]
  },
  {
   "cell_type": "code",
   "execution_count": 13,
   "metadata": {},
   "outputs": [],
   "source": [
    "nans = datos_copy.columns[datos_copy.isnull().any()]"
   ]
  },
  {
   "cell_type": "code",
   "execution_count": 14,
   "metadata": {},
   "outputs": [
    {
     "data": {
      "text/plain": [
       "Index(['feature_2', 'feature_3', 'feature_4', 'feature_6', 'feature_9',\n",
       "       'feature_10', 'feature_11', 'feature_12', 'feature_15', 'feature_16',\n",
       "       ...\n",
       "       'feature_209', 'feature_210', 'feature_211', 'feature_212',\n",
       "       'feature_213', 'feature_214', 'feature_215', 'feature_216',\n",
       "       'feature_217', 'feature_218'],\n",
       "      dtype='object', length=174)"
      ]
     },
     "execution_count": 14,
     "metadata": {},
     "output_type": "execute_result"
    }
   ],
   "source": [
    "nans"
   ]
  },
  {
   "cell_type": "markdown",
   "metadata": {},
   "source": [
    "Como existen muchos valores NaN no sería conveniente eliminarlas. Una de las técnicas comunes es reemplazarlos con alguna medida de tendencia central. Para datos numéricos suele utilizarse la media o la mediana."
   ]
  },
  {
   "cell_type": "code",
   "execution_count": 15,
   "metadata": {},
   "outputs": [],
   "source": [
    "for col in nans:\n",
    "\n",
    "    datos_copy[col].fillna(datos_copy[col].mean(), inplace = True)"
   ]
  },
  {
   "cell_type": "code",
   "execution_count": 16,
   "metadata": {},
   "outputs": [
    {
     "data": {
      "text/plain": [
       "feature_1      0\n",
       "feature_2      0\n",
       "feature_3      0\n",
       "feature_4      0\n",
       "feature_5      0\n",
       "              ..\n",
       "feature_215    0\n",
       "feature_216    0\n",
       "feature_217    0\n",
       "feature_218    0\n",
       "target         0\n",
       "Length: 219, dtype: int64"
      ]
     },
     "execution_count": 16,
     "metadata": {},
     "output_type": "execute_result"
    }
   ],
   "source": [
    "datos_copy.isnull().sum()"
   ]
  },
  {
   "cell_type": "markdown",
   "metadata": {},
   "source": [
    "### Visualización de datos"
   ]
  },
  {
   "cell_type": "code",
   "execution_count": 17,
   "metadata": {},
   "outputs": [
    {
     "data": {
      "text/plain": [
       "<Axes: xlabel='feature_1', ylabel='Count'>"
      ]
     },
     "execution_count": 17,
     "metadata": {},
     "output_type": "execute_result"
    },
    {
     "data": {
      "image/png": "[encoded data removed]",
      "text/plain": [
       "<Figure size 640x480 with 1 Axes>"
      ]
     },
     "metadata": {},
     "output_type": "display_data"
    }
   ],
   "source": [
    "sns.histplot(datos.feature_1, color = 'dodgerblue')"
   ]
  },
  {
   "cell_type": "code",
   "execution_count": 18,
   "metadata": {},
   "outputs": [
    {
     "data": {
      "text/plain": [
       "<matplotlib.lines.Line2D at 0x27ab647cbb0>"
      ]
     },
     "execution_count": 18,
     "metadata": {},
     "output_type": "execute_result"
    },
    {
     "data": {
      "image/png": "[encoded data removed]",
      "text/plain": [
       "<Figure size 640x480 with 1 Axes>"
      ]
     },
     "metadata": {},
     "output_type": "display_data"
    }
   ],
   "source": [
    "sns.boxplot(x = datos.feature_1)\n",
    "plt.axvline(datos.feature_1.mean(), color = 'red')"
   ]
  },
  {
   "cell_type": "code",
   "execution_count": 19,
   "metadata": {},
   "outputs": [
    {
     "data": {
      "text/plain": [
       "<Axes: xlabel='target', ylabel='Count'>"
      ]
     },
     "execution_count": 19,
     "metadata": {},
     "output_type": "execute_result"
    },
    {
     "data": {
      "image/png": "[encoded data removed]",
      "text/plain": [
       "<Figure size 640x480 with 1 Axes>"
      ]
     },
     "metadata": {},
     "output_type": "display_data"
    }
   ],
   "source": [
    "sns.histplot(datos.target)"
   ]
  },
  {
   "cell_type": "markdown",
   "metadata": {},
   "source": [
    "### Reducción de dimensionalidad"
   ]
  },
  {
   "cell_type": "code",
   "execution_count": 20,
   "metadata": {},
   "outputs": [],
   "source": [
    "#sns.heatmap(datos.corr())"
   ]
  },
  {
   "cell_type": "markdown",
   "metadata": {},
   "source": [
    "El heatmap no es una buena opción ya que no es posible identificar con claridad las variables más correlacionadas, intentemos utilizar la matriz de correlación y alguna manera de verificar las variables más correlacionadas"
   ]
  },
  {
   "cell_type": "code",
   "execution_count": 21,
   "metadata": {},
   "outputs": [],
   "source": [
    "correlation_matrix = datos_copy.corr()"
   ]
  },
  {
   "cell_type": "code",
   "execution_count": 22,
   "metadata": {},
   "outputs": [],
   "source": [
    "a = 0.90 # umbral de correlación\n",
    "\n",
    "variables_altamente_corr = []\n",
    "\n",
    "for i in range(len(correlation_matrix.columns)):\n",
    "\n",
    "    for j in range(i+1, len(correlation_matrix.columns)):\n",
    "\n",
    "        if abs(correlation_matrix.iloc[i, j]) >= a:\n",
    "\n",
    "            variables_altamente_corr.append((correlation_matrix.columns[i], correlation_matrix.columns[j], correlation_matrix.iloc[i, j]))"
   ]
  },
  {
   "cell_type": "code",
   "execution_count": 23,
   "metadata": {},
   "outputs": [
    {
     "data": {
      "text/plain": [
       "[('feature_9', 'feature_11', 0.9894294346479845),\n",
       " ('feature_25', 'feature_26', 0.93477691350158),\n",
       " ('feature_26', 'feature_38', 0.9060517575257114),\n",
       " ('feature_27', 'feature_28', 0.9518331726489971),\n",
       " ('feature_29', 'feature_30', 0.94928456720214),\n",
       " ('feature_56', 'feature_57', 0.9891401071742841),\n",
       " ('feature_56', 'feature_62', 0.9335667360874569),\n",
       " ('feature_56', 'feature_63', 0.941692527571001),\n",
       " ('feature_57', 'feature_62', 0.9393524151586332),\n",
       " ('feature_57', 'feature_63', 0.9597020027625263),\n",
       " ('feature_62', 'feature_63', 0.9707380873342653),\n",
       " ('feature_68', 'feature_69', 0.9945113160056578),\n",
       " ('feature_80', 'feature_81', 0.9060304299552833),\n",
       " ('feature_88', 'feature_116', 0.9138917422607993),\n",
       " ('feature_90', 'feature_92', 0.9489094482419743),\n",
       " ('feature_90', 'feature_151', 0.9517043663109013),\n",
       " ('feature_90', 'feature_169', 0.9460204400762708),\n",
       " ('feature_90', 'feature_176', 0.9424126338723249),\n",
       " ('feature_90', 'feature_183', 0.9251853597268797),\n",
       " ('feature_90', 'feature_185', 0.9164989937379223),\n",
       " ('feature_90', 'feature_186', 0.9519934686803698),\n",
       " ('feature_91', 'feature_149', 0.9316364077808607),\n",
       " ('feature_91', 'feature_153', 0.9109273767595469),\n",
       " ('feature_91', 'feature_184', 0.910099273467985),\n",
       " ('feature_92', 'feature_134', 0.9029272879345273),\n",
       " ('feature_92', 'feature_151', 0.9621664645975919),\n",
       " ('feature_92', 'feature_169', 0.9411286204745262),\n",
       " ('feature_92', 'feature_176', 0.953994792818771),\n",
       " ('feature_92', 'feature_183', 0.9413804273461509),\n",
       " ('feature_92', 'feature_185', 0.9285271882471644),\n",
       " ('feature_92', 'feature_186', 0.960839712370908),\n",
       " ('feature_112', 'feature_113', 0.9464433079077386),\n",
       " ('feature_123', 'feature_145', 0.9339655383081843),\n",
       " ('feature_132', 'feature_170', 0.9590690305515893),\n",
       " ('feature_132', 'feature_172', 0.9634024016641435),\n",
       " ('feature_132', 'feature_174', 0.9639985921506696),\n",
       " ('feature_132', 'feature_175', 0.9329903189671507),\n",
       " ('feature_132', 'feature_177', 0.9496066642934535),\n",
       " ('feature_132', 'feature_178', 0.9575265908183698),\n",
       " ('feature_132', 'feature_179', 0.9410670229049419),\n",
       " ('feature_132', 'feature_180', 0.9456169402420769),\n",
       " ('feature_132', 'feature_181', 0.9501497924874577),\n",
       " ('feature_132', 'feature_182', 0.9462508853399781),\n",
       " ('feature_133', 'feature_149', 0.916590658984285),\n",
       " ('feature_133', 'feature_153', 0.9507564444450766),\n",
       " ('feature_133', 'feature_184', 0.950462189427069),\n",
       " ('feature_134', 'feature_151', 0.9126927608991628),\n",
       " ('feature_134', 'feature_185', 0.9291719531986715),\n",
       " ('feature_134', 'feature_186', 0.9123050148121941),\n",
       " ('feature_149', 'feature_153', 0.9455852087098577),\n",
       " ('feature_149', 'feature_184', 0.9430512194372795),\n",
       " ('feature_151', 'feature_169', 0.9371427439865192),\n",
       " ('feature_151', 'feature_176', 0.946390078632265),\n",
       " ('feature_151', 'feature_183', 0.9415556919612146),\n",
       " ('feature_151', 'feature_185', 0.9315839232479933),\n",
       " ('feature_151', 'feature_186', 0.9660347163343017),\n",
       " ('feature_153', 'feature_184', 0.9632349455673465),\n",
       " ('feature_169', 'feature_176', 0.9415287861622409),\n",
       " ('feature_169', 'feature_183', 0.9099482852233536),\n",
       " ('feature_169', 'feature_185', 0.9118157007668375),\n",
       " ('feature_169', 'feature_186', 0.9369661523509829),\n",
       " ('feature_170', 'feature_172', 0.9599314062972788),\n",
       " ('feature_170', 'feature_174', 0.9595159304429266),\n",
       " ('feature_170', 'feature_175', 0.9231758548772218),\n",
       " ('feature_170', 'feature_177', 0.9402950718195517),\n",
       " ('feature_170', 'feature_178', 0.9489701751490325),\n",
       " ('feature_170', 'feature_179', 0.9301649272552012),\n",
       " ('feature_170', 'feature_180', 0.9339614180487193),\n",
       " ('feature_170', 'feature_181', 0.9504367942254863),\n",
       " ('feature_170', 'feature_182', 0.9489440291334515),\n",
       " ('feature_172', 'feature_174', 0.9633017263284991),\n",
       " ('feature_172', 'feature_175', 0.9225374789730512),\n",
       " ('feature_172', 'feature_177', 0.9470883952879652),\n",
       " ('feature_172', 'feature_178', 0.9530892374623914),\n",
       " ('feature_172', 'feature_179', 0.9342000620442034),\n",
       " ('feature_172', 'feature_180', 0.9445459283694422),\n",
       " ('feature_172', 'feature_181', 0.9465424505559693),\n",
       " ('feature_172', 'feature_182', 0.9412413694927683),\n",
       " ('feature_174', 'feature_175', 0.9305858812470641),\n",
       " ('feature_174', 'feature_177', 0.9497817960257322),\n",
       " ('feature_174', 'feature_178', 0.9560362831033865),\n",
       " ('feature_174', 'feature_179', 0.939269721383712),\n",
       " ('feature_174', 'feature_180', 0.9464592886058876),\n",
       " ('feature_174', 'feature_181', 0.9477580412223697),\n",
       " ('feature_174', 'feature_182', 0.9451089307211651),\n",
       " ('feature_175', 'feature_177', 0.9417552340523371),\n",
       " ('feature_175', 'feature_178', 0.9399058223725657),\n",
       " ('feature_175', 'feature_179', 0.9519974806092637),\n",
       " ('feature_175', 'feature_180', 0.9304084752948247),\n",
       " ('feature_175', 'feature_181', 0.9206772537194784),\n",
       " ('feature_175', 'feature_182', 0.9285023162003647),\n",
       " ('feature_176', 'feature_183', 0.932570188049262),\n",
       " ('feature_176', 'feature_185', 0.9175105045812635),\n",
       " ('feature_176', 'feature_186', 0.9462885941734264),\n",
       " ('feature_177', 'feature_178', 0.9544103269415732),\n",
       " ('feature_177', 'feature_179', 0.9672657358617606),\n",
       " ('feature_177', 'feature_180', 0.9657095070284265),\n",
       " ('feature_177', 'feature_181', 0.9240150480246346),\n",
       " ('feature_177', 'feature_182', 0.9233817260423842),\n",
       " ('feature_178', 'feature_179', 0.9521416475680369),\n",
       " ('feature_178', 'feature_180', 0.9477848857044927),\n",
       " ('feature_178', 'feature_181', 0.9436611498718468),\n",
       " ('feature_178', 'feature_182', 0.94171827916318),\n",
       " ('feature_179', 'feature_180', 0.9587899785351094),\n",
       " ('feature_179', 'feature_181', 0.9182429933020639),\n",
       " ('feature_179', 'feature_182', 0.9218234374968355),\n",
       " ('feature_180', 'feature_181', 0.9151608854378177),\n",
       " ('feature_180', 'feature_182', 0.9122434669093361),\n",
       " ('feature_181', 'feature_182', 0.9588503683865709),\n",
       " ('feature_183', 'feature_186', 0.940667631355841),\n",
       " ('feature_185', 'feature_186', 0.9307728370632739),\n",
       " ('feature_205', 'feature_206', 0.9588836500537661)]"
      ]
     },
     "execution_count": 23,
     "metadata": {},
     "output_type": "execute_result"
    }
   ],
   "source": [
    "variables_altamente_corr"
   ]
  },
  {
   "cell_type": "code",
   "execution_count": 24,
   "metadata": {},
   "outputs": [
    {
     "name": "stdout",
     "output_type": "stream",
     "text": [
      "112\n"
     ]
    }
   ],
   "source": [
    "print(len(variables_altamente_corr))"
   ]
  },
  {
   "cell_type": "markdown",
   "metadata": {},
   "source": [
    "Eliminamos las variables altamente correlacionadas"
   ]
  },
  {
   "cell_type": "code",
   "execution_count": 25,
   "metadata": {},
   "outputs": [],
   "source": [
    "columnas_remove = {pair[1] for pair in variables_altamente_corr}\n",
    "\n",
    "datos_copy.drop(columns = columnas_remove, inplace = True)"
   ]
  },
  {
   "cell_type": "code",
   "execution_count": 26,
   "metadata": {},
   "outputs": [
    {
     "data": {
      "text/html": [
       "<div>\n",
       "<style scoped>\n",
       "    .dataframe tbody tr th:only-of-type {\n",
       "        vertical-align: middle;\n",
       "    }\n",
       "\n",
       "    .dataframe tbody tr th {\n",
       "        vertical-align: top;\n",
       "    }\n",
       "\n",
       "    .dataframe thead th {\n",
       "        text-align: right;\n",
       "    }\n",
       "</style>\n",
       "<table border=\"1\" class=\"dataframe\">\n",
       "  <thead>\n",
       "    <tr style=\"text-align: right;\">\n",
       "      <th></th>\n",
       "      <th>feature_1</th>\n",
       "      <th>feature_2</th>\n",
       "      <th>feature_3</th>\n",
       "      <th>feature_4</th>\n",
       "      <th>feature_5</th>\n",
       "      <th>feature_6</th>\n",
       "      <th>feature_7</th>\n",
       "      <th>feature_8</th>\n",
       "      <th>feature_9</th>\n",
       "      <th>feature_10</th>\n",
       "      <th>...</th>\n",
       "      <th>feature_210</th>\n",
       "      <th>feature_211</th>\n",
       "      <th>feature_212</th>\n",
       "      <th>feature_213</th>\n",
       "      <th>feature_214</th>\n",
       "      <th>feature_215</th>\n",
       "      <th>feature_216</th>\n",
       "      <th>feature_217</th>\n",
       "      <th>feature_218</th>\n",
       "      <th>target</th>\n",
       "    </tr>\n",
       "  </thead>\n",
       "  <tbody>\n",
       "    <tr>\n",
       "      <th>0</th>\n",
       "      <td>0.554222</td>\n",
       "      <td>1.0</td>\n",
       "      <td>0.0</td>\n",
       "      <td>0.000000</td>\n",
       "      <td>0.398189</td>\n",
       "      <td>0.000000</td>\n",
       "      <td>0.190514</td>\n",
       "      <td>0.774141</td>\n",
       "      <td>0.004995</td>\n",
       "      <td>0.666667</td>\n",
       "      <td>...</td>\n",
       "      <td>0.000000</td>\n",
       "      <td>0.000000</td>\n",
       "      <td>0.000000</td>\n",
       "      <td>0.00000</td>\n",
       "      <td>0.000000</td>\n",
       "      <td>0.000000</td>\n",
       "      <td>0.000000</td>\n",
       "      <td>0.000000</td>\n",
       "      <td>1.0</td>\n",
       "      <td>1</td>\n",
       "    </tr>\n",
       "    <tr>\n",
       "      <th>1</th>\n",
       "      <td>0.521013</td>\n",
       "      <td>0.5</td>\n",
       "      <td>0.0</td>\n",
       "      <td>0.000691</td>\n",
       "      <td>0.299222</td>\n",
       "      <td>0.000649</td>\n",
       "      <td>0.000000</td>\n",
       "      <td>0.827157</td>\n",
       "      <td>0.000668</td>\n",
       "      <td>0.000000</td>\n",
       "      <td>...</td>\n",
       "      <td>0.000000</td>\n",
       "      <td>0.000000</td>\n",
       "      <td>0.000000</td>\n",
       "      <td>0.00000</td>\n",
       "      <td>0.000000</td>\n",
       "      <td>0.000000</td>\n",
       "      <td>0.000000</td>\n",
       "      <td>0.000000</td>\n",
       "      <td>1.0</td>\n",
       "      <td>1</td>\n",
       "    </tr>\n",
       "    <tr>\n",
       "      <th>2</th>\n",
       "      <td>0.545612</td>\n",
       "      <td>1.0</td>\n",
       "      <td>0.0</td>\n",
       "      <td>0.000102</td>\n",
       "      <td>0.248790</td>\n",
       "      <td>0.000000</td>\n",
       "      <td>0.571429</td>\n",
       "      <td>0.851531</td>\n",
       "      <td>0.000604</td>\n",
       "      <td>0.000000</td>\n",
       "      <td>...</td>\n",
       "      <td>0.206293</td>\n",
       "      <td>0.022686</td>\n",
       "      <td>0.000562</td>\n",
       "      <td>0.50000</td>\n",
       "      <td>0.116689</td>\n",
       "      <td>0.566809</td>\n",
       "      <td>0.020597</td>\n",
       "      <td>0.020891</td>\n",
       "      <td>1.0</td>\n",
       "      <td>1</td>\n",
       "    </tr>\n",
       "    <tr>\n",
       "      <th>3</th>\n",
       "      <td>0.593774</td>\n",
       "      <td>0.5</td>\n",
       "      <td>0.0</td>\n",
       "      <td>0.000000</td>\n",
       "      <td>0.412052</td>\n",
       "      <td>0.001299</td>\n",
       "      <td>0.087886</td>\n",
       "      <td>0.559571</td>\n",
       "      <td>0.002227</td>\n",
       "      <td>0.333333</td>\n",
       "      <td>...</td>\n",
       "      <td>0.026009</td>\n",
       "      <td>0.074658</td>\n",
       "      <td>0.003375</td>\n",
       "      <td>1.00000</td>\n",
       "      <td>0.025595</td>\n",
       "      <td>0.097360</td>\n",
       "      <td>0.020597</td>\n",
       "      <td>0.002580</td>\n",
       "      <td>0.0</td>\n",
       "      <td>1</td>\n",
       "    </tr>\n",
       "    <tr>\n",
       "      <th>4</th>\n",
       "      <td>0.278900</td>\n",
       "      <td>0.0</td>\n",
       "      <td>0.0</td>\n",
       "      <td>0.000000</td>\n",
       "      <td>0.160199</td>\n",
       "      <td>0.009740</td>\n",
       "      <td>0.134400</td>\n",
       "      <td>0.841197</td>\n",
       "      <td>0.000700</td>\n",
       "      <td>0.833333</td>\n",
       "      <td>...</td>\n",
       "      <td>0.049540</td>\n",
       "      <td>0.064444</td>\n",
       "      <td>0.003375</td>\n",
       "      <td>0.85715</td>\n",
       "      <td>0.032973</td>\n",
       "      <td>0.131737</td>\n",
       "      <td>0.020597</td>\n",
       "      <td>0.002613</td>\n",
       "      <td>1.0</td>\n",
       "      <td>1</td>\n",
       "    </tr>\n",
       "  </tbody>\n",
       "</table>\n",
       "<p>5 rows × 184 columns</p>\n",
       "</div>"
      ],
      "text/plain": [
       "   feature_1  feature_2  feature_3  feature_4  feature_5  feature_6  \\\n",
       "0   0.554222        1.0        0.0   0.000000   0.398189   0.000000   \n",
       "1   0.521013        0.5        0.0   0.000691   0.299222   0.000649   \n",
       "2   0.545612        1.0        0.0   0.000102   0.248790   0.000000   \n",
       "3   0.593774        0.5        0.0   0.000000   0.412052   0.001299   \n",
       "4   0.278900        0.0        0.0   0.000000   0.160199   0.009740   \n",
       "\n",
       "   feature_7  feature_8  feature_9  feature_10  ...  feature_210  feature_211  \\\n",
       "0   0.190514   0.774141   0.004995    0.666667  ...     0.000000     0.000000   \n",
       "1   0.000000   0.827157   0.000668    0.000000  ...     0.000000     0.000000   \n",
       "2   0.571429   0.851531   0.000604    0.000000  ...     0.206293     0.022686   \n",
       "3   0.087886   0.559571   0.002227    0.333333  ...     0.026009     0.074658   \n",
       "4   0.134400   0.841197   0.000700    0.833333  ...     0.049540     0.064444   \n",
       "\n",
       "   feature_212  feature_213  feature_214  feature_215  feature_216  \\\n",
       "0     0.000000      0.00000     0.000000     0.000000     0.000000   \n",
       "1     0.000000      0.00000     0.000000     0.000000     0.000000   \n",
       "2     0.000562      0.50000     0.116689     0.566809     0.020597   \n",
       "3     0.003375      1.00000     0.025595     0.097360     0.020597   \n",
       "4     0.003375      0.85715     0.032973     0.131737     0.020597   \n",
       "\n",
       "   feature_217  feature_218  target  \n",
       "0     0.000000          1.0       1  \n",
       "1     0.000000          1.0       1  \n",
       "2     0.020891          1.0       1  \n",
       "3     0.002580          0.0       1  \n",
       "4     0.002613          1.0       1  \n",
       "\n",
       "[5 rows x 184 columns]"
      ]
     },
     "execution_count": 26,
     "metadata": {},
     "output_type": "execute_result"
    }
   ],
   "source": [
    "datos_copy.head()"
   ]
  },
  {
   "cell_type": "markdown",
   "metadata": {},
   "source": [
    "## Implementación del modelo"
   ]
  },
  {
   "cell_type": "code",
   "execution_count": 27,
   "metadata": {},
   "outputs": [],
   "source": [
    "from sklearn.model_selection import train_test_split"
   ]
  },
  {
   "cell_type": "code",
   "execution_count": 28,
   "metadata": {},
   "outputs": [],
   "source": [
    "X = datos_copy.drop(columns = ['target'])\n",
    "\n",
    "y = datos_copy['target']"
   ]
  },
  {
   "cell_type": "code",
   "execution_count": 29,
   "metadata": {},
   "outputs": [],
   "source": [
    "X_train, X_test, y_train, y_test = train_test_split(X, y, test_size = 0.2, random_state = 42)"
   ]
  },
  {
   "cell_type": "code",
   "execution_count": 30,
   "metadata": {},
   "outputs": [],
   "source": [
    "from tensorflow.keras import Sequential\n",
    "from tensorflow.keras.layers import Dense, Dropout"
   ]
  },
  {
   "cell_type": "code",
   "execution_count": 36,
   "metadata": {},
   "outputs": [],
   "source": [
    "modelo = Sequential()\n",
    "\n",
    "modelo.add(Dense(256, activation = 'tanh', input_shape = (X_train.shape[1],)))\n",
    "modelo.add(Dense(128, activation = 'tanh'))\n",
    "#modelo.add(Dropout(0.2))\n",
    "modelo.add(Dense(64, activation = 'tanh'))\n",
    "modelo.add(Dense(32, activation = 'tanh'))\n",
    "modelo.add(Dense(16, activation = 'tanh'))\n",
    "modelo.add(Dropout(0.2))\n",
    "\n",
    "modelo.add(Dense(1, activation = 'tanh'))"
   ]
  },
  {
   "cell_type": "code",
   "execution_count": 38,
   "metadata": {},
   "outputs": [],
   "source": [
    "modelo.compile(optimizer = 'rmsprop', loss = 'mse', metrics = ['accuracy'])"
   ]
  },
  {
   "cell_type": "code",
   "execution_count": 39,
   "metadata": {},
   "outputs": [
    {
     "name": "stdout",
     "output_type": "stream",
     "text": [
      "Epoch 1/10\n",
      "15118/15118 [==============================] - 119s 8ms/step - loss: 0.1227 - accuracy: 0.8591 - val_loss: 0.1208 - val_accuracy: 0.8595\n",
      "Epoch 2/10\n",
      "15118/15118 [==============================] - 119s 8ms/step - loss: 0.1213 - accuracy: 0.8593 - val_loss: 0.1209 - val_accuracy: 0.8595\n",
      "Epoch 3/10\n",
      "15118/15118 [==============================] - 118s 8ms/step - loss: 0.1211 - accuracy: 0.8593 - val_loss: 0.1209 - val_accuracy: 0.8595\n",
      "Epoch 4/10\n",
      "15118/15118 [==============================] - 124s 8ms/step - loss: 0.1211 - accuracy: 0.8593 - val_loss: 0.1208 - val_accuracy: 0.8595\n",
      "Epoch 5/10\n",
      "15118/15118 [==============================] - 120s 8ms/step - loss: 0.1210 - accuracy: 0.8593 - val_loss: 0.1212 - val_accuracy: 0.8595\n",
      "Epoch 6/10\n",
      "15118/15118 [==============================] - 123s 8ms/step - loss: 0.1210 - accuracy: 0.8593 - val_loss: 0.1206 - val_accuracy: 0.8595\n",
      "Epoch 7/10\n",
      "15118/15118 [==============================] - 125s 8ms/step - loss: 0.1210 - accuracy: 0.8593 - val_loss: 0.1211 - val_accuracy: 0.8595\n",
      "Epoch 8/10\n",
      "15118/15118 [==============================] - 127s 8ms/step - loss: 0.1210 - accuracy: 0.8593 - val_loss: 0.1207 - val_accuracy: 0.8595\n",
      "Epoch 9/10\n",
      "15118/15118 [==============================] - 153s 10ms/step - loss: 0.1210 - accuracy: 0.8593 - val_loss: 0.1208 - val_accuracy: 0.8595\n",
      "Epoch 10/10\n",
      "15118/15118 [==============================] - 129s 9ms/step - loss: 0.1210 - accuracy: 0.8593 - val_loss: 0.1209 - val_accuracy: 0.8595\n"
     ]
    }
   ],
   "source": [
    "history = modelo.fit(X_train, y_train, epochs = 10, batch_size = 25, validation_data = (X_test, y_test), verbose = 1)"
   ]
  },
  {
   "cell_type": "code",
   "execution_count": 40,
   "metadata": {},
   "outputs": [
    {
     "data": {
      "image/png": "[encoded data removed]",
      "text/plain": [
       "<Figure size 960x720 with 1 Axes>"
      ]
     },
     "metadata": {},
     "output_type": "display_data"
    }
   ],
   "source": [
    "fig, ax = plt.subplots(1, 1, figsize = (8,6), dpi = 120)\n",
    "ax.plot(history.history['loss'], lw = 1.3, color = 'darkred', label = 'loss')\n",
    "ax.plot(history.history['accuracy'], lw = 1.3, color = 'dodgerblue', label = 'accuracy')\n",
    "ax.legend()\n",
    "plt.show()"
   ]
  },
  {
   "cell_type": "code",
   "execution_count": 41,
   "metadata": {},
   "outputs": [
    {
     "data": {
      "image/png": "[encoded data removed]",
      "text/plain": [
       "<Figure size 960x720 with 1 Axes>"
      ]
     },
     "metadata": {},
     "output_type": "display_data"
    }
   ],
   "source": [
    "fig, ax = plt.subplots(1, 1, figsize = (8,6), dpi = 120)\n",
    "ax.plot(history.history['val_loss'], lw = 1.3, color = 'darkred', label = 'val loss')\n",
    "ax.plot(history.history['val_accuracy'], lw = 1.3, color = 'dodgerblue', label = 'val accuracy')\n",
    "ax.legend()\n",
    "plt.show()"
   ]
  },
  {
   "cell_type": "markdown",
   "metadata": {},
   "source": [
    "### Predicción del modelo"
   ]
  },
  {
   "cell_type": "code",
   "execution_count": 42,
   "metadata": {},
   "outputs": [
    {
     "data": {
      "text/html": [
       "<div>\n",
       "<style scoped>\n",
       "    .dataframe tbody tr th:only-of-type {\n",
       "        vertical-align: middle;\n",
       "    }\n",
       "\n",
       "    .dataframe tbody tr th {\n",
       "        vertical-align: top;\n",
       "    }\n",
       "\n",
       "    .dataframe thead th {\n",
       "        text-align: right;\n",
       "    }\n",
       "</style>\n",
       "<table border=\"1\" class=\"dataframe\">\n",
       "  <thead>\n",
       "    <tr style=\"text-align: right;\">\n",
       "      <th></th>\n",
       "      <th>feature_1</th>\n",
       "      <th>feature_2</th>\n",
       "      <th>feature_3</th>\n",
       "      <th>feature_4</th>\n",
       "      <th>feature_5</th>\n",
       "      <th>feature_6</th>\n",
       "      <th>feature_7</th>\n",
       "      <th>feature_8</th>\n",
       "      <th>feature_9</th>\n",
       "      <th>feature_10</th>\n",
       "      <th>...</th>\n",
       "      <th>feature_209</th>\n",
       "      <th>feature_210</th>\n",
       "      <th>feature_211</th>\n",
       "      <th>feature_212</th>\n",
       "      <th>feature_213</th>\n",
       "      <th>feature_214</th>\n",
       "      <th>feature_215</th>\n",
       "      <th>feature_216</th>\n",
       "      <th>feature_217</th>\n",
       "      <th>feature_218</th>\n",
       "    </tr>\n",
       "  </thead>\n",
       "  <tbody>\n",
       "    <tr>\n",
       "      <th>0</th>\n",
       "      <td>0.616277</td>\n",
       "      <td>0.5</td>\n",
       "      <td>0.0</td>\n",
       "      <td>0.000000</td>\n",
       "      <td>0.099574</td>\n",
       "      <td>0.009777</td>\n",
       "      <td>0.250000</td>\n",
       "      <td>0.777850</td>\n",
       "      <td>0.004666</td>\n",
       "      <td>0.666667</td>\n",
       "      <td>...</td>\n",
       "      <td>0.55</td>\n",
       "      <td>0.084877</td>\n",
       "      <td>0.084301</td>\n",
       "      <td>0.009744</td>\n",
       "      <td>0.85</td>\n",
       "      <td>0.053579</td>\n",
       "      <td>0.205928</td>\n",
       "      <td>0.084301</td>\n",
       "      <td>0.014128</td>\n",
       "      <td>0.0</td>\n",
       "    </tr>\n",
       "    <tr>\n",
       "      <th>1</th>\n",
       "      <td>0.239266</td>\n",
       "      <td>0.0</td>\n",
       "      <td>0.0</td>\n",
       "      <td>0.000189</td>\n",
       "      <td>0.391774</td>\n",
       "      <td>0.006983</td>\n",
       "      <td>0.208375</td>\n",
       "      <td>0.561785</td>\n",
       "      <td>0.001886</td>\n",
       "      <td>0.500000</td>\n",
       "      <td>...</td>\n",
       "      <td>0.50</td>\n",
       "      <td>0.027562</td>\n",
       "      <td>0.034084</td>\n",
       "      <td>0.003654</td>\n",
       "      <td>1.00</td>\n",
       "      <td>0.035562</td>\n",
       "      <td>0.118498</td>\n",
       "      <td>0.028083</td>\n",
       "      <td>0.004438</td>\n",
       "      <td>1.0</td>\n",
       "    </tr>\n",
       "    <tr>\n",
       "      <th>2</th>\n",
       "      <td>0.486676</td>\n",
       "      <td>0.5</td>\n",
       "      <td>0.0</td>\n",
       "      <td>0.000000</td>\n",
       "      <td>0.427581</td>\n",
       "      <td>0.000000</td>\n",
       "      <td>0.277750</td>\n",
       "      <td>0.582175</td>\n",
       "      <td>0.006553</td>\n",
       "      <td>0.500000</td>\n",
       "      <td>...</td>\n",
       "      <td>0.00</td>\n",
       "      <td>0.000000</td>\n",
       "      <td>0.000000</td>\n",
       "      <td>0.000000</td>\n",
       "      <td>0.00</td>\n",
       "      <td>0.000000</td>\n",
       "      <td>0.000000</td>\n",
       "      <td>0.000000</td>\n",
       "      <td>0.000000</td>\n",
       "      <td>1.0</td>\n",
       "    </tr>\n",
       "    <tr>\n",
       "      <th>3</th>\n",
       "      <td>0.455066</td>\n",
       "      <td>0.5</td>\n",
       "      <td>0.0</td>\n",
       "      <td>NaN</td>\n",
       "      <td>0.363796</td>\n",
       "      <td>0.001397</td>\n",
       "      <td>0.096125</td>\n",
       "      <td>0.657557</td>\n",
       "      <td>0.002383</td>\n",
       "      <td>0.666667</td>\n",
       "      <td>...</td>\n",
       "      <td>0.00</td>\n",
       "      <td>0.000000</td>\n",
       "      <td>0.000000</td>\n",
       "      <td>0.000000</td>\n",
       "      <td>0.00</td>\n",
       "      <td>0.000000</td>\n",
       "      <td>0.000000</td>\n",
       "      <td>0.000000</td>\n",
       "      <td>0.000000</td>\n",
       "      <td>0.0</td>\n",
       "    </tr>\n",
       "    <tr>\n",
       "      <th>4</th>\n",
       "      <td>0.490666</td>\n",
       "      <td>0.0</td>\n",
       "      <td>0.0</td>\n",
       "      <td>0.000000</td>\n",
       "      <td>0.253376</td>\n",
       "      <td>0.009777</td>\n",
       "      <td>0.500000</td>\n",
       "      <td>0.632926</td>\n",
       "      <td>0.000000</td>\n",
       "      <td>NaN</td>\n",
       "      <td>...</td>\n",
       "      <td>0.00</td>\n",
       "      <td>0.000000</td>\n",
       "      <td>0.000000</td>\n",
       "      <td>0.000000</td>\n",
       "      <td>0.00</td>\n",
       "      <td>0.000000</td>\n",
       "      <td>0.000000</td>\n",
       "      <td>0.000000</td>\n",
       "      <td>0.000000</td>\n",
       "      <td>1.0</td>\n",
       "    </tr>\n",
       "  </tbody>\n",
       "</table>\n",
       "<p>5 rows × 218 columns</p>\n",
       "</div>"
      ],
      "text/plain": [
       "   feature_1  feature_2  feature_3  feature_4  feature_5  feature_6  \\\n",
       "0   0.616277        0.5        0.0   0.000000   0.099574   0.009777   \n",
       "1   0.239266        0.0        0.0   0.000189   0.391774   0.006983   \n",
       "2   0.486676        0.5        0.0   0.000000   0.427581   0.000000   \n",
       "3   0.455066        0.5        0.0        NaN   0.363796   0.001397   \n",
       "4   0.490666        0.0        0.0   0.000000   0.253376   0.009777   \n",
       "\n",
       "   feature_7  feature_8  feature_9  feature_10  ...  feature_209  feature_210  \\\n",
       "0   0.250000   0.777850   0.004666    0.666667  ...         0.55     0.084877   \n",
       "1   0.208375   0.561785   0.001886    0.500000  ...         0.50     0.027562   \n",
       "2   0.277750   0.582175   0.006553    0.500000  ...         0.00     0.000000   \n",
       "3   0.096125   0.657557   0.002383    0.666667  ...         0.00     0.000000   \n",
       "4   0.500000   0.632926   0.000000         NaN  ...         0.00     0.000000   \n",
       "\n",
       "   feature_211  feature_212  feature_213  feature_214 feature_215  \\\n",
       "0     0.084301     0.009744         0.85     0.053579    0.205928   \n",
       "1     0.034084     0.003654         1.00     0.035562    0.118498   \n",
       "2     0.000000     0.000000         0.00     0.000000    0.000000   \n",
       "3     0.000000     0.000000         0.00     0.000000    0.000000   \n",
       "4     0.000000     0.000000         0.00     0.000000    0.000000   \n",
       "\n",
       "   feature_216  feature_217  feature_218  \n",
       "0     0.084301     0.014128          0.0  \n",
       "1     0.028083     0.004438          1.0  \n",
       "2     0.000000     0.000000          1.0  \n",
       "3     0.000000     0.000000          0.0  \n",
       "4     0.000000     0.000000          1.0  \n",
       "\n",
       "[5 rows x 218 columns]"
      ]
     },
     "execution_count": 42,
     "metadata": {},
     "output_type": "execute_result"
    }
   ],
   "source": [
    "validation_data = pd.read_pickle(\"Data/validation_sample_1.pkl\")\n",
    "\n",
    "validation_data.head()"
   ]
  },
  {
   "cell_type": "code",
   "execution_count": 43,
   "metadata": {},
   "outputs": [
    {
     "data": {
      "text/plain": [
       "float32     118\n",
       "float64      89\n",
       "category      1\n",
       "category      1\n",
       "category      1\n",
       "category      1\n",
       "category      1\n",
       "category      1\n",
       "category      1\n",
       "object        1\n",
       "category      1\n",
       "category      1\n",
       "category      1\n",
       "dtype: int64"
      ]
     },
     "execution_count": 43,
     "metadata": {},
     "output_type": "execute_result"
    }
   ],
   "source": [
    "validation_data.dtypes.value_counts()"
   ]
  },
  {
   "cell_type": "code",
   "execution_count": 44,
   "metadata": {},
   "outputs": [],
   "source": [
    "categorical_val = validation_data.select_dtypes(include = ['object', 'category']).columns"
   ]
  },
  {
   "cell_type": "code",
   "execution_count": 45,
   "metadata": {},
   "outputs": [],
   "source": [
    "validation_data_copy = validation_data.copy()"
   ]
  },
  {
   "cell_type": "code",
   "execution_count": 46,
   "metadata": {},
   "outputs": [],
   "source": [
    "le_2 = LabelEncoder()"
   ]
  },
  {
   "cell_type": "code",
   "execution_count": 47,
   "metadata": {},
   "outputs": [],
   "source": [
    "validation_data_copy[categorical_val] = validation_data_copy[categorical_val].apply(lambda col: le_2.fit_transform(col))\n"
   ]
  },
  {
   "cell_type": "code",
   "execution_count": null,
   "metadata": {},
   "outputs": [],
   "source": [
    "# cols_to_drop = validation_data_copy.select_dtypes(include = ['category', 'object']).columns\n",
    "\n",
    "# validation_data_copy.drop(columns = cols_to_drop, inplace = True)"
   ]
  },
  {
   "cell_type": "code",
   "execution_count": 48,
   "metadata": {},
   "outputs": [],
   "source": [
    "nans_val = validation_data_copy.columns[validation_data_copy.isnull().any()]"
   ]
  },
  {
   "cell_type": "code",
   "execution_count": 49,
   "metadata": {},
   "outputs": [
    {
     "data": {
      "text/plain": [
       "Index(['feature_4', 'feature_10', 'feature_15', 'feature_16', 'feature_51',\n",
       "       'feature_53', 'feature_73', 'feature_74', 'feature_83', 'feature_84',\n",
       "       'feature_90', 'feature_91', 'feature_92', 'feature_103', 'feature_121',\n",
       "       'feature_122', 'feature_128', 'feature_131', 'feature_132',\n",
       "       'feature_133', 'feature_134', 'feature_149', 'feature_151',\n",
       "       'feature_153', 'feature_154', 'feature_167', 'feature_169',\n",
       "       'feature_170', 'feature_172', 'feature_173', 'feature_174',\n",
       "       'feature_175', 'feature_176', 'feature_177', 'feature_178',\n",
       "       'feature_179', 'feature_180', 'feature_181', 'feature_182',\n",
       "       'feature_183', 'feature_184', 'feature_185', 'feature_186',\n",
       "       'feature_188', 'feature_190'],\n",
       "      dtype='object')"
      ]
     },
     "execution_count": 49,
     "metadata": {},
     "output_type": "execute_result"
    }
   ],
   "source": [
    "nans_val"
   ]
  },
  {
   "cell_type": "code",
   "execution_count": 50,
   "metadata": {},
   "outputs": [],
   "source": [
    "for col in nans_val:\n",
    "\n",
    "    validation_data_copy[col].fillna(validation_data_copy[col].mean(), inplace = True)"
   ]
  },
  {
   "cell_type": "code",
   "execution_count": 53,
   "metadata": {},
   "outputs": [
    {
     "ename": "KeyError",
     "evalue": "\"['target'] not in index\"",
     "output_type": "error",
     "traceback": [
      "\u001b[1;31m---------------------------------------------------------------------------\u001b[0m",
      "\u001b[1;31mKeyError\u001b[0m                                  Traceback (most recent call last)",
      "\u001b[1;32mc:\\Users\\franz\\Desktop\\Baubap\\baubap-nn-challenge\\Notebooks\\data_exploratory.ipynb Cell 56\u001b[0m in \u001b[0;36m3\n\u001b[0;32m      <a href='vscode-notebook-cell:/c%3A/Users/franz/Desktop/Baubap/baubap-nn-challenge/Notebooks/data_exploratory.ipynb#Y151sZmlsZQ%3D%3D?line=0'>1</a>\u001b[0m cols_as_train \u001b[39m=\u001b[39m datos_copy\u001b[39m.\u001b[39mcolumns\n\u001b[1;32m----> <a href='vscode-notebook-cell:/c%3A/Users/franz/Desktop/Baubap/baubap-nn-challenge/Notebooks/data_exploratory.ipynb#Y151sZmlsZQ%3D%3D?line=2'>3</a>\u001b[0m validation_data_copy \u001b[39m=\u001b[39m validation_data_copy[cols_as_train]\n",
      "File \u001b[1;32mc:\\Users\\franz\\miniconda3\\envs\\tf-gpu\\lib\\site-packages\\pandas\\core\\frame.py:3811\u001b[0m, in \u001b[0;36mDataFrame.__getitem__\u001b[1;34m(self, key)\u001b[0m\n\u001b[0;32m   3809\u001b[0m     \u001b[39mif\u001b[39;00m is_iterator(key):\n\u001b[0;32m   3810\u001b[0m         key \u001b[39m=\u001b[39m \u001b[39mlist\u001b[39m(key)\n\u001b[1;32m-> 3811\u001b[0m     indexer \u001b[39m=\u001b[39m \u001b[39mself\u001b[39;49m\u001b[39m.\u001b[39;49mcolumns\u001b[39m.\u001b[39;49m_get_indexer_strict(key, \u001b[39m\"\u001b[39;49m\u001b[39mcolumns\u001b[39;49m\u001b[39m\"\u001b[39;49m)[\u001b[39m1\u001b[39m]\n\u001b[0;32m   3813\u001b[0m \u001b[39m# take() does not accept boolean indexers\u001b[39;00m\n\u001b[0;32m   3814\u001b[0m \u001b[39mif\u001b[39;00m \u001b[39mgetattr\u001b[39m(indexer, \u001b[39m\"\u001b[39m\u001b[39mdtype\u001b[39m\u001b[39m\"\u001b[39m, \u001b[39mNone\u001b[39;00m) \u001b[39m==\u001b[39m \u001b[39mbool\u001b[39m:\n",
      "File \u001b[1;32mc:\\Users\\franz\\miniconda3\\envs\\tf-gpu\\lib\\site-packages\\pandas\\core\\indexes\\base.py:6108\u001b[0m, in \u001b[0;36mIndex._get_indexer_strict\u001b[1;34m(self, key, axis_name)\u001b[0m\n\u001b[0;32m   6105\u001b[0m \u001b[39melse\u001b[39;00m:\n\u001b[0;32m   6106\u001b[0m     keyarr, indexer, new_indexer \u001b[39m=\u001b[39m \u001b[39mself\u001b[39m\u001b[39m.\u001b[39m_reindex_non_unique(keyarr)\n\u001b[1;32m-> 6108\u001b[0m \u001b[39mself\u001b[39;49m\u001b[39m.\u001b[39;49m_raise_if_missing(keyarr, indexer, axis_name)\n\u001b[0;32m   6110\u001b[0m keyarr \u001b[39m=\u001b[39m \u001b[39mself\u001b[39m\u001b[39m.\u001b[39mtake(indexer)\n\u001b[0;32m   6111\u001b[0m \u001b[39mif\u001b[39;00m \u001b[39misinstance\u001b[39m(key, Index):\n\u001b[0;32m   6112\u001b[0m     \u001b[39m# GH 42790 - Preserve name from an Index\u001b[39;00m\n",
      "File \u001b[1;32mc:\\Users\\franz\\miniconda3\\envs\\tf-gpu\\lib\\site-packages\\pandas\\core\\indexes\\base.py:6171\u001b[0m, in \u001b[0;36mIndex._raise_if_missing\u001b[1;34m(self, key, indexer, axis_name)\u001b[0m\n\u001b[0;32m   6168\u001b[0m     \u001b[39mraise\u001b[39;00m \u001b[39mKeyError\u001b[39;00m(\u001b[39mf\u001b[39m\u001b[39m\"\u001b[39m\u001b[39mNone of [\u001b[39m\u001b[39m{\u001b[39;00mkey\u001b[39m}\u001b[39;00m\u001b[39m] are in the [\u001b[39m\u001b[39m{\u001b[39;00maxis_name\u001b[39m}\u001b[39;00m\u001b[39m]\u001b[39m\u001b[39m\"\u001b[39m)\n\u001b[0;32m   6170\u001b[0m not_found \u001b[39m=\u001b[39m \u001b[39mlist\u001b[39m(ensure_index(key)[missing_mask\u001b[39m.\u001b[39mnonzero()[\u001b[39m0\u001b[39m]]\u001b[39m.\u001b[39munique())\n\u001b[1;32m-> 6171\u001b[0m \u001b[39mraise\u001b[39;00m \u001b[39mKeyError\u001b[39;00m(\u001b[39mf\u001b[39m\u001b[39m\"\u001b[39m\u001b[39m{\u001b[39;00mnot_found\u001b[39m}\u001b[39;00m\u001b[39m not in index\u001b[39m\u001b[39m\"\u001b[39m)\n",
      "\u001b[1;31mKeyError\u001b[0m: \"['target'] not in index\""
     ]
    }
   ],
   "source": [
    "cols_as_train = datos_copy.columns\n",
    "\n",
    "validation_data_copy = validation_data_copy[cols_as_train]"
   ]
  },
  {
   "cell_type": "markdown",
   "metadata": {},
   "source": [
    "Verificamos que coincidan:"
   ]
  },
  {
   "cell_type": "code",
   "execution_count": 52,
   "metadata": {},
   "outputs": [
    {
     "name": "stdout",
     "output_type": "stream",
     "text": [
      "(472422, 184)\n",
      "(500, 218)\n"
     ]
    }
   ],
   "source": [
    "print(datos_copy.shape)\n",
    "print(validation_data_copy.shape)"
   ]
  },
  {
   "cell_type": "code",
   "execution_count": null,
   "metadata": {},
   "outputs": [],
   "source": [
    "validation_predictions = modelo.predict(validation_data_copy)"
   ]
  },
  {
   "cell_type": "code",
   "execution_count": null,
   "metadata": {},
   "outputs": [],
   "source": [
    "# import statsmodels.api as sm\n",
    "\n",
    "# from sklearn.decomposition import PCA\n",
    "# from sklearn.pipeline import make_pipeline\n",
    "# from sklearn.preprocessing import StandardScaler\n",
    "# from sklearn.preprocessing import scale"
   ]
  },
  {
   "cell_type": "code",
   "execution_count": null,
   "metadata": {},
   "outputs": [],
   "source": [
    "# Entrenamiento modelo PCA con escalado de los datos\n",
    "\n",
    "# pca_pipe = make_pipeline(StandardScaler(), PCA())\n",
    "# pca_pipe.fit(datos_copy)"
   ]
  },
  {
   "cell_type": "code",
   "execution_count": null,
   "metadata": {},
   "outputs": [],
   "source": [
    "# modelo_pca = pca_pipe.named_steps['pca']"
   ]
  },
  {
   "cell_type": "markdown",
   "metadata": {},
   "source": [
    "Una vez entrenado el objeto `PCA`, podemos acceder a toda la información de las componentes.\n",
    "\n",
    "`components_` contiene el valor $\\phi$ que definen a cada eigenvector. Las filas corresponden a las componentes principales (de mayor a menor)."
   ]
  },
  {
   "cell_type": "code",
   "execution_count": null,
   "metadata": {},
   "outputs": [],
   "source": [
    "# PCA = pd.DataFrame(\n",
    "#     data = modelo_pca.components_,\n",
    "#     columns = datos_copy.columns,\n",
    "# )"
   ]
  },
  {
   "cell_type": "code",
   "execution_count": null,
   "metadata": {},
   "outputs": [],
   "source": [
    "# PCA"
   ]
  },
  {
   "cell_type": "code",
   "execution_count": null,
   "metadata": {},
   "outputs": [],
   "source": [
    "# fig, ax = plt.subplots(1, 1, figsize = (14,10))\n",
    "# componentes = modelo_pca.components_\n",
    "# plt.imshow(componentes.T, cmap = 'viridis', aspect = 'auto')\n",
    "# plt.yticks(range(len(datos_copy.columns)), datos_copy.columns)\n",
    "# plt.xticks(range(len(datos_copy.columns)), np.arange(modelo_pca.n_components_) + 1)\n",
    "# plt.grid(False)\n",
    "# plt.colorbar()"
   ]
  },
  {
   "cell_type": "code",
   "execution_count": null,
   "metadata": {},
   "outputs": [],
   "source": [
    "#from statsmodels.stats.outliers_influence import variance_inflation_factor"
   ]
  },
  {
   "cell_type": "markdown",
   "metadata": {},
   "source": [
    "Optimizar en cada fase hasta 4 parámetros:\n",
    "\n",
    "Phase 1: Learning\n",
    "Phase 2: Complexity\n",
    "Phase 3: Regularization\n",
    "Phase 4: Universal\n",
    "\n",
    "óptimización de búsqueda bayesiana"
   ]
  }
 ],
 "metadata": {
  "kernelspec": {
   "display_name": "Python 3",
   "language": "python",
   "name": "python3"
  },
  "language_info": {
   "codemirror_mode": {
    "name": "ipython",
    "version": 3
   },
   "file_extension": ".py",
   "mimetype": "text/x-python",
   "name": "python",
   "nbconvert_exporter": "python",
   "pygments_lexer": "ipython3",
   "version": "3.9.13"
  },
  "orig_nbformat": 4
 },
 "nbformat": 4,
 "nbformat_minor": 2
}
