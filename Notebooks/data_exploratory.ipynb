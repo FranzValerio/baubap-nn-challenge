{
 "cells": [
  {
   "cell_type": "markdown",
   "metadata": {},
   "source": [
    "# Análisis exploratorio de datos - Baubap AI Challenge 2023 \n",
    "## Por: Rafael Sánchez Cedillo, Francisco Valerio López\n",
    "\n",
    "### Neural networks challenge\n",
    "\n",
    "El objetivo consiste en predecir con la mayor precisión la variable objetivo. \n",
    "El primer paso entonces sería conocer cuál es la variable objetivo y cuáles son las variables que tienen mayor importancia para generar el modelo de regresión."
   ]
  },
  {
   "cell_type": "code",
   "execution_count": 1,
   "metadata": {},
   "outputs": [],
   "source": [
    "#pip install imbalanced-learn"
   ]
  },
  {
   "cell_type": "code",
   "execution_count": 2,
   "metadata": {},
   "outputs": [],
   "source": [
    "#pip install optuna"
   ]
  },
  {
   "cell_type": "code",
   "execution_count": 3,
   "metadata": {},
   "outputs": [],
   "source": [
    "import numpy as np\n",
    "import matplotlib.pyplot as plt\n",
    "import pandas as pd\n",
    "import seaborn as sns\n",
    "import tensorflow as tf"
   ]
  },
  {
   "cell_type": "markdown",
   "metadata": {},
   "source": [
    "### Importación y análisis exploratorio de datos\n",
    "\n",
    "Ideas:\n",
    "\n",
    "- Utilizar `head()`, `describe()` e `info()`\n",
    "- Visualizar la distribución de la variable objetivo y de las otras características\n",
    "- Identificar NaNs y buscar outliers\n",
    "\n",
    "### Datos de entrenamiento"
   ]
  },
  {
   "cell_type": "code",
   "execution_count": 4,
   "metadata": {},
   "outputs": [],
   "source": [
    "datos = pd.read_pickle(\"Data/nn_challenge_train.pkl\")"
   ]
  },
  {
   "cell_type": "code",
   "execution_count": 5,
   "metadata": {},
   "outputs": [
    {
     "data": {
      "text/html": [
       "<div>\n",
       "<style scoped>\n",
       "    .dataframe tbody tr th:only-of-type {\n",
       "        vertical-align: middle;\n",
       "    }\n",
       "\n",
       "    .dataframe tbody tr th {\n",
       "        vertical-align: top;\n",
       "    }\n",
       "\n",
       "    .dataframe thead th {\n",
       "        text-align: right;\n",
       "    }\n",
       "</style>\n",
       "<table border=\"1\" class=\"dataframe\">\n",
       "  <thead>\n",
       "    <tr style=\"text-align: right;\">\n",
       "      <th></th>\n",
       "      <th>feature_1</th>\n",
       "      <th>feature_2</th>\n",
       "      <th>feature_3</th>\n",
       "      <th>feature_4</th>\n",
       "      <th>feature_5</th>\n",
       "      <th>feature_6</th>\n",
       "      <th>feature_7</th>\n",
       "      <th>feature_8</th>\n",
       "      <th>feature_9</th>\n",
       "      <th>feature_10</th>\n",
       "      <th>...</th>\n",
       "      <th>feature_210</th>\n",
       "      <th>feature_211</th>\n",
       "      <th>feature_212</th>\n",
       "      <th>feature_213</th>\n",
       "      <th>feature_214</th>\n",
       "      <th>feature_215</th>\n",
       "      <th>feature_216</th>\n",
       "      <th>feature_217</th>\n",
       "      <th>feature_218</th>\n",
       "      <th>target</th>\n",
       "    </tr>\n",
       "  </thead>\n",
       "  <tbody>\n",
       "    <tr>\n",
       "      <th>0</th>\n",
       "      <td>0.554222</td>\n",
       "      <td>1.0</td>\n",
       "      <td>0.0</td>\n",
       "      <td>0.000000</td>\n",
       "      <td>0.398189</td>\n",
       "      <td>0.000000</td>\n",
       "      <td>0.190514</td>\n",
       "      <td>0.774141</td>\n",
       "      <td>0.004995</td>\n",
       "      <td>0.666667</td>\n",
       "      <td>...</td>\n",
       "      <td>0.000000</td>\n",
       "      <td>0.000000</td>\n",
       "      <td>0.000000</td>\n",
       "      <td>0.00000</td>\n",
       "      <td>0.000000</td>\n",
       "      <td>0.000000</td>\n",
       "      <td>0.000000</td>\n",
       "      <td>0.000000</td>\n",
       "      <td>1.0</td>\n",
       "      <td>1</td>\n",
       "    </tr>\n",
       "    <tr>\n",
       "      <th>1</th>\n",
       "      <td>0.521013</td>\n",
       "      <td>0.5</td>\n",
       "      <td>0.0</td>\n",
       "      <td>NaN</td>\n",
       "      <td>0.299222</td>\n",
       "      <td>0.000649</td>\n",
       "      <td>0.000000</td>\n",
       "      <td>0.827157</td>\n",
       "      <td>0.000668</td>\n",
       "      <td>0.000000</td>\n",
       "      <td>...</td>\n",
       "      <td>0.000000</td>\n",
       "      <td>0.000000</td>\n",
       "      <td>0.000000</td>\n",
       "      <td>0.00000</td>\n",
       "      <td>0.000000</td>\n",
       "      <td>0.000000</td>\n",
       "      <td>0.000000</td>\n",
       "      <td>0.000000</td>\n",
       "      <td>1.0</td>\n",
       "      <td>1</td>\n",
       "    </tr>\n",
       "    <tr>\n",
       "      <th>2</th>\n",
       "      <td>0.545612</td>\n",
       "      <td>1.0</td>\n",
       "      <td>0.0</td>\n",
       "      <td>0.000102</td>\n",
       "      <td>0.248790</td>\n",
       "      <td>0.000000</td>\n",
       "      <td>0.571429</td>\n",
       "      <td>0.851531</td>\n",
       "      <td>0.000604</td>\n",
       "      <td>0.000000</td>\n",
       "      <td>...</td>\n",
       "      <td>0.206293</td>\n",
       "      <td>0.022686</td>\n",
       "      <td>0.000562</td>\n",
       "      <td>0.50000</td>\n",
       "      <td>0.116689</td>\n",
       "      <td>0.566809</td>\n",
       "      <td>0.020597</td>\n",
       "      <td>0.020891</td>\n",
       "      <td>1.0</td>\n",
       "      <td>1</td>\n",
       "    </tr>\n",
       "    <tr>\n",
       "      <th>3</th>\n",
       "      <td>0.593774</td>\n",
       "      <td>0.5</td>\n",
       "      <td>0.0</td>\n",
       "      <td>0.000000</td>\n",
       "      <td>0.412052</td>\n",
       "      <td>0.001299</td>\n",
       "      <td>0.087886</td>\n",
       "      <td>0.559571</td>\n",
       "      <td>0.002227</td>\n",
       "      <td>0.333333</td>\n",
       "      <td>...</td>\n",
       "      <td>0.026009</td>\n",
       "      <td>0.074658</td>\n",
       "      <td>0.003375</td>\n",
       "      <td>1.00000</td>\n",
       "      <td>0.025595</td>\n",
       "      <td>0.097360</td>\n",
       "      <td>0.020597</td>\n",
       "      <td>0.002580</td>\n",
       "      <td>0.0</td>\n",
       "      <td>1</td>\n",
       "    </tr>\n",
       "    <tr>\n",
       "      <th>4</th>\n",
       "      <td>0.278900</td>\n",
       "      <td>0.0</td>\n",
       "      <td>0.0</td>\n",
       "      <td>0.000000</td>\n",
       "      <td>0.160199</td>\n",
       "      <td>0.009740</td>\n",
       "      <td>0.134400</td>\n",
       "      <td>0.841197</td>\n",
       "      <td>0.000700</td>\n",
       "      <td>0.833333</td>\n",
       "      <td>...</td>\n",
       "      <td>0.049540</td>\n",
       "      <td>0.064444</td>\n",
       "      <td>0.003375</td>\n",
       "      <td>0.85715</td>\n",
       "      <td>0.032973</td>\n",
       "      <td>0.131737</td>\n",
       "      <td>0.020597</td>\n",
       "      <td>0.002613</td>\n",
       "      <td>1.0</td>\n",
       "      <td>1</td>\n",
       "    </tr>\n",
       "  </tbody>\n",
       "</table>\n",
       "<p>5 rows × 219 columns</p>\n",
       "</div>"
      ],
      "text/plain": [
       "   feature_1  feature_2  feature_3  feature_4  feature_5  feature_6  \\\n",
       "0   0.554222        1.0        0.0   0.000000   0.398189   0.000000   \n",
       "1   0.521013        0.5        0.0        NaN   0.299222   0.000649   \n",
       "2   0.545612        1.0        0.0   0.000102   0.248790   0.000000   \n",
       "3   0.593774        0.5        0.0   0.000000   0.412052   0.001299   \n",
       "4   0.278900        0.0        0.0   0.000000   0.160199   0.009740   \n",
       "\n",
       "   feature_7  feature_8  feature_9  feature_10  ...  feature_210  feature_211  \\\n",
       "0   0.190514   0.774141   0.004995    0.666667  ...     0.000000     0.000000   \n",
       "1   0.000000   0.827157   0.000668    0.000000  ...     0.000000     0.000000   \n",
       "2   0.571429   0.851531   0.000604    0.000000  ...     0.206293     0.022686   \n",
       "3   0.087886   0.559571   0.002227    0.333333  ...     0.026009     0.074658   \n",
       "4   0.134400   0.841197   0.000700    0.833333  ...     0.049540     0.064444   \n",
       "\n",
       "   feature_212  feature_213  feature_214  feature_215 feature_216  \\\n",
       "0     0.000000      0.00000     0.000000     0.000000    0.000000   \n",
       "1     0.000000      0.00000     0.000000     0.000000    0.000000   \n",
       "2     0.000562      0.50000     0.116689     0.566809    0.020597   \n",
       "3     0.003375      1.00000     0.025595     0.097360    0.020597   \n",
       "4     0.003375      0.85715     0.032973     0.131737    0.020597   \n",
       "\n",
       "   feature_217  feature_218  target  \n",
       "0     0.000000          1.0       1  \n",
       "1     0.000000          1.0       1  \n",
       "2     0.020891          1.0       1  \n",
       "3     0.002580          0.0       1  \n",
       "4     0.002613          1.0       1  \n",
       "\n",
       "[5 rows x 219 columns]"
      ]
     },
     "execution_count": 5,
     "metadata": {},
     "output_type": "execute_result"
    }
   ],
   "source": [
    "datos.head()"
   ]
  },
  {
   "cell_type": "code",
   "execution_count": 6,
   "metadata": {},
   "outputs": [
    {
     "data": {
      "text/plain": [
       "(472422, 219)"
      ]
     },
     "execution_count": 6,
     "metadata": {},
     "output_type": "execute_result"
    }
   ],
   "source": [
    "datos.shape"
   ]
  },
  {
   "cell_type": "code",
   "execution_count": 7,
   "metadata": {},
   "outputs": [
    {
     "data": {
      "text/html": [
       "<div>\n",
       "<style scoped>\n",
       "    .dataframe tbody tr th:only-of-type {\n",
       "        vertical-align: middle;\n",
       "    }\n",
       "\n",
       "    .dataframe tbody tr th {\n",
       "        vertical-align: top;\n",
       "    }\n",
       "\n",
       "    .dataframe thead th {\n",
       "        text-align: right;\n",
       "    }\n",
       "</style>\n",
       "<table border=\"1\" class=\"dataframe\">\n",
       "  <thead>\n",
       "    <tr style=\"text-align: right;\">\n",
       "      <th></th>\n",
       "      <th>feature_1</th>\n",
       "      <th>feature_2</th>\n",
       "      <th>feature_3</th>\n",
       "      <th>feature_4</th>\n",
       "      <th>feature_5</th>\n",
       "      <th>feature_6</th>\n",
       "      <th>feature_7</th>\n",
       "      <th>feature_8</th>\n",
       "      <th>feature_9</th>\n",
       "      <th>feature_10</th>\n",
       "      <th>...</th>\n",
       "      <th>feature_210</th>\n",
       "      <th>feature_211</th>\n",
       "      <th>feature_212</th>\n",
       "      <th>feature_213</th>\n",
       "      <th>feature_214</th>\n",
       "      <th>feature_215</th>\n",
       "      <th>feature_216</th>\n",
       "      <th>feature_217</th>\n",
       "      <th>feature_218</th>\n",
       "      <th>target</th>\n",
       "    </tr>\n",
       "  </thead>\n",
       "  <tbody>\n",
       "    <tr>\n",
       "      <th>count</th>\n",
       "      <td>472422.000000</td>\n",
       "      <td>472420.000000</td>\n",
       "      <td>471254.000000</td>\n",
       "      <td>435576.000000</td>\n",
       "      <td>472422.000000</td>\n",
       "      <td>471256.000000</td>\n",
       "      <td>472422.000000</td>\n",
       "      <td>472422.000000</td>\n",
       "      <td>471256.000000</td>\n",
       "      <td>449700.000000</td>\n",
       "      <td>...</td>\n",
       "      <td>472420.000000</td>\n",
       "      <td>472420.000000</td>\n",
       "      <td>472420.000000</td>\n",
       "      <td>472420.000000</td>\n",
       "      <td>472420.000000</td>\n",
       "      <td>472420.000000</td>\n",
       "      <td>472420.000000</td>\n",
       "      <td>472420.000000</td>\n",
       "      <td>471255.000000</td>\n",
       "      <td>472422.000000</td>\n",
       "    </tr>\n",
       "    <tr>\n",
       "      <th>mean</th>\n",
       "      <td>0.518669</td>\n",
       "      <td>0.544020</td>\n",
       "      <td>0.004611</td>\n",
       "      <td>0.000691</td>\n",
       "      <td>0.312839</td>\n",
       "      <td>0.015258</td>\n",
       "      <td>0.249711</td>\n",
       "      <td>0.727841</td>\n",
       "      <td>0.001884</td>\n",
       "      <td>0.513358</td>\n",
       "      <td>...</td>\n",
       "      <td>0.080568</td>\n",
       "      <td>0.091190</td>\n",
       "      <td>0.003238</td>\n",
       "      <td>0.584832</td>\n",
       "      <td>0.040472</td>\n",
       "      <td>0.154438</td>\n",
       "      <td>0.057250</td>\n",
       "      <td>0.004895</td>\n",
       "      <td>0.653336</td>\n",
       "      <td>0.859308</td>\n",
       "    </tr>\n",
       "    <tr>\n",
       "      <th>std</th>\n",
       "      <td>0.108863</td>\n",
       "      <td>0.324083</td>\n",
       "      <td>0.018434</td>\n",
       "      <td>0.010233</td>\n",
       "      <td>0.112954</td>\n",
       "      <td>0.025510</td>\n",
       "      <td>0.145240</td>\n",
       "      <td>0.110845</td>\n",
       "      <td>0.006095</td>\n",
       "      <td>0.318793</td>\n",
       "      <td>...</td>\n",
       "      <td>0.089586</td>\n",
       "      <td>0.115406</td>\n",
       "      <td>0.009128</td>\n",
       "      <td>0.358869</td>\n",
       "      <td>0.043787</td>\n",
       "      <td>0.123564</td>\n",
       "      <td>0.103643</td>\n",
       "      <td>0.016048</td>\n",
       "      <td>0.475908</td>\n",
       "      <td>0.347704</td>\n",
       "    </tr>\n",
       "    <tr>\n",
       "      <th>min</th>\n",
       "      <td>0.000000</td>\n",
       "      <td>0.000000</td>\n",
       "      <td>0.000000</td>\n",
       "      <td>0.000000</td>\n",
       "      <td>0.000000</td>\n",
       "      <td>0.000000</td>\n",
       "      <td>0.000000</td>\n",
       "      <td>0.000000</td>\n",
       "      <td>0.000000</td>\n",
       "      <td>0.000000</td>\n",
       "      <td>...</td>\n",
       "      <td>0.000000</td>\n",
       "      <td>0.000000</td>\n",
       "      <td>0.000000</td>\n",
       "      <td>0.000000</td>\n",
       "      <td>0.000000</td>\n",
       "      <td>0.000000</td>\n",
       "      <td>0.000000</td>\n",
       "      <td>0.000000</td>\n",
       "      <td>0.000000</td>\n",
       "      <td>0.000000</td>\n",
       "    </tr>\n",
       "    <tr>\n",
       "      <th>25%</th>\n",
       "      <td>0.445342</td>\n",
       "      <td>0.500000</td>\n",
       "      <td>0.000000</td>\n",
       "      <td>0.000000</td>\n",
       "      <td>0.227816</td>\n",
       "      <td>0.001948</td>\n",
       "      <td>0.152343</td>\n",
       "      <td>0.662139</td>\n",
       "      <td>0.000732</td>\n",
       "      <td>0.333333</td>\n",
       "      <td>...</td>\n",
       "      <td>0.023898</td>\n",
       "      <td>0.020597</td>\n",
       "      <td>0.000562</td>\n",
       "      <td>0.500000</td>\n",
       "      <td>0.024305</td>\n",
       "      <td>0.093145</td>\n",
       "      <td>0.020597</td>\n",
       "      <td>0.001184</td>\n",
       "      <td>0.000000</td>\n",
       "      <td>1.000000</td>\n",
       "    </tr>\n",
       "    <tr>\n",
       "      <th>50%</th>\n",
       "      <td>0.518781</td>\n",
       "      <td>0.500000</td>\n",
       "      <td>0.000000</td>\n",
       "      <td>0.000051</td>\n",
       "      <td>0.293266</td>\n",
       "      <td>0.006494</td>\n",
       "      <td>0.228571</td>\n",
       "      <td>0.747226</td>\n",
       "      <td>0.001145</td>\n",
       "      <td>0.500000</td>\n",
       "      <td>...</td>\n",
       "      <td>0.058742</td>\n",
       "      <td>0.049828</td>\n",
       "      <td>0.001687</td>\n",
       "      <td>0.727250</td>\n",
       "      <td>0.035991</td>\n",
       "      <td>0.143492</td>\n",
       "      <td>0.020597</td>\n",
       "      <td>0.002420</td>\n",
       "      <td>1.000000</td>\n",
       "      <td>1.000000</td>\n",
       "    </tr>\n",
       "    <tr>\n",
       "      <th>75%</th>\n",
       "      <td>0.592213</td>\n",
       "      <td>1.000000</td>\n",
       "      <td>0.000000</td>\n",
       "      <td>0.000147</td>\n",
       "      <td>0.379608</td>\n",
       "      <td>0.018182</td>\n",
       "      <td>0.326514</td>\n",
       "      <td>0.811302</td>\n",
       "      <td>0.001909</td>\n",
       "      <td>0.750000</td>\n",
       "      <td>...</td>\n",
       "      <td>0.110885</td>\n",
       "      <td>0.123073</td>\n",
       "      <td>0.003937</td>\n",
       "      <td>0.852950</td>\n",
       "      <td>0.051146</td>\n",
       "      <td>0.225993</td>\n",
       "      <td>0.037407</td>\n",
       "      <td>0.004468</td>\n",
       "      <td>1.000000</td>\n",
       "      <td>1.000000</td>\n",
       "    </tr>\n",
       "    <tr>\n",
       "      <th>max</th>\n",
       "      <td>1.000000</td>\n",
       "      <td>1.000000</td>\n",
       "      <td>1.000000</td>\n",
       "      <td>1.000000</td>\n",
       "      <td>1.000000</td>\n",
       "      <td>1.000000</td>\n",
       "      <td>1.000000</td>\n",
       "      <td>1.000000</td>\n",
       "      <td>1.000000</td>\n",
       "      <td>1.000000</td>\n",
       "      <td>...</td>\n",
       "      <td>1.000000</td>\n",
       "      <td>1.000000</td>\n",
       "      <td>1.000000</td>\n",
       "      <td>1.000000</td>\n",
       "      <td>1.000000</td>\n",
       "      <td>1.000000</td>\n",
       "      <td>1.000000</td>\n",
       "      <td>1.000000</td>\n",
       "      <td>1.000000</td>\n",
       "      <td>1.000000</td>\n",
       "    </tr>\n",
       "  </tbody>\n",
       "</table>\n",
       "<p>8 rows × 208 columns</p>\n",
       "</div>"
      ],
      "text/plain": [
       "           feature_1      feature_2      feature_3      feature_4  \\\n",
       "count  472422.000000  472420.000000  471254.000000  435576.000000   \n",
       "mean        0.518669       0.544020       0.004611       0.000691   \n",
       "std         0.108863       0.324083       0.018434       0.010233   \n",
       "min         0.000000       0.000000       0.000000       0.000000   \n",
       "25%         0.445342       0.500000       0.000000       0.000000   \n",
       "50%         0.518781       0.500000       0.000000       0.000051   \n",
       "75%         0.592213       1.000000       0.000000       0.000147   \n",
       "max         1.000000       1.000000       1.000000       1.000000   \n",
       "\n",
       "           feature_5      feature_6      feature_7      feature_8  \\\n",
       "count  472422.000000  471256.000000  472422.000000  472422.000000   \n",
       "mean        0.312839       0.015258       0.249711       0.727841   \n",
       "std         0.112954       0.025510       0.145240       0.110845   \n",
       "min         0.000000       0.000000       0.000000       0.000000   \n",
       "25%         0.227816       0.001948       0.152343       0.662139   \n",
       "50%         0.293266       0.006494       0.228571       0.747226   \n",
       "75%         0.379608       0.018182       0.326514       0.811302   \n",
       "max         1.000000       1.000000       1.000000       1.000000   \n",
       "\n",
       "           feature_9     feature_10  ...    feature_210    feature_211  \\\n",
       "count  471256.000000  449700.000000  ...  472420.000000  472420.000000   \n",
       "mean        0.001884       0.513358  ...       0.080568       0.091190   \n",
       "std         0.006095       0.318793  ...       0.089586       0.115406   \n",
       "min         0.000000       0.000000  ...       0.000000       0.000000   \n",
       "25%         0.000732       0.333333  ...       0.023898       0.020597   \n",
       "50%         0.001145       0.500000  ...       0.058742       0.049828   \n",
       "75%         0.001909       0.750000  ...       0.110885       0.123073   \n",
       "max         1.000000       1.000000  ...       1.000000       1.000000   \n",
       "\n",
       "         feature_212    feature_213    feature_214    feature_215  \\\n",
       "count  472420.000000  472420.000000  472420.000000  472420.000000   \n",
       "mean        0.003238       0.584832       0.040472       0.154438   \n",
       "std         0.009128       0.358869       0.043787       0.123564   \n",
       "min         0.000000       0.000000       0.000000       0.000000   \n",
       "25%         0.000562       0.500000       0.024305       0.093145   \n",
       "50%         0.001687       0.727250       0.035991       0.143492   \n",
       "75%         0.003937       0.852950       0.051146       0.225993   \n",
       "max         1.000000       1.000000       1.000000       1.000000   \n",
       "\n",
       "         feature_216    feature_217    feature_218         target  \n",
       "count  472420.000000  472420.000000  471255.000000  472422.000000  \n",
       "mean        0.057250       0.004895       0.653336       0.859308  \n",
       "std         0.103643       0.016048       0.475908       0.347704  \n",
       "min         0.000000       0.000000       0.000000       0.000000  \n",
       "25%         0.020597       0.001184       0.000000       1.000000  \n",
       "50%         0.020597       0.002420       1.000000       1.000000  \n",
       "75%         0.037407       0.004468       1.000000       1.000000  \n",
       "max         1.000000       1.000000       1.000000       1.000000  \n",
       "\n",
       "[8 rows x 208 columns]"
      ]
     },
     "execution_count": 7,
     "metadata": {},
     "output_type": "execute_result"
    }
   ],
   "source": [
    "datos.describe()"
   ]
  },
  {
   "cell_type": "code",
   "execution_count": 8,
   "metadata": {},
   "outputs": [
    {
     "data": {
      "text/plain": [
       "float32     197\n",
       "float64      10\n",
       "category      1\n",
       "category      1\n",
       "category      1\n",
       "category      1\n",
       "category      1\n",
       "category      1\n",
       "category      1\n",
       "object        1\n",
       "category      1\n",
       "category      1\n",
       "category      1\n",
       "int32         1\n",
       "dtype: int64"
      ]
     },
     "execution_count": 8,
     "metadata": {},
     "output_type": "execute_result"
    }
   ],
   "source": [
    "datos.dtypes.value_counts()"
   ]
  },
  {
   "cell_type": "code",
   "execution_count": 9,
   "metadata": {},
   "outputs": [
    {
     "name": "stdout",
     "output_type": "stream",
     "text": [
      "Index(['feature_17', 'feature_87', 'feature_118', 'feature_119', 'feature_139',\n",
      "       'feature_144', 'feature_147', 'feature_148', 'feature_158',\n",
      "       'feature_159', 'feature_195'],\n",
      "      dtype='object')\n"
     ]
    }
   ],
   "source": [
    "columnas_raras = datos.select_dtypes(include = ['object', 'category']).columns\n",
    "\n",
    "print(columnas_raras)"
   ]
  },
  {
   "cell_type": "code",
   "execution_count": 10,
   "metadata": {},
   "outputs": [],
   "source": [
    "datos_copy = datos.copy()"
   ]
  },
  {
   "cell_type": "code",
   "execution_count": 11,
   "metadata": {},
   "outputs": [],
   "source": [
    "from sklearn.preprocessing import LabelEncoder\n",
    "\n",
    "le = LabelEncoder()\n",
    "\n",
    "datos_copy[columnas_raras] = datos_copy[columnas_raras].apply(lambda col: le.fit_transform(col))"
   ]
  },
  {
   "cell_type": "code",
   "execution_count": 12,
   "metadata": {},
   "outputs": [],
   "source": [
    "# columns_drop = datos_copy.select_dtypes(include = ['category', 'object']).columns\n",
    "\n",
    "# datos_copy.drop(columns = columns_drop, inplace = True)"
   ]
  },
  {
   "cell_type": "code",
   "execution_count": 13,
   "metadata": {},
   "outputs": [
    {
     "data": {
      "text/plain": [
       "feature_1          0\n",
       "feature_2          2\n",
       "feature_3       1168\n",
       "feature_4      36846\n",
       "feature_5          0\n",
       "               ...  \n",
       "feature_215        2\n",
       "feature_216        2\n",
       "feature_217        2\n",
       "feature_218     1167\n",
       "target             0\n",
       "Length: 219, dtype: int64"
      ]
     },
     "execution_count": 13,
     "metadata": {},
     "output_type": "execute_result"
    }
   ],
   "source": [
    "datos_copy.isnull().sum()"
   ]
  },
  {
   "cell_type": "markdown",
   "metadata": {},
   "source": [
    "Buscamos las columnas que únicamente tengan valores NaN"
   ]
  },
  {
   "cell_type": "code",
   "execution_count": 14,
   "metadata": {},
   "outputs": [],
   "source": [
    "nans = datos_copy.columns[datos_copy.isnull().any()]"
   ]
  },
  {
   "cell_type": "code",
   "execution_count": 15,
   "metadata": {},
   "outputs": [
    {
     "data": {
      "text/plain": [
       "Index(['feature_2', 'feature_3', 'feature_4', 'feature_6', 'feature_9',\n",
       "       'feature_10', 'feature_11', 'feature_12', 'feature_15', 'feature_16',\n",
       "       ...\n",
       "       'feature_209', 'feature_210', 'feature_211', 'feature_212',\n",
       "       'feature_213', 'feature_214', 'feature_215', 'feature_216',\n",
       "       'feature_217', 'feature_218'],\n",
       "      dtype='object', length=174)"
      ]
     },
     "execution_count": 15,
     "metadata": {},
     "output_type": "execute_result"
    }
   ],
   "source": [
    "nans"
   ]
  },
  {
   "cell_type": "markdown",
   "metadata": {},
   "source": [
    "Como existen muchos valores NaN no sería conveniente eliminarlas. Una de las técnicas comunes es reemplazarlos con alguna medida de tendencia central. Para datos numéricos suele utilizarse la media o la mediana."
   ]
  },
  {
   "cell_type": "code",
   "execution_count": 16,
   "metadata": {},
   "outputs": [],
   "source": [
    "for col in nans:\n",
    "\n",
    "    datos_copy[col].fillna(datos_copy[col].mean(), inplace = True)"
   ]
  },
  {
   "cell_type": "code",
   "execution_count": 17,
   "metadata": {},
   "outputs": [
    {
     "data": {
      "text/plain": [
       "feature_1      0\n",
       "feature_2      0\n",
       "feature_3      0\n",
       "feature_4      0\n",
       "feature_5      0\n",
       "              ..\n",
       "feature_215    0\n",
       "feature_216    0\n",
       "feature_217    0\n",
       "feature_218    0\n",
       "target         0\n",
       "Length: 219, dtype: int64"
      ]
     },
     "execution_count": 17,
     "metadata": {},
     "output_type": "execute_result"
    }
   ],
   "source": [
    "datos_copy.isnull().sum()"
   ]
  },
  {
   "cell_type": "markdown",
   "metadata": {},
   "source": [
    "### Visualización de datos"
   ]
  },
  {
   "cell_type": "code",
   "execution_count": 18,
   "metadata": {},
   "outputs": [
    {
     "data": {
      "text/plain": [
       "<Axes: xlabel='feature_1', ylabel='Count'>"
      ]
     },
     "execution_count": 18,
     "metadata": {},
     "output_type": "execute_result"
    },
    {
     "data": {
      "image/png": "[encoded data removed]",
      "text/plain": [
       "<Figure size 640x480 with 1 Axes>"
      ]
     },
     "metadata": {},
     "output_type": "display_data"
    }
   ],
   "source": [
    "sns.histplot(datos.feature_1, color = 'dodgerblue')"
   ]
  },
  {
   "cell_type": "code",
   "execution_count": 19,
   "metadata": {},
   "outputs": [
    {
     "data": {
      "text/plain": [
       "<matplotlib.lines.Line2D at 0x19b19fcffd0>"
      ]
     },
     "execution_count": 19,
     "metadata": {},
     "output_type": "execute_result"
    },
    {
     "data": {
      "image/png": "[encoded data removed]",
      "text/plain": [
       "<Figure size 640x480 with 1 Axes>"
      ]
     },
     "metadata": {},
     "output_type": "display_data"
    }
   ],
   "source": [
    "sns.boxplot(x = datos.feature_1)\n",
    "plt.axvline(datos.feature_1.mean(), color = 'red')"
   ]
  },
  {
   "cell_type": "code",
   "execution_count": 20,
   "metadata": {},
   "outputs": [
    {
     "data": {
      "text/plain": [
       "<Axes: xlabel='target', ylabel='Count'>"
      ]
     },
     "execution_count": 20,
     "metadata": {},
     "output_type": "execute_result"
    },
    {
     "data": {
      "image/png": "[encoded data removed]",
      "text/plain": [
       "<Figure size 640x480 with 1 Axes>"
      ]
     },
     "metadata": {},
     "output_type": "display_data"
    }
   ],
   "source": [
    "sns.histplot(datos.target)"
   ]
  },
  {
   "cell_type": "markdown",
   "metadata": {},
   "source": [
    "### Reducción de dimensionalidad"
   ]
  },
  {
   "cell_type": "code",
   "execution_count": 21,
   "metadata": {},
   "outputs": [],
   "source": [
    "#sns.heatmap(datos.corr())"
   ]
  },
  {
   "cell_type": "markdown",
   "metadata": {},
   "source": [
    "El heatmap no es una buena opción ya que no es posible identificar con claridad las variables más correlacionadas, intentemos utilizar la matriz de correlación y alguna manera de verificar las variables más correlacionadas"
   ]
  },
  {
   "cell_type": "code",
   "execution_count": 22,
   "metadata": {},
   "outputs": [],
   "source": [
    "correlation_matrix = datos_copy.corr()"
   ]
  },
  {
   "cell_type": "code",
   "execution_count": 23,
   "metadata": {},
   "outputs": [],
   "source": [
    "a = 0.85 # umbral de correlación\n",
    "\n",
    "variables_altamente_corr = []\n",
    "\n",
    "for i in range(len(correlation_matrix.columns)):\n",
    "\n",
    "    for j in range(i+1, len(correlation_matrix.columns)):\n",
    "\n",
    "        if abs(correlation_matrix.iloc[i, j]) >= a:\n",
    "\n",
    "            variables_altamente_corr.append((correlation_matrix.columns[i], correlation_matrix.columns[j], correlation_matrix.iloc[i, j]))"
   ]
  },
  {
   "cell_type": "code",
   "execution_count": 24,
   "metadata": {},
   "outputs": [
    {
     "data": {
      "text/plain": [
       "[('feature_9', 'feature_11', 0.9894294346479845),\n",
       " ('feature_14', 'feature_137', 0.8651971018290001),\n",
       " ('feature_25', 'feature_26', 0.93477691350158),\n",
       " ('feature_26', 'feature_38', 0.9060517575257114),\n",
       " ('feature_27', 'feature_28', 0.9518331726489971),\n",
       " ('feature_29', 'feature_30', 0.94928456720214),\n",
       " ('feature_33', 'feature_34', 0.8716511196710012),\n",
       " ('feature_56', 'feature_57', 0.9891401071742841),\n",
       " ('feature_56', 'feature_62', 0.9335667360874569),\n",
       " ('feature_56', 'feature_63', 0.941692527571001),\n",
       " ('feature_57', 'feature_62', 0.9393524151586332),\n",
       " ('feature_57', 'feature_63', 0.9597020027625263),\n",
       " ('feature_62', 'feature_63', 0.9707380873342653),\n",
       " ('feature_68', 'feature_69', 0.9945113160056578),\n",
       " ('feature_80', 'feature_81', 0.9060304299552833),\n",
       " ('feature_88', 'feature_116', 0.9138917422607993),\n",
       " ('feature_90', 'feature_92', 0.9489094482419743),\n",
       " ('feature_90', 'feature_134', 0.8876976607351302),\n",
       " ('feature_90', 'feature_151', 0.9517043663109013),\n",
       " ('feature_90', 'feature_169', 0.9460204400762708),\n",
       " ('feature_90', 'feature_176', 0.9424126338723249),\n",
       " ('feature_90', 'feature_183', 0.9251853597268797),\n",
       " ('feature_90', 'feature_185', 0.9164989937379223),\n",
       " ('feature_90', 'feature_186', 0.9519934686803698),\n",
       " ('feature_91', 'feature_131', 0.8814380111629243),\n",
       " ('feature_91', 'feature_133', 0.8821829597306489),\n",
       " ('feature_91', 'feature_149', 0.9316364077808607),\n",
       " ('feature_91', 'feature_153', 0.9109273767595469),\n",
       " ('feature_91', 'feature_184', 0.910099273467985),\n",
       " ('feature_91', 'feature_190', 0.8507636138592061),\n",
       " ('feature_92', 'feature_134', 0.9029272879345273),\n",
       " ('feature_92', 'feature_151', 0.9621664645975919),\n",
       " ('feature_92', 'feature_169', 0.9411286204745262),\n",
       " ('feature_92', 'feature_176', 0.953994792818771),\n",
       " ('feature_92', 'feature_183', 0.9413804273461509),\n",
       " ('feature_92', 'feature_185', 0.9285271882471644),\n",
       " ('feature_92', 'feature_186', 0.960839712370908),\n",
       " ('feature_98', 'feature_111', 0.8504906805939286),\n",
       " ('feature_109', 'feature_111', 0.8622458167818035),\n",
       " ('feature_112', 'feature_113', 0.9464433079077386),\n",
       " ('feature_123', 'feature_145', 0.9339655383081843),\n",
       " ('feature_131', 'feature_133', 0.8841338935547485),\n",
       " ('feature_131', 'feature_149', 0.8760921596418054),\n",
       " ('feature_131', 'feature_153', 0.8952956647754031),\n",
       " ('feature_131', 'feature_184', 0.8951127419844872),\n",
       " ('feature_131', 'feature_190', 0.8698137876761642),\n",
       " ('feature_132', 'feature_170', 0.9590690305515893),\n",
       " ('feature_132', 'feature_172', 0.9634024016641435),\n",
       " ('feature_132', 'feature_174', 0.9639985921506696),\n",
       " ('feature_132', 'feature_175', 0.9329903189671507),\n",
       " ('feature_132', 'feature_177', 0.9496066642934535),\n",
       " ('feature_132', 'feature_178', 0.9575265908183698),\n",
       " ('feature_132', 'feature_179', 0.9410670229049419),\n",
       " ('feature_132', 'feature_180', 0.9456169402420769),\n",
       " ('feature_132', 'feature_181', 0.9501497924874577),\n",
       " ('feature_132', 'feature_182', 0.9462508853399781),\n",
       " ('feature_133', 'feature_149', 0.916590658984285),\n",
       " ('feature_133', 'feature_153', 0.9507564444450766),\n",
       " ('feature_133', 'feature_184', 0.950462189427069),\n",
       " ('feature_133', 'feature_190', 0.8740667189125255),\n",
       " ('feature_134', 'feature_151', 0.9126927608991628),\n",
       " ('feature_134', 'feature_169', 0.8859206795807748),\n",
       " ('feature_134', 'feature_176', 0.884854462127795),\n",
       " ('feature_134', 'feature_185', 0.9291719531986715),\n",
       " ('feature_134', 'feature_186', 0.9123050148121941),\n",
       " ('feature_149', 'feature_153', 0.9455852087098577),\n",
       " ('feature_149', 'feature_184', 0.9430512194372795),\n",
       " ('feature_151', 'feature_169', 0.9371427439865192),\n",
       " ('feature_151', 'feature_176', 0.946390078632265),\n",
       " ('feature_151', 'feature_183', 0.9415556919612146),\n",
       " ('feature_151', 'feature_185', 0.9315839232479933),\n",
       " ('feature_151', 'feature_186', 0.9660347163343017),\n",
       " ('feature_153', 'feature_184', 0.9632349455673465),\n",
       " ('feature_153', 'feature_190', 0.8720003379233247),\n",
       " ('feature_169', 'feature_176', 0.9415287861622409),\n",
       " ('feature_169', 'feature_183', 0.9099482852233536),\n",
       " ('feature_169', 'feature_185', 0.9118157007668375),\n",
       " ('feature_169', 'feature_186', 0.9369661523509829),\n",
       " ('feature_170', 'feature_172', 0.9599314062972788),\n",
       " ('feature_170', 'feature_174', 0.9595159304429266),\n",
       " ('feature_170', 'feature_175', 0.9231758548772218),\n",
       " ('feature_170', 'feature_177', 0.9402950718195517),\n",
       " ('feature_170', 'feature_178', 0.9489701751490325),\n",
       " ('feature_170', 'feature_179', 0.9301649272552012),\n",
       " ('feature_170', 'feature_180', 0.9339614180487193),\n",
       " ('feature_170', 'feature_181', 0.9504367942254863),\n",
       " ('feature_170', 'feature_182', 0.9489440291334515),\n",
       " ('feature_172', 'feature_174', 0.9633017263284991),\n",
       " ('feature_172', 'feature_175', 0.9225374789730512),\n",
       " ('feature_172', 'feature_177', 0.9470883952879652),\n",
       " ('feature_172', 'feature_178', 0.9530892374623914),\n",
       " ('feature_172', 'feature_179', 0.9342000620442034),\n",
       " ('feature_172', 'feature_180', 0.9445459283694422),\n",
       " ('feature_172', 'feature_181', 0.9465424505559693),\n",
       " ('feature_172', 'feature_182', 0.9412413694927683),\n",
       " ('feature_174', 'feature_175', 0.9305858812470641),\n",
       " ('feature_174', 'feature_177', 0.9497817960257322),\n",
       " ('feature_174', 'feature_178', 0.9560362831033865),\n",
       " ('feature_174', 'feature_179', 0.939269721383712),\n",
       " ('feature_174', 'feature_180', 0.9464592886058876),\n",
       " ('feature_174', 'feature_181', 0.9477580412223697),\n",
       " ('feature_174', 'feature_182', 0.9451089307211651),\n",
       " ('feature_175', 'feature_177', 0.9417552340523371),\n",
       " ('feature_175', 'feature_178', 0.9399058223725657),\n",
       " ('feature_175', 'feature_179', 0.9519974806092637),\n",
       " ('feature_175', 'feature_180', 0.9304084752948247),\n",
       " ('feature_175', 'feature_181', 0.9206772537194784),\n",
       " ('feature_175', 'feature_182', 0.9285023162003647),\n",
       " ('feature_176', 'feature_183', 0.932570188049262),\n",
       " ('feature_176', 'feature_185', 0.9175105045812635),\n",
       " ('feature_176', 'feature_186', 0.9462885941734264),\n",
       " ('feature_177', 'feature_178', 0.9544103269415732),\n",
       " ('feature_177', 'feature_179', 0.9672657358617606),\n",
       " ('feature_177', 'feature_180', 0.9657095070284265),\n",
       " ('feature_177', 'feature_181', 0.9240150480246346),\n",
       " ('feature_177', 'feature_182', 0.9233817260423842),\n",
       " ('feature_178', 'feature_179', 0.9521416475680369),\n",
       " ('feature_178', 'feature_180', 0.9477848857044927),\n",
       " ('feature_178', 'feature_181', 0.9436611498718468),\n",
       " ('feature_178', 'feature_182', 0.94171827916318),\n",
       " ('feature_179', 'feature_180', 0.9587899785351094),\n",
       " ('feature_179', 'feature_181', 0.9182429933020639),\n",
       " ('feature_179', 'feature_182', 0.9218234374968355),\n",
       " ('feature_180', 'feature_181', 0.9151608854378177),\n",
       " ('feature_180', 'feature_182', 0.9122434669093361),\n",
       " ('feature_181', 'feature_182', 0.9588503683865709),\n",
       " ('feature_183', 'feature_185', 0.876294249254751),\n",
       " ('feature_183', 'feature_186', 0.940667631355841),\n",
       " ('feature_184', 'feature_190', 0.8689623832291297),\n",
       " ('feature_185', 'feature_186', 0.9307728370632739),\n",
       " ('feature_205', 'feature_206', 0.9588836500537661)]"
      ]
     },
     "execution_count": 24,
     "metadata": {},
     "output_type": "execute_result"
    }
   ],
   "source": [
    "variables_altamente_corr"
   ]
  },
  {
   "cell_type": "code",
   "execution_count": 25,
   "metadata": {},
   "outputs": [
    {
     "name": "stdout",
     "output_type": "stream",
     "text": [
      "131\n"
     ]
    }
   ],
   "source": [
    "print(len(variables_altamente_corr))"
   ]
  },
  {
   "cell_type": "markdown",
   "metadata": {},
   "source": [
    "Eliminamos las variables altamente correlacionadas"
   ]
  },
  {
   "cell_type": "code",
   "execution_count": 26,
   "metadata": {},
   "outputs": [],
   "source": [
    "columnas_remove = {pair[1] for pair in variables_altamente_corr}\n",
    "\n",
    "datos_copy.drop(columns = columnas_remove, inplace = True)"
   ]
  },
  {
   "cell_type": "code",
   "execution_count": 27,
   "metadata": {},
   "outputs": [
    {
     "data": {
      "text/html": [
       "<div>\n",
       "<style scoped>\n",
       "    .dataframe tbody tr th:only-of-type {\n",
       "        vertical-align: middle;\n",
       "    }\n",
       "\n",
       "    .dataframe tbody tr th {\n",
       "        vertical-align: top;\n",
       "    }\n",
       "\n",
       "    .dataframe thead th {\n",
       "        text-align: right;\n",
       "    }\n",
       "</style>\n",
       "<table border=\"1\" class=\"dataframe\">\n",
       "  <thead>\n",
       "    <tr style=\"text-align: right;\">\n",
       "      <th></th>\n",
       "      <th>feature_1</th>\n",
       "      <th>feature_2</th>\n",
       "      <th>feature_3</th>\n",
       "      <th>feature_4</th>\n",
       "      <th>feature_5</th>\n",
       "      <th>feature_6</th>\n",
       "      <th>feature_7</th>\n",
       "      <th>feature_8</th>\n",
       "      <th>feature_9</th>\n",
       "      <th>feature_10</th>\n",
       "      <th>...</th>\n",
       "      <th>feature_210</th>\n",
       "      <th>feature_211</th>\n",
       "      <th>feature_212</th>\n",
       "      <th>feature_213</th>\n",
       "      <th>feature_214</th>\n",
       "      <th>feature_215</th>\n",
       "      <th>feature_216</th>\n",
       "      <th>feature_217</th>\n",
       "      <th>feature_218</th>\n",
       "      <th>target</th>\n",
       "    </tr>\n",
       "  </thead>\n",
       "  <tbody>\n",
       "    <tr>\n",
       "      <th>0</th>\n",
       "      <td>0.554222</td>\n",
       "      <td>1.0</td>\n",
       "      <td>0.0</td>\n",
       "      <td>0.000000</td>\n",
       "      <td>0.398189</td>\n",
       "      <td>0.000000</td>\n",
       "      <td>0.190514</td>\n",
       "      <td>0.774141</td>\n",
       "      <td>0.004995</td>\n",
       "      <td>0.666667</td>\n",
       "      <td>...</td>\n",
       "      <td>0.000000</td>\n",
       "      <td>0.000000</td>\n",
       "      <td>0.000000</td>\n",
       "      <td>0.00000</td>\n",
       "      <td>0.000000</td>\n",
       "      <td>0.000000</td>\n",
       "      <td>0.000000</td>\n",
       "      <td>0.000000</td>\n",
       "      <td>1.0</td>\n",
       "      <td>1</td>\n",
       "    </tr>\n",
       "    <tr>\n",
       "      <th>1</th>\n",
       "      <td>0.521013</td>\n",
       "      <td>0.5</td>\n",
       "      <td>0.0</td>\n",
       "      <td>0.000691</td>\n",
       "      <td>0.299222</td>\n",
       "      <td>0.000649</td>\n",
       "      <td>0.000000</td>\n",
       "      <td>0.827157</td>\n",
       "      <td>0.000668</td>\n",
       "      <td>0.000000</td>\n",
       "      <td>...</td>\n",
       "      <td>0.000000</td>\n",
       "      <td>0.000000</td>\n",
       "      <td>0.000000</td>\n",
       "      <td>0.00000</td>\n",
       "      <td>0.000000</td>\n",
       "      <td>0.000000</td>\n",
       "      <td>0.000000</td>\n",
       "      <td>0.000000</td>\n",
       "      <td>1.0</td>\n",
       "      <td>1</td>\n",
       "    </tr>\n",
       "    <tr>\n",
       "      <th>2</th>\n",
       "      <td>0.545612</td>\n",
       "      <td>1.0</td>\n",
       "      <td>0.0</td>\n",
       "      <td>0.000102</td>\n",
       "      <td>0.248790</td>\n",
       "      <td>0.000000</td>\n",
       "      <td>0.571429</td>\n",
       "      <td>0.851531</td>\n",
       "      <td>0.000604</td>\n",
       "      <td>0.000000</td>\n",
       "      <td>...</td>\n",
       "      <td>0.206293</td>\n",
       "      <td>0.022686</td>\n",
       "      <td>0.000562</td>\n",
       "      <td>0.50000</td>\n",
       "      <td>0.116689</td>\n",
       "      <td>0.566809</td>\n",
       "      <td>0.020597</td>\n",
       "      <td>0.020891</td>\n",
       "      <td>1.0</td>\n",
       "      <td>1</td>\n",
       "    </tr>\n",
       "    <tr>\n",
       "      <th>3</th>\n",
       "      <td>0.593774</td>\n",
       "      <td>0.5</td>\n",
       "      <td>0.0</td>\n",
       "      <td>0.000000</td>\n",
       "      <td>0.412052</td>\n",
       "      <td>0.001299</td>\n",
       "      <td>0.087886</td>\n",
       "      <td>0.559571</td>\n",
       "      <td>0.002227</td>\n",
       "      <td>0.333333</td>\n",
       "      <td>...</td>\n",
       "      <td>0.026009</td>\n",
       "      <td>0.074658</td>\n",
       "      <td>0.003375</td>\n",
       "      <td>1.00000</td>\n",
       "      <td>0.025595</td>\n",
       "      <td>0.097360</td>\n",
       "      <td>0.020597</td>\n",
       "      <td>0.002580</td>\n",
       "      <td>0.0</td>\n",
       "      <td>1</td>\n",
       "    </tr>\n",
       "    <tr>\n",
       "      <th>4</th>\n",
       "      <td>0.278900</td>\n",
       "      <td>0.0</td>\n",
       "      <td>0.0</td>\n",
       "      <td>0.000000</td>\n",
       "      <td>0.160199</td>\n",
       "      <td>0.009740</td>\n",
       "      <td>0.134400</td>\n",
       "      <td>0.841197</td>\n",
       "      <td>0.000700</td>\n",
       "      <td>0.833333</td>\n",
       "      <td>...</td>\n",
       "      <td>0.049540</td>\n",
       "      <td>0.064444</td>\n",
       "      <td>0.003375</td>\n",
       "      <td>0.85715</td>\n",
       "      <td>0.032973</td>\n",
       "      <td>0.131737</td>\n",
       "      <td>0.020597</td>\n",
       "      <td>0.002613</td>\n",
       "      <td>1.0</td>\n",
       "      <td>1</td>\n",
       "    </tr>\n",
       "  </tbody>\n",
       "</table>\n",
       "<p>5 rows × 178 columns</p>\n",
       "</div>"
      ],
      "text/plain": [
       "   feature_1  feature_2  feature_3  feature_4  feature_5  feature_6  \\\n",
       "0   0.554222        1.0        0.0   0.000000   0.398189   0.000000   \n",
       "1   0.521013        0.5        0.0   0.000691   0.299222   0.000649   \n",
       "2   0.545612        1.0        0.0   0.000102   0.248790   0.000000   \n",
       "3   0.593774        0.5        0.0   0.000000   0.412052   0.001299   \n",
       "4   0.278900        0.0        0.0   0.000000   0.160199   0.009740   \n",
       "\n",
       "   feature_7  feature_8  feature_9  feature_10  ...  feature_210  feature_211  \\\n",
       "0   0.190514   0.774141   0.004995    0.666667  ...     0.000000     0.000000   \n",
       "1   0.000000   0.827157   0.000668    0.000000  ...     0.000000     0.000000   \n",
       "2   0.571429   0.851531   0.000604    0.000000  ...     0.206293     0.022686   \n",
       "3   0.087886   0.559571   0.002227    0.333333  ...     0.026009     0.074658   \n",
       "4   0.134400   0.841197   0.000700    0.833333  ...     0.049540     0.064444   \n",
       "\n",
       "   feature_212  feature_213  feature_214  feature_215  feature_216  \\\n",
       "0     0.000000      0.00000     0.000000     0.000000     0.000000   \n",
       "1     0.000000      0.00000     0.000000     0.000000     0.000000   \n",
       "2     0.000562      0.50000     0.116689     0.566809     0.020597   \n",
       "3     0.003375      1.00000     0.025595     0.097360     0.020597   \n",
       "4     0.003375      0.85715     0.032973     0.131737     0.020597   \n",
       "\n",
       "   feature_217  feature_218  target  \n",
       "0     0.000000          1.0       1  \n",
       "1     0.000000          1.0       1  \n",
       "2     0.020891          1.0       1  \n",
       "3     0.002580          0.0       1  \n",
       "4     0.002613          1.0       1  \n",
       "\n",
       "[5 rows x 178 columns]"
      ]
     },
     "execution_count": 27,
     "metadata": {},
     "output_type": "execute_result"
    }
   ],
   "source": [
    "datos_copy.head()"
   ]
  },
  {
   "cell_type": "markdown",
   "metadata": {},
   "source": [
    "### Balanceo de datos\n"
   ]
  },
  {
   "cell_type": "markdown",
   "metadata": {},
   "source": [
    "## Implementación del modelo"
   ]
  },
  {
   "cell_type": "code",
   "execution_count": 28,
   "metadata": {},
   "outputs": [],
   "source": [
    "from sklearn.model_selection import train_test_split"
   ]
  },
  {
   "cell_type": "code",
   "execution_count": 29,
   "metadata": {},
   "outputs": [],
   "source": [
    "X = datos_copy.drop(columns = ['target'])\n",
    "\n",
    "y = datos_copy['target']"
   ]
  },
  {
   "cell_type": "code",
   "execution_count": 30,
   "metadata": {},
   "outputs": [],
   "source": [
    "X_train, X_test, y_train, y_test = train_test_split(X, y, test_size = 0.2, random_state = 42)"
   ]
  },
  {
   "cell_type": "markdown",
   "metadata": {},
   "source": [
    "## Balanceo de datos"
   ]
  },
  {
   "cell_type": "code",
   "execution_count": 31,
   "metadata": {},
   "outputs": [],
   "source": [
    "from imblearn.under_sampling import RandomUnderSampler\n",
    "\n",
    "rus = RandomUnderSampler(sampling_strategy = 'auto')"
   ]
  },
  {
   "cell_type": "code",
   "execution_count": 32,
   "metadata": {},
   "outputs": [],
   "source": [
    "X_resampled, y_resampled = rus.fit_resample(X_train, y_train)"
   ]
  },
  {
   "cell_type": "code",
   "execution_count": 33,
   "metadata": {},
   "outputs": [],
   "source": [
    "from tensorflow.keras import Sequential\n",
    "from tensorflow.keras.layers import Dense, Dropout\n",
    "from tensorflow.keras.optimizers import Adam"
   ]
  },
  {
   "cell_type": "code",
   "execution_count": 34,
   "metadata": {},
   "outputs": [],
   "source": [
    "modelo = Sequential()\n",
    "\n",
    "modelo.add(Dense(128, activation = 'tanh', input_shape = (X_train.shape[1],)))\n",
    "#modelo.add(Dense(128, activation = 'tanh'))\n",
    "#modelo.add(Dropout(0.2))\n",
    "modelo.add(Dense(64, activation = 'relu'))\n",
    "modelo.add(Dense(32, activation = 'relu'))\n",
    "modelo.add(Dense(16, activation = 'relu'))\n",
    "#modelo.add(Dropout(0.2))\n",
    "\n",
    "modelo.add(Dense(1, activation = 'sigmoid'))"
   ]
  },
  {
   "cell_type": "code",
   "execution_count": 35,
   "metadata": {},
   "outputs": [],
   "source": [
    "lr = 0.0001\n",
    "optim = Adam(learning_rate = lr)"
   ]
  },
  {
   "cell_type": "code",
   "execution_count": 36,
   "metadata": {},
   "outputs": [],
   "source": [
    "modelo.compile(optimizer = optim, loss = 'binary_crossentropy', metrics = ['accuracy', 'Precision', 'Recall'])"
   ]
  },
  {
   "cell_type": "code",
   "execution_count": 37,
   "metadata": {},
   "outputs": [
    {
     "name": "stdout",
     "output_type": "stream",
     "text": [
      "Epoch 1/150\n",
      "710/710 [==============================] - 7s 9ms/step - loss: 0.6921 - accuracy: 0.5206 - precision: 0.5198 - recall: 0.5421 - val_loss: 0.7105 - val_accuracy: 0.4352 - val_precision: 0.8810 - val_recall: 0.3964\n",
      "Epoch 2/150\n",
      "710/710 [==============================] - 6s 8ms/step - loss: 0.6876 - accuracy: 0.5425 - precision: 0.5411 - recall: 0.5587 - val_loss: 0.7076 - val_accuracy: 0.4680 - val_precision: 0.8900 - val_recall: 0.4348\n",
      "Epoch 3/150\n",
      "710/710 [==============================] - 7s 10ms/step - loss: 0.6840 - accuracy: 0.5534 - precision: 0.5540 - recall: 0.5481 - val_loss: 0.6813 - val_accuracy: 0.5592 - val_precision: 0.8862 - val_recall: 0.5589\n",
      "Epoch 4/150\n",
      "710/710 [==============================] - 7s 9ms/step - loss: 0.6808 - accuracy: 0.5637 - precision: 0.5660 - recall: 0.5469 - val_loss: 0.6310 - val_accuracy: 0.6798 - val_precision: 0.8788 - val_recall: 0.7279\n",
      "Epoch 5/150\n",
      "710/710 [==============================] - 7s 9ms/step - loss: 0.6781 - accuracy: 0.5690 - precision: 0.5720 - recall: 0.5479 - val_loss: 0.7280 - val_accuracy: 0.4363 - val_precision: 0.9027 - val_recall: 0.3857\n",
      "Epoch 6/150\n",
      "710/710 [==============================] - 7s 10ms/step - loss: 0.6754 - accuracy: 0.5759 - precision: 0.5810 - recall: 0.5448 - val_loss: 0.6380 - val_accuracy: 0.6441 - val_precision: 0.8862 - val_recall: 0.6722\n",
      "Epoch 7/150\n",
      "710/710 [==============================] - 7s 9ms/step - loss: 0.6729 - accuracy: 0.5819 - precision: 0.5865 - recall: 0.5557 - val_loss: 0.7094 - val_accuracy: 0.4866 - val_precision: 0.9049 - val_recall: 0.4500\n",
      "Epoch 8/150\n",
      "710/710 [==============================] - 6s 9ms/step - loss: 0.6707 - accuracy: 0.5839 - precision: 0.5893 - recall: 0.5542 - val_loss: 0.6247 - val_accuracy: 0.6648 - val_precision: 0.8875 - val_recall: 0.6986\n",
      "Epoch 9/150\n",
      "710/710 [==============================] - 6s 9ms/step - loss: 0.6685 - accuracy: 0.5901 - precision: 0.5949 - recall: 0.5647 - val_loss: 0.6921 - val_accuracy: 0.5225 - val_precision: 0.9045 - val_recall: 0.4969\n",
      "Epoch 10/150\n",
      "710/710 [==============================] - 6s 9ms/step - loss: 0.6670 - accuracy: 0.5920 - precision: 0.5975 - recall: 0.5635 - val_loss: 0.7308 - val_accuracy: 0.4496 - val_precision: 0.9130 - val_recall: 0.3975\n",
      "Epoch 11/150\n",
      "710/710 [==============================] - 6s 9ms/step - loss: 0.6653 - accuracy: 0.5943 - precision: 0.5999 - recall: 0.5663 - val_loss: 0.6377 - val_accuracy: 0.6324 - val_precision: 0.8942 - val_recall: 0.6492\n",
      "Epoch 12/150\n",
      "710/710 [==============================] - 6s 9ms/step - loss: 0.6633 - accuracy: 0.5991 - precision: 0.6047 - recall: 0.5723 - val_loss: 0.6379 - val_accuracy: 0.6287 - val_precision: 0.8946 - val_recall: 0.6439\n",
      "Epoch 13/150\n",
      "710/710 [==============================] - 7s 9ms/step - loss: 0.6617 - accuracy: 0.6018 - precision: 0.6072 - recall: 0.5764 - val_loss: 0.6426 - val_accuracy: 0.6186 - val_precision: 0.8969 - val_recall: 0.6285\n",
      "Epoch 14/150\n",
      "710/710 [==============================] - 6s 9ms/step - loss: 0.6605 - accuracy: 0.6039 - precision: 0.6090 - recall: 0.5808 - val_loss: 0.6993 - val_accuracy: 0.5194 - val_precision: 0.9080 - val_recall: 0.4905\n",
      "Epoch 15/150\n",
      "710/710 [==============================] - 7s 10ms/step - loss: 0.6592 - accuracy: 0.6054 - precision: 0.6109 - recall: 0.5805 - val_loss: 0.6556 - val_accuracy: 0.5952 - val_precision: 0.9017 - val_recall: 0.5938\n",
      "Epoch 16/150\n",
      "710/710 [==============================] - 7s 10ms/step - loss: 0.6581 - accuracy: 0.6072 - precision: 0.6120 - recall: 0.5862 - val_loss: 0.6270 - val_accuracy: 0.6455 - val_precision: 0.8951 - val_recall: 0.6655\n",
      "Epoch 17/150\n",
      "710/710 [==============================] - 7s 10ms/step - loss: 0.6571 - accuracy: 0.6078 - precision: 0.6122 - recall: 0.5882 - val_loss: 0.6482 - val_accuracy: 0.6076 - val_precision: 0.9013 - val_recall: 0.6102\n",
      "Epoch 18/150\n",
      "710/710 [==============================] - 7s 10ms/step - loss: 0.6558 - accuracy: 0.6095 - precision: 0.6141 - recall: 0.5893 - val_loss: 0.6888 - val_accuracy: 0.5416 - val_precision: 0.9094 - val_recall: 0.5184\n",
      "Epoch 19/150\n",
      "710/710 [==============================] - 7s 10ms/step - loss: 0.6550 - accuracy: 0.6109 - precision: 0.6154 - recall: 0.5918 - val_loss: 0.6686 - val_accuracy: 0.5777 - val_precision: 0.9055 - val_recall: 0.5680\n",
      "Epoch 20/150\n",
      "710/710 [==============================] - 7s 10ms/step - loss: 0.6536 - accuracy: 0.6127 - precision: 0.6167 - recall: 0.5955 - val_loss: 0.6670 - val_accuracy: 0.5785 - val_precision: 0.9053 - val_recall: 0.5691\n",
      "Epoch 21/150\n",
      "710/710 [==============================] - 7s 10ms/step - loss: 0.6533 - accuracy: 0.6132 - precision: 0.6175 - recall: 0.5949 - val_loss: 0.6750 - val_accuracy: 0.5607 - val_precision: 0.9081 - val_recall: 0.5439\n",
      "Epoch 22/150\n",
      "710/710 [==============================] - 7s 10ms/step - loss: 0.6520 - accuracy: 0.6152 - precision: 0.6191 - recall: 0.5990 - val_loss: 0.6233 - val_accuracy: 0.6493 - val_precision: 0.8988 - val_recall: 0.6671\n",
      "Epoch 23/150\n",
      "710/710 [==============================] - 7s 10ms/step - loss: 0.6510 - accuracy: 0.6164 - precision: 0.6208 - recall: 0.5984 - val_loss: 0.6257 - val_accuracy: 0.6447 - val_precision: 0.8983 - val_recall: 0.6616\n",
      "Epoch 24/150\n",
      "710/710 [==============================] - 7s 9ms/step - loss: 0.6501 - accuracy: 0.6187 - precision: 0.6226 - recall: 0.6028 - val_loss: 0.7114 - val_accuracy: 0.5070 - val_precision: 0.9146 - val_recall: 0.4703\n",
      "Epoch 25/150\n",
      "710/710 [==============================] - 7s 10ms/step - loss: 0.6493 - accuracy: 0.6191 - precision: 0.6229 - recall: 0.6038 - val_loss: 0.6539 - val_accuracy: 0.6039 - val_precision: 0.9042 - val_recall: 0.6030\n",
      "Epoch 26/150\n",
      "710/710 [==============================] - 7s 10ms/step - loss: 0.6484 - accuracy: 0.6208 - precision: 0.6250 - recall: 0.6040 - val_loss: 0.5827 - val_accuracy: 0.7101 - val_precision: 0.8921 - val_recall: 0.7540\n",
      "Epoch 27/150\n",
      "710/710 [==============================] - 7s 10ms/step - loss: 0.6481 - accuracy: 0.6206 - precision: 0.6239 - recall: 0.6076 - val_loss: 0.6657 - val_accuracy: 0.5817 - val_precision: 0.9075 - val_recall: 0.5716\n",
      "Epoch 28/150\n",
      "710/710 [==============================] - 7s 10ms/step - loss: 0.6468 - accuracy: 0.6219 - precision: 0.6254 - recall: 0.6081 - val_loss: 0.6640 - val_accuracy: 0.5883 - val_precision: 0.9074 - val_recall: 0.5802\n",
      "Epoch 29/150\n",
      "710/710 [==============================] - 7s 10ms/step - loss: 0.6465 - accuracy: 0.6231 - precision: 0.6268 - recall: 0.6086 - val_loss: 0.6683 - val_accuracy: 0.5781 - val_precision: 0.9079 - val_recall: 0.5666\n",
      "Epoch 30/150\n",
      "710/710 [==============================] - 7s 10ms/step - loss: 0.6459 - accuracy: 0.6237 - precision: 0.6273 - recall: 0.6098 - val_loss: 0.6393 - val_accuracy: 0.6249 - val_precision: 0.9032 - val_recall: 0.6312\n",
      "Epoch 31/150\n",
      "710/710 [==============================] - 7s 11ms/step - loss: 0.6453 - accuracy: 0.6244 - precision: 0.6282 - recall: 0.6094 - val_loss: 0.7013 - val_accuracy: 0.5411 - val_precision: 0.9120 - val_recall: 0.5159\n",
      "Epoch 32/150\n",
      "710/710 [==============================] - 7s 10ms/step - loss: 0.6444 - accuracy: 0.6252 - precision: 0.6287 - recall: 0.6115 - val_loss: 0.6115 - val_accuracy: 0.6634 - val_precision: 0.8985 - val_recall: 0.6859\n",
      "Epoch 33/150\n",
      "710/710 [==============================] - 8s 11ms/step - loss: 0.6434 - accuracy: 0.6269 - precision: 0.6302 - recall: 0.6142 - val_loss: 0.6641 - val_accuracy: 0.5961 - val_precision: 0.9056 - val_recall: 0.5917\n",
      "Epoch 34/150\n",
      "710/710 [==============================] - 8s 11ms/step - loss: 0.6428 - accuracy: 0.6274 - precision: 0.6312 - recall: 0.6128 - val_loss: 0.6215 - val_accuracy: 0.6511 - val_precision: 0.9002 - val_recall: 0.6682\n",
      "Epoch 35/150\n",
      "710/710 [==============================] - 7s 10ms/step - loss: 0.6433 - accuracy: 0.6262 - precision: 0.6295 - recall: 0.6133 - val_loss: 0.6857 - val_accuracy: 0.5567 - val_precision: 0.9112 - val_recall: 0.5365\n",
      "Epoch 36/150\n",
      "710/710 [==============================] - 7s 10ms/step - loss: 0.6418 - accuracy: 0.6292 - precision: 0.6329 - recall: 0.6153 - val_loss: 0.5909 - val_accuracy: 0.6897 - val_precision: 0.8967 - val_recall: 0.7221\n",
      "Epoch 37/150\n",
      "710/710 [==============================] - 7s 10ms/step - loss: 0.6421 - accuracy: 0.6286 - precision: 0.6317 - recall: 0.6168 - val_loss: 0.7447 - val_accuracy: 0.4723 - val_precision: 0.9221 - val_recall: 0.4217\n",
      "Epoch 38/150\n",
      "710/710 [==============================] - 7s 10ms/step - loss: 0.6410 - accuracy: 0.6294 - precision: 0.6324 - recall: 0.6180 - val_loss: 0.6765 - val_accuracy: 0.5719 - val_precision: 0.9103 - val_recall: 0.5567\n",
      "Epoch 39/150\n",
      "710/710 [==============================] - 8s 11ms/step - loss: 0.6398 - accuracy: 0.6313 - precision: 0.6345 - recall: 0.6195 - val_loss: 0.7146 - val_accuracy: 0.5158 - val_precision: 0.9166 - val_recall: 0.4804\n",
      "Epoch 40/150\n",
      "710/710 [==============================] - 7s 10ms/step - loss: 0.6400 - accuracy: 0.6299 - precision: 0.6329 - recall: 0.6184 - val_loss: 0.7062 - val_accuracy: 0.5351 - val_precision: 0.9139 - val_recall: 0.5068\n",
      "Epoch 41/150\n",
      "710/710 [==============================] - 7s 10ms/step - loss: 0.6393 - accuracy: 0.6313 - precision: 0.6349 - recall: 0.6180 - val_loss: 0.6315 - val_accuracy: 0.6357 - val_precision: 0.9026 - val_recall: 0.6459\n",
      "Epoch 42/150\n",
      "710/710 [==============================] - 7s 10ms/step - loss: 0.6391 - accuracy: 0.6321 - precision: 0.6359 - recall: 0.6183 - val_loss: 0.6576 - val_accuracy: 0.6038 - val_precision: 0.9075 - val_recall: 0.6002\n",
      "Epoch 43/150\n",
      "710/710 [==============================] - 7s 10ms/step - loss: 0.6383 - accuracy: 0.6329 - precision: 0.6361 - recall: 0.6208 - val_loss: 0.7202 - val_accuracy: 0.5099 - val_precision: 0.9168 - val_recall: 0.4727\n",
      "Epoch 44/150\n",
      "710/710 [==============================] - 7s 10ms/step - loss: 0.6381 - accuracy: 0.6327 - precision: 0.6364 - recall: 0.6194 - val_loss: 0.7411 - val_accuracy: 0.4864 - val_precision: 0.9197 - val_recall: 0.4410\n",
      "Epoch 45/150\n",
      "710/710 [==============================] - 7s 10ms/step - loss: 0.6375 - accuracy: 0.6343 - precision: 0.6376 - recall: 0.6223 - val_loss: 0.7575 - val_accuracy: 0.4656 - val_precision: 0.9231 - val_recall: 0.4126\n",
      "Epoch 46/150\n",
      "710/710 [==============================] - 7s 10ms/step - loss: 0.6368 - accuracy: 0.6347 - precision: 0.6385 - recall: 0.6208 - val_loss: 0.6863 - val_accuracy: 0.5613 - val_precision: 0.9137 - val_recall: 0.5407\n",
      "Epoch 47/150\n",
      "710/710 [==============================] - 8s 11ms/step - loss: 0.6359 - accuracy: 0.6367 - precision: 0.6403 - recall: 0.6236 - val_loss: 0.7295 - val_accuracy: 0.4984 - val_precision: 0.9185 - val_recall: 0.4570\n",
      "Epoch 48/150\n",
      "710/710 [==============================] - 8s 11ms/step - loss: 0.6360 - accuracy: 0.6348 - precision: 0.6381 - recall: 0.6229 - val_loss: 0.6997 - val_accuracy: 0.5489 - val_precision: 0.9134 - val_recall: 0.5249\n",
      "Epoch 49/150\n",
      "710/710 [==============================] - 8s 11ms/step - loss: 0.6357 - accuracy: 0.6353 - precision: 0.6388 - recall: 0.6229 - val_loss: 0.6209 - val_accuracy: 0.6521 - val_precision: 0.9002 - val_recall: 0.6695\n",
      "Epoch 50/150\n",
      "710/710 [==============================] - 8s 11ms/step - loss: 0.6349 - accuracy: 0.6372 - precision: 0.6405 - recall: 0.6256 - val_loss: 0.6736 - val_accuracy: 0.5754 - val_precision: 0.9106 - val_recall: 0.5612\n",
      "Epoch 51/150\n",
      "710/710 [==============================] - 7s 11ms/step - loss: 0.6340 - accuracy: 0.6376 - precision: 0.6409 - recall: 0.6259 - val_loss: 0.6663 - val_accuracy: 0.5888 - val_precision: 0.9093 - val_recall: 0.5794\n",
      "Epoch 52/150\n",
      "710/710 [==============================] - 7s 10ms/step - loss: 0.6338 - accuracy: 0.6380 - precision: 0.6418 - recall: 0.6248 - val_loss: 0.6357 - val_accuracy: 0.6265 - val_precision: 0.9045 - val_recall: 0.6323\n",
      "Epoch 53/150\n",
      "710/710 [==============================] - 7s 10ms/step - loss: 0.6336 - accuracy: 0.6379 - precision: 0.6410 - recall: 0.6266 - val_loss: 0.6204 - val_accuracy: 0.6476 - val_precision: 0.9015 - val_recall: 0.6623\n",
      "Epoch 54/150\n",
      "710/710 [==============================] - 7s 10ms/step - loss: 0.6332 - accuracy: 0.6390 - precision: 0.6425 - recall: 0.6268 - val_loss: 0.6195 - val_accuracy: 0.6510 - val_precision: 0.9018 - val_recall: 0.6665\n",
      "Epoch 55/150\n",
      "710/710 [==============================] - 8s 11ms/step - loss: 0.6324 - accuracy: 0.6394 - precision: 0.6429 - recall: 0.6270 - val_loss: 0.6917 - val_accuracy: 0.5551 - val_precision: 0.9128 - val_recall: 0.5334\n",
      "Epoch 56/150\n",
      "710/710 [==============================] - 8s 11ms/step - loss: 0.6316 - accuracy: 0.6399 - precision: 0.6436 - recall: 0.6273 - val_loss: 0.6459 - val_accuracy: 0.6231 - val_precision: 0.9027 - val_recall: 0.6293\n",
      "Epoch 57/150\n",
      "710/710 [==============================] - 8s 11ms/step - loss: 0.6318 - accuracy: 0.6395 - precision: 0.6434 - recall: 0.6259 - val_loss: 0.6273 - val_accuracy: 0.6404 - val_precision: 0.9021 - val_recall: 0.6524\n",
      "Epoch 58/150\n",
      "710/710 [==============================] - 7s 10ms/step - loss: 0.6310 - accuracy: 0.6410 - precision: 0.6441 - recall: 0.6303 - val_loss: 0.6404 - val_accuracy: 0.6196 - val_precision: 0.9052 - val_recall: 0.6226\n",
      "Epoch 59/150\n",
      "710/710 [==============================] - 8s 11ms/step - loss: 0.6311 - accuracy: 0.6407 - precision: 0.6448 - recall: 0.6268 - val_loss: 0.6530 - val_accuracy: 0.6151 - val_precision: 0.9035 - val_recall: 0.6183\n",
      "Epoch 60/150\n",
      "710/710 [==============================] - 7s 11ms/step - loss: 0.6304 - accuracy: 0.6414 - precision: 0.6447 - recall: 0.6298 - val_loss: 0.6418 - val_accuracy: 0.6214 - val_precision: 0.9043 - val_recall: 0.6258\n",
      "Epoch 61/150\n",
      "710/710 [==============================] - 7s 10ms/step - loss: 0.6299 - accuracy: 0.6419 - precision: 0.6457 - recall: 0.6287 - val_loss: 0.6520 - val_accuracy: 0.6129 - val_precision: 0.9060 - val_recall: 0.6132\n",
      "Epoch 62/150\n",
      "710/710 [==============================] - 7s 10ms/step - loss: 0.6298 - accuracy: 0.6425 - precision: 0.6468 - recall: 0.6278 - val_loss: 0.6440 - val_accuracy: 0.6233 - val_precision: 0.9035 - val_recall: 0.6289\n",
      "Epoch 63/150\n",
      "710/710 [==============================] - 7s 10ms/step - loss: 0.6288 - accuracy: 0.6440 - precision: 0.6478 - recall: 0.6311 - val_loss: 0.7362 - val_accuracy: 0.4946 - val_precision: 0.9170 - val_recall: 0.4530\n",
      "Epoch 64/150\n",
      "710/710 [==============================] - 7s 10ms/step - loss: 0.6283 - accuracy: 0.6431 - precision: 0.6472 - recall: 0.6294 - val_loss: 0.6730 - val_accuracy: 0.5881 - val_precision: 0.9081 - val_recall: 0.5794\n",
      "Epoch 65/150\n",
      "710/710 [==============================] - 7s 10ms/step - loss: 0.6288 - accuracy: 0.6438 - precision: 0.6479 - recall: 0.6298 - val_loss: 0.5823 - val_accuracy: 0.7001 - val_precision: 0.8942 - val_recall: 0.7384\n",
      "Epoch 66/150\n",
      "710/710 [==============================] - 7s 10ms/step - loss: 0.6277 - accuracy: 0.6438 - precision: 0.6471 - recall: 0.6324 - val_loss: 0.6637 - val_accuracy: 0.5993 - val_precision: 0.9078 - val_recall: 0.5941\n",
      "Epoch 67/150\n",
      "710/710 [==============================] - 7s 10ms/step - loss: 0.6273 - accuracy: 0.6451 - precision: 0.6486 - recall: 0.6336 - val_loss: 0.6364 - val_accuracy: 0.6265 - val_precision: 0.9037 - val_recall: 0.6329\n",
      "Epoch 68/150\n",
      "710/710 [==============================] - 7s 10ms/step - loss: 0.6267 - accuracy: 0.6460 - precision: 0.6496 - recall: 0.6337 - val_loss: 0.6673 - val_accuracy: 0.5903 - val_precision: 0.9082 - val_recall: 0.5821\n",
      "Epoch 69/150\n",
      "710/710 [==============================] - 7s 10ms/step - loss: 0.6268 - accuracy: 0.6451 - precision: 0.6490 - recall: 0.6320 - val_loss: 0.7948 - val_accuracy: 0.4300 - val_precision: 0.9251 - val_recall: 0.3665\n",
      "Epoch 70/150\n",
      "710/710 [==============================] - 7s 10ms/step - loss: 0.6265 - accuracy: 0.6451 - precision: 0.6491 - recall: 0.6315 - val_loss: 0.6166 - val_accuracy: 0.6518 - val_precision: 0.9006 - val_recall: 0.6687\n",
      "Epoch 71/150\n",
      "710/710 [==============================] - 8s 11ms/step - loss: 0.6256 - accuracy: 0.6473 - precision: 0.6512 - recall: 0.6345 - val_loss: 0.6440 - val_accuracy: 0.6248 - val_precision: 0.9037 - val_recall: 0.6307\n",
      "Epoch 72/150\n",
      "710/710 [==============================] - 8s 11ms/step - loss: 0.6257 - accuracy: 0.6458 - precision: 0.6495 - recall: 0.6335 - val_loss: 0.6934 - val_accuracy: 0.5620 - val_precision: 0.9123 - val_recall: 0.5425\n",
      "Epoch 73/150\n",
      "710/710 [==============================] - 7s 10ms/step - loss: 0.6247 - accuracy: 0.6463 - precision: 0.6506 - recall: 0.6317 - val_loss: 0.6426 - val_accuracy: 0.6185 - val_precision: 0.9053 - val_recall: 0.6211\n",
      "Epoch 74/150\n",
      "710/710 [==============================] - 7s 10ms/step - loss: 0.6236 - accuracy: 0.6487 - precision: 0.6523 - recall: 0.6370 - val_loss: 0.6577 - val_accuracy: 0.5977 - val_precision: 0.9066 - val_recall: 0.5930\n",
      "Epoch 75/150\n",
      "710/710 [==============================] - 8s 11ms/step - loss: 0.6243 - accuracy: 0.6481 - precision: 0.6518 - recall: 0.6359 - val_loss: 0.6269 - val_accuracy: 0.6381 - val_precision: 0.9026 - val_recall: 0.6490\n",
      "Epoch 76/150\n",
      "710/710 [==============================] - 8s 11ms/step - loss: 0.6236 - accuracy: 0.6477 - precision: 0.6517 - recall: 0.6345 - val_loss: 0.7591 - val_accuracy: 0.4778 - val_precision: 0.9189 - val_recall: 0.4305\n",
      "Epoch 77/150\n",
      "710/710 [==============================] - 8s 11ms/step - loss: 0.6235 - accuracy: 0.6484 - precision: 0.6528 - recall: 0.6340 - val_loss: 0.6134 - val_accuracy: 0.6591 - val_precision: 0.8996 - val_recall: 0.6792\n",
      "Epoch 78/150\n",
      "710/710 [==============================] - 7s 10ms/step - loss: 0.6230 - accuracy: 0.6493 - precision: 0.6533 - recall: 0.6361 - val_loss: 0.6620 - val_accuracy: 0.6024 - val_precision: 0.9063 - val_recall: 0.5994\n",
      "Epoch 79/150\n",
      "710/710 [==============================] - 7s 10ms/step - loss: 0.6221 - accuracy: 0.6502 - precision: 0.6540 - recall: 0.6378 - val_loss: 0.6416 - val_accuracy: 0.6332 - val_precision: 0.9021 - val_recall: 0.6431\n",
      "Epoch 80/150\n",
      "710/710 [==============================] - 7s 10ms/step - loss: 0.6220 - accuracy: 0.6495 - precision: 0.6536 - recall: 0.6361 - val_loss: 0.6296 - val_accuracy: 0.6396 - val_precision: 0.9017 - val_recall: 0.6517\n",
      "Epoch 81/150\n",
      "710/710 [==============================] - 7s 10ms/step - loss: 0.6211 - accuracy: 0.6504 - precision: 0.6534 - recall: 0.6408 - val_loss: 0.6515 - val_accuracy: 0.6089 - val_precision: 0.9060 - val_recall: 0.6081\n",
      "Epoch 82/150\n",
      "710/710 [==============================] - 7s 10ms/step - loss: 0.6209 - accuracy: 0.6509 - precision: 0.6549 - recall: 0.6379 - val_loss: 0.7099 - val_accuracy: 0.5420 - val_precision: 0.9134 - val_recall: 0.5161\n",
      "Epoch 83/150\n",
      "710/710 [==============================] - 8s 11ms/step - loss: 0.6209 - accuracy: 0.6497 - precision: 0.6534 - recall: 0.6375 - val_loss: 0.6455 - val_accuracy: 0.6220 - val_precision: 0.9036 - val_recall: 0.6271\n",
      "Epoch 84/150\n",
      "710/710 [==============================] - 8s 11ms/step - loss: 0.6205 - accuracy: 0.6510 - precision: 0.6552 - recall: 0.6375 - val_loss: 0.6655 - val_accuracy: 0.5978 - val_precision: 0.9066 - val_recall: 0.5931\n",
      "Epoch 85/150\n",
      "710/710 [==============================] - 7s 10ms/step - loss: 0.6200 - accuracy: 0.6521 - precision: 0.6558 - recall: 0.6403 - val_loss: 0.6224 - val_accuracy: 0.6496 - val_precision: 0.8999 - val_recall: 0.6665\n",
      "Epoch 86/150\n",
      "710/710 [==============================] - 8s 11ms/step - loss: 0.6198 - accuracy: 0.6527 - precision: 0.6565 - recall: 0.6405 - val_loss: 0.7598 - val_accuracy: 0.4818 - val_precision: 0.9176 - val_recall: 0.4363\n",
      "Epoch 87/150\n",
      "710/710 [==============================] - 8s 11ms/step - loss: 0.6195 - accuracy: 0.6526 - precision: 0.6572 - recall: 0.6383 - val_loss: 0.6857 - val_accuracy: 0.5820 - val_precision: 0.9080 - val_recall: 0.5716\n",
      "Epoch 88/150\n",
      "710/710 [==============================] - 8s 11ms/step - loss: 0.6195 - accuracy: 0.6525 - precision: 0.6569 - recall: 0.6384 - val_loss: 0.7142 - val_accuracy: 0.5357 - val_precision: 0.9131 - val_recall: 0.5081\n",
      "Epoch 89/150\n",
      "710/710 [==============================] - 8s 11ms/step - loss: 0.6185 - accuracy: 0.6539 - precision: 0.6576 - recall: 0.6423 - val_loss: 0.6865 - val_accuracy: 0.5702 - val_precision: 0.9103 - val_recall: 0.5547\n",
      "Epoch 90/150\n",
      "710/710 [==============================] - 8s 11ms/step - loss: 0.6177 - accuracy: 0.6531 - precision: 0.6570 - recall: 0.6407 - val_loss: 0.6468 - val_accuracy: 0.6174 - val_precision: 0.9047 - val_recall: 0.6203\n",
      "Epoch 91/150\n",
      "710/710 [==============================] - 8s 11ms/step - loss: 0.6174 - accuracy: 0.6562 - precision: 0.6602 - recall: 0.6434 - val_loss: 0.7285 - val_accuracy: 0.5208 - val_precision: 0.9142 - val_recall: 0.4883\n",
      "Epoch 92/150\n",
      "710/710 [==============================] - 8s 11ms/step - loss: 0.6172 - accuracy: 0.6545 - precision: 0.6586 - recall: 0.6414 - val_loss: 0.6512 - val_accuracy: 0.6116 - val_precision: 0.9059 - val_recall: 0.6117\n",
      "Epoch 93/150\n",
      "710/710 [==============================] - 7s 10ms/step - loss: 0.6170 - accuracy: 0.6552 - precision: 0.6595 - recall: 0.6415 - val_loss: 0.6548 - val_accuracy: 0.6114 - val_precision: 0.9039 - val_recall: 0.6131\n",
      "Epoch 94/150\n",
      "710/710 [==============================] - 7s 10ms/step - loss: 0.6162 - accuracy: 0.6552 - precision: 0.6601 - recall: 0.6398 - val_loss: 0.6152 - val_accuracy: 0.6520 - val_precision: 0.9001 - val_recall: 0.6693\n",
      "Epoch 95/150\n",
      "710/710 [==============================] - 9s 12ms/step - loss: 0.6156 - accuracy: 0.6565 - precision: 0.6611 - recall: 0.6425 - val_loss: 0.6883 - val_accuracy: 0.5796 - val_precision: 0.9076 - val_recall: 0.5688\n",
      "Epoch 96/150\n",
      "710/710 [==============================] - 8s 12ms/step - loss: 0.6151 - accuracy: 0.6575 - precision: 0.6619 - recall: 0.6437 - val_loss: 0.6264 - val_accuracy: 0.6451 - val_precision: 0.8999 - val_recall: 0.6605\n",
      "Epoch 97/150\n",
      "710/710 [==============================] - 8s 11ms/step - loss: 0.6157 - accuracy: 0.6563 - precision: 0.6608 - recall: 0.6422 - val_loss: 0.6912 - val_accuracy: 0.5734 - val_precision: 0.9092 - val_recall: 0.5595\n",
      "Epoch 98/150\n",
      "710/710 [==============================] - 8s 11ms/step - loss: 0.6149 - accuracy: 0.6570 - precision: 0.6610 - recall: 0.6447 - val_loss: 0.6489 - val_accuracy: 0.6199 - val_precision: 0.9030 - val_recall: 0.6249\n",
      "Epoch 99/150\n",
      "710/710 [==============================] - 7s 10ms/step - loss: 0.6147 - accuracy: 0.6574 - precision: 0.6620 - recall: 0.6434 - val_loss: 0.6208 - val_accuracy: 0.6455 - val_precision: 0.9007 - val_recall: 0.6604\n",
      "Epoch 100/150\n",
      "710/710 [==============================] - 7s 10ms/step - loss: 0.6142 - accuracy: 0.6582 - precision: 0.6627 - recall: 0.6443 - val_loss: 0.6997 - val_accuracy: 0.5628 - val_precision: 0.9096 - val_recall: 0.5456\n",
      "Epoch 101/150\n",
      "710/710 [==============================] - 7s 10ms/step - loss: 0.6138 - accuracy: 0.6589 - precision: 0.6633 - recall: 0.6455 - val_loss: 0.6794 - val_accuracy: 0.5884 - val_precision: 0.9067 - val_recall: 0.5808\n",
      "Epoch 102/150\n",
      "710/710 [==============================] - 7s 10ms/step - loss: 0.6135 - accuracy: 0.6585 - precision: 0.6633 - recall: 0.6439 - val_loss: 0.6670 - val_accuracy: 0.5969 - val_precision: 0.9052 - val_recall: 0.5931\n",
      "Epoch 103/150\n",
      "710/710 [==============================] - 7s 11ms/step - loss: 0.6132 - accuracy: 0.6585 - precision: 0.6632 - recall: 0.6438 - val_loss: 0.6405 - val_accuracy: 0.6283 - val_precision: 0.9027 - val_recall: 0.6361\n",
      "Epoch 104/150\n",
      "710/710 [==============================] - 8s 11ms/step - loss: 0.6129 - accuracy: 0.6583 - precision: 0.6626 - recall: 0.6450 - val_loss: 0.6893 - val_accuracy: 0.5746 - val_precision: 0.9082 - val_recall: 0.5618\n",
      "Epoch 105/150\n",
      "710/710 [==============================] - 7s 10ms/step - loss: 0.6121 - accuracy: 0.6596 - precision: 0.6644 - recall: 0.6450 - val_loss: 0.7150 - val_accuracy: 0.5390 - val_precision: 0.9107 - val_recall: 0.5141\n",
      "Epoch 106/150\n",
      "710/710 [==============================] - 8s 11ms/step - loss: 0.6113 - accuracy: 0.6607 - precision: 0.6658 - recall: 0.6455 - val_loss: 0.6401 - val_accuracy: 0.6236 - val_precision: 0.9027 - val_recall: 0.6299\n",
      "Epoch 107/150\n",
      "710/710 [==============================] - 8s 11ms/step - loss: 0.6107 - accuracy: 0.6613 - precision: 0.6659 - recall: 0.6473 - val_loss: 0.7393 - val_accuracy: 0.5123 - val_precision: 0.9128 - val_recall: 0.4783\n",
      "Epoch 108/150\n",
      "710/710 [==============================] - 8s 11ms/step - loss: 0.6111 - accuracy: 0.6607 - precision: 0.6653 - recall: 0.6465 - val_loss: 0.7095 - val_accuracy: 0.5462 - val_precision: 0.9112 - val_recall: 0.5230\n",
      "Epoch 109/150\n",
      "710/710 [==============================] - 8s 11ms/step - loss: 0.6100 - accuracy: 0.6607 - precision: 0.6649 - recall: 0.6482 - val_loss: 0.7238 - val_accuracy: 0.5394 - val_precision: 0.9118 - val_recall: 0.5138\n",
      "Epoch 110/150\n",
      "710/710 [==============================] - 8s 11ms/step - loss: 0.6103 - accuracy: 0.6607 - precision: 0.6659 - recall: 0.6449 - val_loss: 0.5603 - val_accuracy: 0.7183 - val_precision: 0.8905 - val_recall: 0.7665\n",
      "Epoch 111/150\n",
      "710/710 [==============================] - 7s 10ms/step - loss: 0.6098 - accuracy: 0.6608 - precision: 0.6657 - recall: 0.6458 - val_loss: 0.6570 - val_accuracy: 0.6165 - val_precision: 0.9031 - val_recall: 0.6204\n",
      "Epoch 112/150\n",
      "710/710 [==============================] - 7s 10ms/step - loss: 0.6098 - accuracy: 0.6623 - precision: 0.6667 - recall: 0.6490 - val_loss: 0.6183 - val_accuracy: 0.6546 - val_precision: 0.8994 - val_recall: 0.6734\n",
      "Epoch 113/150\n",
      "710/710 [==============================] - 7s 10ms/step - loss: 0.6089 - accuracy: 0.6624 - precision: 0.6669 - recall: 0.6491 - val_loss: 0.6744 - val_accuracy: 0.5959 - val_precision: 0.9061 - val_recall: 0.5912\n",
      "Epoch 114/150\n",
      "710/710 [==============================] - 7s 10ms/step - loss: 0.6087 - accuracy: 0.6635 - precision: 0.6684 - recall: 0.6490 - val_loss: 0.7048 - val_accuracy: 0.5546 - val_precision: 0.9095 - val_recall: 0.5350\n",
      "Epoch 115/150\n",
      "710/710 [==============================] - 7s 10ms/step - loss: 0.6084 - accuracy: 0.6628 - precision: 0.6677 - recall: 0.6481 - val_loss: 0.6748 - val_accuracy: 0.5864 - val_precision: 0.9061 - val_recall: 0.5788\n",
      "Epoch 116/150\n",
      "710/710 [==============================] - 7s 10ms/step - loss: 0.6078 - accuracy: 0.6638 - precision: 0.6690 - recall: 0.6483 - val_loss: 0.6371 - val_accuracy: 0.6338 - val_precision: 0.9005 - val_recall: 0.6453\n",
      "Epoch 117/150\n",
      "710/710 [==============================] - 8s 12ms/step - loss: 0.6067 - accuracy: 0.6659 - precision: 0.6713 - recall: 0.6500 - val_loss: 0.6704 - val_accuracy: 0.6061 - val_precision: 0.9037 - val_recall: 0.6063\n",
      "Epoch 118/150\n",
      "710/710 [==============================] - 8s 11ms/step - loss: 0.6076 - accuracy: 0.6628 - precision: 0.6677 - recall: 0.6480 - val_loss: 0.7006 - val_accuracy: 0.5671 - val_precision: 0.9078 - val_recall: 0.5526\n",
      "Epoch 119/150\n",
      "710/710 [==============================] - 8s 11ms/step - loss: 0.6067 - accuracy: 0.6647 - precision: 0.6698 - recall: 0.6498 - val_loss: 0.6959 - val_accuracy: 0.5679 - val_precision: 0.9075 - val_recall: 0.5537\n",
      "Epoch 120/150\n",
      "710/710 [==============================] - 7s 10ms/step - loss: 0.6064 - accuracy: 0.6646 - precision: 0.6698 - recall: 0.6492 - val_loss: 0.6477 - val_accuracy: 0.6220 - val_precision: 0.9020 - val_recall: 0.6285\n",
      "Epoch 121/150\n",
      "710/710 [==============================] - 7s 10ms/step - loss: 0.6058 - accuracy: 0.6645 - precision: 0.6698 - recall: 0.6488 - val_loss: 0.6429 - val_accuracy: 0.6335 - val_precision: 0.9002 - val_recall: 0.6450\n",
      "Epoch 122/150\n",
      "710/710 [==============================] - 7s 10ms/step - loss: 0.6055 - accuracy: 0.6650 - precision: 0.6705 - recall: 0.6491 - val_loss: 0.6158 - val_accuracy: 0.6619 - val_precision: 0.8962 - val_recall: 0.6861\n",
      "Epoch 123/150\n",
      "710/710 [==============================] - 8s 11ms/step - loss: 0.6045 - accuracy: 0.6670 - precision: 0.6724 - recall: 0.6515 - val_loss: 0.6757 - val_accuracy: 0.5924 - val_precision: 0.9053 - val_recall: 0.5873\n",
      "Epoch 124/150\n",
      "710/710 [==============================] - 7s 10ms/step - loss: 0.6050 - accuracy: 0.6658 - precision: 0.6711 - recall: 0.6505 - val_loss: 0.6572 - val_accuracy: 0.6031 - val_precision: 0.9031 - val_recall: 0.6029\n",
      "Epoch 125/150\n",
      "710/710 [==============================] - 8s 11ms/step - loss: 0.6041 - accuracy: 0.6679 - precision: 0.6736 - recall: 0.6513 - val_loss: 0.7445 - val_accuracy: 0.5168 - val_precision: 0.9117 - val_recall: 0.4848\n",
      "Epoch 126/150\n",
      "710/710 [==============================] - 8s 11ms/step - loss: 0.6038 - accuracy: 0.6665 - precision: 0.6724 - recall: 0.6494 - val_loss: 0.6959 - val_accuracy: 0.5712 - val_precision: 0.9078 - val_recall: 0.5578\n",
      "Epoch 127/150\n",
      "710/710 [==============================] - 8s 11ms/step - loss: 0.6033 - accuracy: 0.6678 - precision: 0.6728 - recall: 0.6534 - val_loss: 0.6581 - val_accuracy: 0.6144 - val_precision: 0.9019 - val_recall: 0.6187\n",
      "Epoch 128/150\n",
      "710/710 [==============================] - 8s 11ms/step - loss: 0.6032 - accuracy: 0.6685 - precision: 0.6742 - recall: 0.6523 - val_loss: 0.6659 - val_accuracy: 0.6030 - val_precision: 0.9039 - val_recall: 0.6022\n",
      "Epoch 129/150\n",
      "710/710 [==============================] - 9s 12ms/step - loss: 0.6028 - accuracy: 0.6675 - precision: 0.6730 - recall: 0.6514 - val_loss: 0.6049 - val_accuracy: 0.6674 - val_precision: 0.8948 - val_recall: 0.6947\n",
      "Epoch 130/150\n",
      "710/710 [==============================] - 8s 11ms/step - loss: 0.6017 - accuracy: 0.6682 - precision: 0.6731 - recall: 0.6538 - val_loss: 0.6316 - val_accuracy: 0.6323 - val_precision: 0.8996 - val_recall: 0.6442\n",
      "Epoch 131/150\n",
      "710/710 [==============================] - 8s 11ms/step - loss: 0.6016 - accuracy: 0.6701 - precision: 0.6758 - recall: 0.6538 - val_loss: 0.6568 - val_accuracy: 0.6138 - val_precision: 0.9022 - val_recall: 0.6176\n",
      "Epoch 132/150\n",
      "710/710 [==============================] - 7s 10ms/step - loss: 0.6017 - accuracy: 0.6682 - precision: 0.6739 - recall: 0.6517 - val_loss: 0.7152 - val_accuracy: 0.5525 - val_precision: 0.9082 - val_recall: 0.5333\n",
      "Epoch 133/150\n",
      "710/710 [==============================] - 7s 10ms/step - loss: 0.6008 - accuracy: 0.6693 - precision: 0.6744 - recall: 0.6545 - val_loss: 0.7399 - val_accuracy: 0.5241 - val_precision: 0.9115 - val_recall: 0.4943\n",
      "Epoch 134/150\n",
      "710/710 [==============================] - 7s 10ms/step - loss: 0.6004 - accuracy: 0.6704 - precision: 0.6760 - recall: 0.6545 - val_loss: 0.6590 - val_accuracy: 0.6122 - val_precision: 0.9023 - val_recall: 0.6154\n",
      "Epoch 135/150\n",
      "710/710 [==============================] - 7s 11ms/step - loss: 0.6004 - accuracy: 0.6695 - precision: 0.6749 - recall: 0.6539 - val_loss: 0.6866 - val_accuracy: 0.5912 - val_precision: 0.9045 - val_recall: 0.5863\n",
      "Epoch 136/150\n",
      "710/710 [==============================] - 7s 11ms/step - loss: 0.6001 - accuracy: 0.6706 - precision: 0.6763 - recall: 0.6547 - val_loss: 0.7010 - val_accuracy: 0.5740 - val_precision: 0.9067 - val_recall: 0.5622\n",
      "Epoch 137/150\n",
      "710/710 [==============================] - 8s 11ms/step - loss: 0.5998 - accuracy: 0.6702 - precision: 0.6756 - recall: 0.6549 - val_loss: 0.7119 - val_accuracy: 0.5509 - val_precision: 0.9073 - val_recall: 0.5318\n",
      "Epoch 138/150\n",
      "710/710 [==============================] - 8s 11ms/step - loss: 0.5997 - accuracy: 0.6709 - precision: 0.6768 - recall: 0.6544 - val_loss: 0.6992 - val_accuracy: 0.5711 - val_precision: 0.9074 - val_recall: 0.5579\n",
      "Epoch 139/150\n",
      "710/710 [==============================] - 7s 10ms/step - loss: 0.5988 - accuracy: 0.6705 - precision: 0.6765 - recall: 0.6535 - val_loss: 0.7078 - val_accuracy: 0.5754 - val_precision: 0.9064 - val_recall: 0.5643\n",
      "Epoch 140/150\n",
      "710/710 [==============================] - 8s 11ms/step - loss: 0.5994 - accuracy: 0.6700 - precision: 0.6761 - recall: 0.6527 - val_loss: 0.6539 - val_accuracy: 0.6273 - val_precision: 0.9006 - val_recall: 0.6366\n",
      "Epoch 141/150\n",
      "710/710 [==============================] - 7s 10ms/step - loss: 0.5974 - accuracy: 0.6732 - precision: 0.6790 - recall: 0.6571 - val_loss: 0.6491 - val_accuracy: 0.6221 - val_precision: 0.9011 - val_recall: 0.6294\n",
      "Epoch 142/150\n",
      "710/710 [==============================] - 7s 10ms/step - loss: 0.5974 - accuracy: 0.6727 - precision: 0.6781 - recall: 0.6576 - val_loss: 0.5935 - val_accuracy: 0.6887 - val_precision: 0.8928 - val_recall: 0.7249\n",
      "Epoch 143/150\n",
      "710/710 [==============================] - 7s 10ms/step - loss: 0.5971 - accuracy: 0.6733 - precision: 0.6792 - recall: 0.6566 - val_loss: 0.7380 - val_accuracy: 0.5391 - val_precision: 0.9094 - val_recall: 0.5151\n",
      "Epoch 144/150\n",
      "710/710 [==============================] - 7s 11ms/step - loss: 0.5969 - accuracy: 0.6735 - precision: 0.6797 - recall: 0.6562 - val_loss: 0.7275 - val_accuracy: 0.5469 - val_precision: 0.9087 - val_recall: 0.5257\n",
      "Epoch 145/150\n",
      "710/710 [==============================] - 11s 15ms/step - loss: 0.5973 - accuracy: 0.6722 - precision: 0.6778 - recall: 0.6566 - val_loss: 0.8259 - val_accuracy: 0.4330 - val_precision: 0.9181 - val_recall: 0.3737\n",
      "Epoch 146/150\n",
      "710/710 [==============================] - 9s 13ms/step - loss: 0.5963 - accuracy: 0.6725 - precision: 0.6786 - recall: 0.6552 - val_loss: 0.6752 - val_accuracy: 0.6079 - val_precision: 0.9023 - val_recall: 0.6099\n",
      "Epoch 147/150\n",
      "710/710 [==============================] - 10s 14ms/step - loss: 0.5954 - accuracy: 0.6741 - precision: 0.6798 - recall: 0.6582 - val_loss: 0.6796 - val_accuracy: 0.5937 - val_precision: 0.9045 - val_recall: 0.5896\n",
      "Epoch 148/150\n",
      "710/710 [==============================] - 8s 11ms/step - loss: 0.5949 - accuracy: 0.6749 - precision: 0.6811 - recall: 0.6581 - val_loss: 0.7001 - val_accuracy: 0.5792 - val_precision: 0.9047 - val_recall: 0.5706\n",
      "Epoch 149/150\n",
      "710/710 [==============================] - 8s 11ms/step - loss: 0.5951 - accuracy: 0.6739 - precision: 0.6798 - recall: 0.6577 - val_loss: 0.6852 - val_accuracy: 0.5957 - val_precision: 0.9036 - val_recall: 0.5929\n",
      "Epoch 150/150\n",
      "710/710 [==============================] - 8s 11ms/step - loss: 0.5943 - accuracy: 0.6752 - precision: 0.6811 - recall: 0.6591 - val_loss: 0.7167 - val_accuracy: 0.5745 - val_precision: 0.9048 - val_recall: 0.5643\n"
     ]
    }
   ],
   "source": [
    "history = modelo.fit(X_resampled, y_resampled, epochs = 150, batch_size = 150, validation_data = (X_test, y_test), verbose = 1)"
   ]
  },
  {
   "cell_type": "code",
   "execution_count": 38,
   "metadata": {},
   "outputs": [
    {
     "data": {
      "image/png": "[encoded data removed]",
      "text/plain": [
       "<Figure size 960x720 with 1 Axes>"
      ]
     },
     "metadata": {},
     "output_type": "display_data"
    }
   ],
   "source": [
    "fig, ax = plt.subplots(1, 1, figsize = (8,6), dpi = 120)\n",
    "ax.plot(history.history['loss'], lw = 1.3, color = 'darkred', label = 'loss')\n",
    "ax.plot(history.history['accuracy'], lw = 1.3, color = 'dodgerblue', label = 'accuracy')\n",
    "ax.legend()\n",
    "plt.show()"
   ]
  },
  {
   "cell_type": "code",
   "execution_count": 39,
   "metadata": {},
   "outputs": [
    {
     "data": {
      "image/png": "[encoded data removed]",
      "text/plain": [
       "<Figure size 960x720 with 1 Axes>"
      ]
     },
     "metadata": {},
     "output_type": "display_data"
    }
   ],
   "source": [
    "fig, ax = plt.subplots(1, 1, figsize = (8,6), dpi = 120)\n",
    "ax.plot(history.history['val_loss'], lw = 1.3, color = 'darkred', label = 'val loss')\n",
    "ax.plot(history.history['val_accuracy'], lw = 1.3, color = 'dodgerblue', label = 'val accuracy')\n",
    "ax.legend()\n",
    "plt.show()"
   ]
  },
  {
   "cell_type": "markdown",
   "metadata": {},
   "source": [
    "### Predicción del modelo"
   ]
  },
  {
   "cell_type": "code",
   "execution_count": 40,
   "metadata": {},
   "outputs": [
    {
     "data": {
      "text/html": [
       "<div>\n",
       "<style scoped>\n",
       "    .dataframe tbody tr th:only-of-type {\n",
       "        vertical-align: middle;\n",
       "    }\n",
       "\n",
       "    .dataframe tbody tr th {\n",
       "        vertical-align: top;\n",
       "    }\n",
       "\n",
       "    .dataframe thead th {\n",
       "        text-align: right;\n",
       "    }\n",
       "</style>\n",
       "<table border=\"1\" class=\"dataframe\">\n",
       "  <thead>\n",
       "    <tr style=\"text-align: right;\">\n",
       "      <th></th>\n",
       "      <th>feature_1</th>\n",
       "      <th>feature_2</th>\n",
       "      <th>feature_3</th>\n",
       "      <th>feature_4</th>\n",
       "      <th>feature_5</th>\n",
       "      <th>feature_6</th>\n",
       "      <th>feature_7</th>\n",
       "      <th>feature_8</th>\n",
       "      <th>feature_9</th>\n",
       "      <th>feature_10</th>\n",
       "      <th>...</th>\n",
       "      <th>feature_209</th>\n",
       "      <th>feature_210</th>\n",
       "      <th>feature_211</th>\n",
       "      <th>feature_212</th>\n",
       "      <th>feature_213</th>\n",
       "      <th>feature_214</th>\n",
       "      <th>feature_215</th>\n",
       "      <th>feature_216</th>\n",
       "      <th>feature_217</th>\n",
       "      <th>feature_218</th>\n",
       "    </tr>\n",
       "  </thead>\n",
       "  <tbody>\n",
       "    <tr>\n",
       "      <th>0</th>\n",
       "      <td>0.616277</td>\n",
       "      <td>0.5</td>\n",
       "      <td>0.0</td>\n",
       "      <td>0.000000</td>\n",
       "      <td>0.099574</td>\n",
       "      <td>0.009777</td>\n",
       "      <td>0.250000</td>\n",
       "      <td>0.777850</td>\n",
       "      <td>0.004666</td>\n",
       "      <td>0.666667</td>\n",
       "      <td>...</td>\n",
       "      <td>0.55</td>\n",
       "      <td>0.084877</td>\n",
       "      <td>0.084301</td>\n",
       "      <td>0.009744</td>\n",
       "      <td>0.85</td>\n",
       "      <td>0.053579</td>\n",
       "      <td>0.205928</td>\n",
       "      <td>0.084301</td>\n",
       "      <td>0.014128</td>\n",
       "      <td>0.0</td>\n",
       "    </tr>\n",
       "    <tr>\n",
       "      <th>1</th>\n",
       "      <td>0.239266</td>\n",
       "      <td>0.0</td>\n",
       "      <td>0.0</td>\n",
       "      <td>0.000189</td>\n",
       "      <td>0.391774</td>\n",
       "      <td>0.006983</td>\n",
       "      <td>0.208375</td>\n",
       "      <td>0.561785</td>\n",
       "      <td>0.001886</td>\n",
       "      <td>0.500000</td>\n",
       "      <td>...</td>\n",
       "      <td>0.50</td>\n",
       "      <td>0.027562</td>\n",
       "      <td>0.034084</td>\n",
       "      <td>0.003654</td>\n",
       "      <td>1.00</td>\n",
       "      <td>0.035562</td>\n",
       "      <td>0.118498</td>\n",
       "      <td>0.028083</td>\n",
       "      <td>0.004438</td>\n",
       "      <td>1.0</td>\n",
       "    </tr>\n",
       "    <tr>\n",
       "      <th>2</th>\n",
       "      <td>0.486676</td>\n",
       "      <td>0.5</td>\n",
       "      <td>0.0</td>\n",
       "      <td>0.000000</td>\n",
       "      <td>0.427581</td>\n",
       "      <td>0.000000</td>\n",
       "      <td>0.277750</td>\n",
       "      <td>0.582175</td>\n",
       "      <td>0.006553</td>\n",
       "      <td>0.500000</td>\n",
       "      <td>...</td>\n",
       "      <td>0.00</td>\n",
       "      <td>0.000000</td>\n",
       "      <td>0.000000</td>\n",
       "      <td>0.000000</td>\n",
       "      <td>0.00</td>\n",
       "      <td>0.000000</td>\n",
       "      <td>0.000000</td>\n",
       "      <td>0.000000</td>\n",
       "      <td>0.000000</td>\n",
       "      <td>1.0</td>\n",
       "    </tr>\n",
       "    <tr>\n",
       "      <th>3</th>\n",
       "      <td>0.455066</td>\n",
       "      <td>0.5</td>\n",
       "      <td>0.0</td>\n",
       "      <td>NaN</td>\n",
       "      <td>0.363796</td>\n",
       "      <td>0.001397</td>\n",
       "      <td>0.096125</td>\n",
       "      <td>0.657557</td>\n",
       "      <td>0.002383</td>\n",
       "      <td>0.666667</td>\n",
       "      <td>...</td>\n",
       "      <td>0.00</td>\n",
       "      <td>0.000000</td>\n",
       "      <td>0.000000</td>\n",
       "      <td>0.000000</td>\n",
       "      <td>0.00</td>\n",
       "      <td>0.000000</td>\n",
       "      <td>0.000000</td>\n",
       "      <td>0.000000</td>\n",
       "      <td>0.000000</td>\n",
       "      <td>0.0</td>\n",
       "    </tr>\n",
       "    <tr>\n",
       "      <th>4</th>\n",
       "      <td>0.490666</td>\n",
       "      <td>0.0</td>\n",
       "      <td>0.0</td>\n",
       "      <td>0.000000</td>\n",
       "      <td>0.253376</td>\n",
       "      <td>0.009777</td>\n",
       "      <td>0.500000</td>\n",
       "      <td>0.632926</td>\n",
       "      <td>0.000000</td>\n",
       "      <td>NaN</td>\n",
       "      <td>...</td>\n",
       "      <td>0.00</td>\n",
       "      <td>0.000000</td>\n",
       "      <td>0.000000</td>\n",
       "      <td>0.000000</td>\n",
       "      <td>0.00</td>\n",
       "      <td>0.000000</td>\n",
       "      <td>0.000000</td>\n",
       "      <td>0.000000</td>\n",
       "      <td>0.000000</td>\n",
       "      <td>1.0</td>\n",
       "    </tr>\n",
       "  </tbody>\n",
       "</table>\n",
       "<p>5 rows × 218 columns</p>\n",
       "</div>"
      ],
      "text/plain": [
       "   feature_1  feature_2  feature_3  feature_4  feature_5  feature_6  \\\n",
       "0   0.616277        0.5        0.0   0.000000   0.099574   0.009777   \n",
       "1   0.239266        0.0        0.0   0.000189   0.391774   0.006983   \n",
       "2   0.486676        0.5        0.0   0.000000   0.427581   0.000000   \n",
       "3   0.455066        0.5        0.0        NaN   0.363796   0.001397   \n",
       "4   0.490666        0.0        0.0   0.000000   0.253376   0.009777   \n",
       "\n",
       "   feature_7  feature_8  feature_9  feature_10  ...  feature_209  feature_210  \\\n",
       "0   0.250000   0.777850   0.004666    0.666667  ...         0.55     0.084877   \n",
       "1   0.208375   0.561785   0.001886    0.500000  ...         0.50     0.027562   \n",
       "2   0.277750   0.582175   0.006553    0.500000  ...         0.00     0.000000   \n",
       "3   0.096125   0.657557   0.002383    0.666667  ...         0.00     0.000000   \n",
       "4   0.500000   0.632926   0.000000         NaN  ...         0.00     0.000000   \n",
       "\n",
       "   feature_211  feature_212  feature_213  feature_214 feature_215  \\\n",
       "0     0.084301     0.009744         0.85     0.053579    0.205928   \n",
       "1     0.034084     0.003654         1.00     0.035562    0.118498   \n",
       "2     0.000000     0.000000         0.00     0.000000    0.000000   \n",
       "3     0.000000     0.000000         0.00     0.000000    0.000000   \n",
       "4     0.000000     0.000000         0.00     0.000000    0.000000   \n",
       "\n",
       "   feature_216  feature_217  feature_218  \n",
       "0     0.084301     0.014128          0.0  \n",
       "1     0.028083     0.004438          1.0  \n",
       "2     0.000000     0.000000          1.0  \n",
       "3     0.000000     0.000000          0.0  \n",
       "4     0.000000     0.000000          1.0  \n",
       "\n",
       "[5 rows x 218 columns]"
      ]
     },
     "execution_count": 40,
     "metadata": {},
     "output_type": "execute_result"
    }
   ],
   "source": [
    "validation_data = pd.read_pickle(\"Data/validation_sample_1.pkl\")\n",
    "\n",
    "validation_data.head()"
   ]
  },
  {
   "cell_type": "code",
   "execution_count": 41,
   "metadata": {},
   "outputs": [
    {
     "data": {
      "text/plain": [
       "float32     118\n",
       "float64      89\n",
       "category      1\n",
       "category      1\n",
       "category      1\n",
       "category      1\n",
       "category      1\n",
       "category      1\n",
       "category      1\n",
       "object        1\n",
       "category      1\n",
       "category      1\n",
       "category      1\n",
       "dtype: int64"
      ]
     },
     "execution_count": 41,
     "metadata": {},
     "output_type": "execute_result"
    }
   ],
   "source": [
    "validation_data.dtypes.value_counts()"
   ]
  },
  {
   "cell_type": "code",
   "execution_count": 42,
   "metadata": {},
   "outputs": [],
   "source": [
    "categorical_val = validation_data.select_dtypes(include = ['object', 'category']).columns"
   ]
  },
  {
   "cell_type": "code",
   "execution_count": 43,
   "metadata": {},
   "outputs": [],
   "source": [
    "validation_data_copy = validation_data.copy()"
   ]
  },
  {
   "cell_type": "code",
   "execution_count": 44,
   "metadata": {},
   "outputs": [],
   "source": [
    "le_2 = LabelEncoder()"
   ]
  },
  {
   "cell_type": "code",
   "execution_count": 45,
   "metadata": {},
   "outputs": [],
   "source": [
    "validation_data_copy[categorical_val] = validation_data_copy[categorical_val].apply(lambda col: le_2.fit_transform(col))\n"
   ]
  },
  {
   "cell_type": "code",
   "execution_count": 46,
   "metadata": {},
   "outputs": [],
   "source": [
    "# cols_to_drop = validation_data_copy.select_dtypes(include = ['category', 'object']).columns\n",
    "\n",
    "# validation_data_copy.drop(columns = cols_to_drop, inplace = True)"
   ]
  },
  {
   "cell_type": "code",
   "execution_count": 47,
   "metadata": {},
   "outputs": [],
   "source": [
    "nans_val = validation_data_copy.columns[validation_data_copy.isnull().any()]"
   ]
  },
  {
   "cell_type": "code",
   "execution_count": 48,
   "metadata": {},
   "outputs": [
    {
     "data": {
      "text/plain": [
       "Index(['feature_4', 'feature_10', 'feature_15', 'feature_16', 'feature_51',\n",
       "       'feature_53', 'feature_73', 'feature_74', 'feature_83', 'feature_84',\n",
       "       'feature_90', 'feature_91', 'feature_92', 'feature_103', 'feature_121',\n",
       "       'feature_122', 'feature_128', 'feature_131', 'feature_132',\n",
       "       'feature_133', 'feature_134', 'feature_149', 'feature_151',\n",
       "       'feature_153', 'feature_154', 'feature_167', 'feature_169',\n",
       "       'feature_170', 'feature_172', 'feature_173', 'feature_174',\n",
       "       'feature_175', 'feature_176', 'feature_177', 'feature_178',\n",
       "       'feature_179', 'feature_180', 'feature_181', 'feature_182',\n",
       "       'feature_183', 'feature_184', 'feature_185', 'feature_186',\n",
       "       'feature_188', 'feature_190'],\n",
       "      dtype='object')"
      ]
     },
     "execution_count": 48,
     "metadata": {},
     "output_type": "execute_result"
    }
   ],
   "source": [
    "nans_val"
   ]
  },
  {
   "cell_type": "code",
   "execution_count": 49,
   "metadata": {},
   "outputs": [],
   "source": [
    "for col in nans_val:\n",
    "\n",
    "    validation_data_copy[col].fillna(validation_data_copy[col].mean(), inplace = True)"
   ]
  },
  {
   "cell_type": "code",
   "execution_count": 50,
   "metadata": {},
   "outputs": [
    {
     "ename": "KeyError",
     "evalue": "\"['target'] not in index\"",
     "output_type": "error",
     "traceback": [
      "\u001b[1;31m---------------------------------------------------------------------------\u001b[0m",
      "\u001b[1;31mKeyError\u001b[0m                                  Traceback (most recent call last)",
      "\u001b[1;32mc:\\Users\\franz\\Desktop\\Baubap\\baubap-nn-challenge\\Notebooks\\data_exploratory.ipynb Cell 62\u001b[0m in \u001b[0;36m3\n\u001b[0;32m      <a href='vscode-notebook-cell:/c%3A/Users/franz/Desktop/Baubap/baubap-nn-challenge/Notebooks/data_exploratory.ipynb#Y106sZmlsZQ%3D%3D?line=0'>1</a>\u001b[0m cols_as_train \u001b[39m=\u001b[39m datos_copy\u001b[39m.\u001b[39mcolumns\n\u001b[1;32m----> <a href='vscode-notebook-cell:/c%3A/Users/franz/Desktop/Baubap/baubap-nn-challenge/Notebooks/data_exploratory.ipynb#Y106sZmlsZQ%3D%3D?line=2'>3</a>\u001b[0m validation_data_copy \u001b[39m=\u001b[39m validation_data_copy[cols_as_train]\n",
      "File \u001b[1;32mc:\\Users\\franz\\miniconda3\\envs\\tf-gpu\\lib\\site-packages\\pandas\\core\\frame.py:3811\u001b[0m, in \u001b[0;36mDataFrame.__getitem__\u001b[1;34m(self, key)\u001b[0m\n\u001b[0;32m   3809\u001b[0m     \u001b[39mif\u001b[39;00m is_iterator(key):\n\u001b[0;32m   3810\u001b[0m         key \u001b[39m=\u001b[39m \u001b[39mlist\u001b[39m(key)\n\u001b[1;32m-> 3811\u001b[0m     indexer \u001b[39m=\u001b[39m \u001b[39mself\u001b[39;49m\u001b[39m.\u001b[39;49mcolumns\u001b[39m.\u001b[39;49m_get_indexer_strict(key, \u001b[39m\"\u001b[39;49m\u001b[39mcolumns\u001b[39;49m\u001b[39m\"\u001b[39;49m)[\u001b[39m1\u001b[39m]\n\u001b[0;32m   3813\u001b[0m \u001b[39m# take() does not accept boolean indexers\u001b[39;00m\n\u001b[0;32m   3814\u001b[0m \u001b[39mif\u001b[39;00m \u001b[39mgetattr\u001b[39m(indexer, \u001b[39m\"\u001b[39m\u001b[39mdtype\u001b[39m\u001b[39m\"\u001b[39m, \u001b[39mNone\u001b[39;00m) \u001b[39m==\u001b[39m \u001b[39mbool\u001b[39m:\n",
      "File \u001b[1;32mc:\\Users\\franz\\miniconda3\\envs\\tf-gpu\\lib\\site-packages\\pandas\\core\\indexes\\base.py:6108\u001b[0m, in \u001b[0;36mIndex._get_indexer_strict\u001b[1;34m(self, key, axis_name)\u001b[0m\n\u001b[0;32m   6105\u001b[0m \u001b[39melse\u001b[39;00m:\n\u001b[0;32m   6106\u001b[0m     keyarr, indexer, new_indexer \u001b[39m=\u001b[39m \u001b[39mself\u001b[39m\u001b[39m.\u001b[39m_reindex_non_unique(keyarr)\n\u001b[1;32m-> 6108\u001b[0m \u001b[39mself\u001b[39;49m\u001b[39m.\u001b[39;49m_raise_if_missing(keyarr, indexer, axis_name)\n\u001b[0;32m   6110\u001b[0m keyarr \u001b[39m=\u001b[39m \u001b[39mself\u001b[39m\u001b[39m.\u001b[39mtake(indexer)\n\u001b[0;32m   6111\u001b[0m \u001b[39mif\u001b[39;00m \u001b[39misinstance\u001b[39m(key, Index):\n\u001b[0;32m   6112\u001b[0m     \u001b[39m# GH 42790 - Preserve name from an Index\u001b[39;00m\n",
      "File \u001b[1;32mc:\\Users\\franz\\miniconda3\\envs\\tf-gpu\\lib\\site-packages\\pandas\\core\\indexes\\base.py:6171\u001b[0m, in \u001b[0;36mIndex._raise_if_missing\u001b[1;34m(self, key, indexer, axis_name)\u001b[0m\n\u001b[0;32m   6168\u001b[0m     \u001b[39mraise\u001b[39;00m \u001b[39mKeyError\u001b[39;00m(\u001b[39mf\u001b[39m\u001b[39m\"\u001b[39m\u001b[39mNone of [\u001b[39m\u001b[39m{\u001b[39;00mkey\u001b[39m}\u001b[39;00m\u001b[39m] are in the [\u001b[39m\u001b[39m{\u001b[39;00maxis_name\u001b[39m}\u001b[39;00m\u001b[39m]\u001b[39m\u001b[39m\"\u001b[39m)\n\u001b[0;32m   6170\u001b[0m not_found \u001b[39m=\u001b[39m \u001b[39mlist\u001b[39m(ensure_index(key)[missing_mask\u001b[39m.\u001b[39mnonzero()[\u001b[39m0\u001b[39m]]\u001b[39m.\u001b[39munique())\n\u001b[1;32m-> 6171\u001b[0m \u001b[39mraise\u001b[39;00m \u001b[39mKeyError\u001b[39;00m(\u001b[39mf\u001b[39m\u001b[39m\"\u001b[39m\u001b[39m{\u001b[39;00mnot_found\u001b[39m}\u001b[39;00m\u001b[39m not in index\u001b[39m\u001b[39m\"\u001b[39m)\n",
      "\u001b[1;31mKeyError\u001b[0m: \"['target'] not in index\""
     ]
    }
   ],
   "source": [
    "cols_as_train = datos_copy.columns\n",
    "\n",
    "validation_data_copy = validation_data_copy[cols_as_train]"
   ]
  },
  {
   "cell_type": "markdown",
   "metadata": {},
   "source": [
    "Verificamos que coincidan:"
   ]
  },
  {
   "cell_type": "code",
   "execution_count": null,
   "metadata": {},
   "outputs": [],
   "source": [
    "print(datos_copy.shape)\n",
    "print(validation_data_copy.shape)"
   ]
  },
  {
   "cell_type": "code",
   "execution_count": null,
   "metadata": {},
   "outputs": [],
   "source": [
    "validation_predictions = modelo.predict(validation_data_copy)"
   ]
  },
  {
   "cell_type": "code",
   "execution_count": null,
   "metadata": {},
   "outputs": [],
   "source": [
    "# import statsmodels.api as sm\n",
    "\n",
    "# from sklearn.decomposition import PCA\n",
    "# from sklearn.pipeline import make_pipeline\n",
    "# from sklearn.preprocessing import StandardScaler\n",
    "# from sklearn.preprocessing import scale"
   ]
  },
  {
   "cell_type": "code",
   "execution_count": null,
   "metadata": {},
   "outputs": [],
   "source": [
    "# Entrenamiento modelo PCA con escalado de los datos\n",
    "\n",
    "# pca_pipe = make_pipeline(StandardScaler(), PCA())\n",
    "# pca_pipe.fit(datos_copy)"
   ]
  },
  {
   "cell_type": "code",
   "execution_count": null,
   "metadata": {},
   "outputs": [],
   "source": [
    "# modelo_pca = pca_pipe.named_steps['pca']"
   ]
  },
  {
   "cell_type": "markdown",
   "metadata": {},
   "source": [
    "Una vez entrenado el objeto `PCA`, podemos acceder a toda la información de las componentes.\n",
    "\n",
    "`components_` contiene el valor $\\phi$ que definen a cada eigenvector. Las filas corresponden a las componentes principales (de mayor a menor)."
   ]
  },
  {
   "cell_type": "code",
   "execution_count": null,
   "metadata": {},
   "outputs": [],
   "source": [
    "# PCA = pd.DataFrame(\n",
    "#     data = modelo_pca.components_,\n",
    "#     columns = datos_copy.columns,\n",
    "# )"
   ]
  },
  {
   "cell_type": "code",
   "execution_count": null,
   "metadata": {},
   "outputs": [],
   "source": [
    "# PCA"
   ]
  },
  {
   "cell_type": "code",
   "execution_count": null,
   "metadata": {},
   "outputs": [],
   "source": [
    "# fig, ax = plt.subplots(1, 1, figsize = (14,10))\n",
    "# componentes = modelo_pca.components_\n",
    "# plt.imshow(componentes.T, cmap = 'viridis', aspect = 'auto')\n",
    "# plt.yticks(range(len(datos_copy.columns)), datos_copy.columns)\n",
    "# plt.xticks(range(len(datos_copy.columns)), np.arange(modelo_pca.n_components_) + 1)\n",
    "# plt.grid(False)\n",
    "# plt.colorbar()"
   ]
  },
  {
   "cell_type": "code",
   "execution_count": null,
   "metadata": {},
   "outputs": [],
   "source": [
    "#from statsmodels.stats.outliers_influence import variance_inflation_factor"
   ]
  },
  {
   "cell_type": "markdown",
   "metadata": {},
   "source": [
    "Optimizar en cada fase hasta 4 parámetros:\n",
    "\n",
    "Phase 1: Learning\n",
    "Phase 2: Complexity\n",
    "Phase 3: Regularization\n",
    "Phase 4: Universal\n",
    "\n",
    "óptimización de búsqueda bayesiana"
   ]
  }
 ],
 "metadata": {
  "kernelspec": {
   "display_name": "Python 3",
   "language": "python",
   "name": "python3"
  },
  "language_info": {
   "codemirror_mode": {
    "name": "ipython",
    "version": 3
   },
   "file_extension": ".py",
   "mimetype": "text/x-python",
   "name": "python",
   "nbconvert_exporter": "python",
   "pygments_lexer": "ipython3",
   "version": "3.9.13"
  },
  "orig_nbformat": 4
 },
 "nbformat": 4,
 "nbformat_minor": 2
}
