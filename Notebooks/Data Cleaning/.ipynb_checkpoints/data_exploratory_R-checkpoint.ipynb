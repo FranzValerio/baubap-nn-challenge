{
 "cells": [
  {
   "cell_type": "code",
   "execution_count": 4,
   "id": "3234760a",
   "metadata": {
    "ExecuteTime": {
     "end_time": "2023-08-26T01:47:36.913596Z",
     "start_time": "2023-08-26T01:47:36.905541Z"
    }
   },
   "outputs": [],
   "source": [
    "import pandas as pd\n",
    "import numpy\n",
    "import matplotlib.pyplot as plt"
   ]
  },
  {
   "cell_type": "code",
   "execution_count": 5,
   "id": "f02f58ae",
   "metadata": {
    "ExecuteTime": {
     "end_time": "2023-08-26T01:47:38.162098Z",
     "start_time": "2023-08-26T01:47:36.914593Z"
    }
   },
   "outputs": [
    {
     "data": {
      "text/html": [
       "<div>\n",
       "<style scoped>\n",
       "    .dataframe tbody tr th:only-of-type {\n",
       "        vertical-align: middle;\n",
       "    }\n",
       "\n",
       "    .dataframe tbody tr th {\n",
       "        vertical-align: top;\n",
       "    }\n",
       "\n",
       "    .dataframe thead th {\n",
       "        text-align: right;\n",
       "    }\n",
       "</style>\n",
       "<table border=\"1\" class=\"dataframe\">\n",
       "  <thead>\n",
       "    <tr style=\"text-align: right;\">\n",
       "      <th></th>\n",
       "      <th>feature_1</th>\n",
       "      <th>feature_2</th>\n",
       "      <th>feature_3</th>\n",
       "      <th>feature_4</th>\n",
       "      <th>feature_5</th>\n",
       "      <th>feature_6</th>\n",
       "      <th>feature_7</th>\n",
       "      <th>feature_8</th>\n",
       "      <th>feature_9</th>\n",
       "      <th>feature_10</th>\n",
       "      <th>...</th>\n",
       "      <th>feature_210</th>\n",
       "      <th>feature_211</th>\n",
       "      <th>feature_212</th>\n",
       "      <th>feature_213</th>\n",
       "      <th>feature_214</th>\n",
       "      <th>feature_215</th>\n",
       "      <th>feature_216</th>\n",
       "      <th>feature_217</th>\n",
       "      <th>feature_218</th>\n",
       "      <th>target</th>\n",
       "    </tr>\n",
       "  </thead>\n",
       "  <tbody>\n",
       "    <tr>\n",
       "      <th>0</th>\n",
       "      <td>0.554222</td>\n",
       "      <td>1.0</td>\n",
       "      <td>0.0</td>\n",
       "      <td>0.000000</td>\n",
       "      <td>0.398189</td>\n",
       "      <td>0.000000</td>\n",
       "      <td>0.190514</td>\n",
       "      <td>0.774141</td>\n",
       "      <td>0.004995</td>\n",
       "      <td>0.666667</td>\n",
       "      <td>...</td>\n",
       "      <td>0.000000</td>\n",
       "      <td>0.000000</td>\n",
       "      <td>0.000000</td>\n",
       "      <td>0.00000</td>\n",
       "      <td>0.000000</td>\n",
       "      <td>0.000000</td>\n",
       "      <td>0.000000</td>\n",
       "      <td>0.000000</td>\n",
       "      <td>1.0</td>\n",
       "      <td>1</td>\n",
       "    </tr>\n",
       "    <tr>\n",
       "      <th>1</th>\n",
       "      <td>0.521013</td>\n",
       "      <td>0.5</td>\n",
       "      <td>0.0</td>\n",
       "      <td>NaN</td>\n",
       "      <td>0.299222</td>\n",
       "      <td>0.000649</td>\n",
       "      <td>0.000000</td>\n",
       "      <td>0.827157</td>\n",
       "      <td>0.000668</td>\n",
       "      <td>0.000000</td>\n",
       "      <td>...</td>\n",
       "      <td>0.000000</td>\n",
       "      <td>0.000000</td>\n",
       "      <td>0.000000</td>\n",
       "      <td>0.00000</td>\n",
       "      <td>0.000000</td>\n",
       "      <td>0.000000</td>\n",
       "      <td>0.000000</td>\n",
       "      <td>0.000000</td>\n",
       "      <td>1.0</td>\n",
       "      <td>1</td>\n",
       "    </tr>\n",
       "    <tr>\n",
       "      <th>2</th>\n",
       "      <td>0.545612</td>\n",
       "      <td>1.0</td>\n",
       "      <td>0.0</td>\n",
       "      <td>0.000102</td>\n",
       "      <td>0.248790</td>\n",
       "      <td>0.000000</td>\n",
       "      <td>0.571429</td>\n",
       "      <td>0.851531</td>\n",
       "      <td>0.000604</td>\n",
       "      <td>0.000000</td>\n",
       "      <td>...</td>\n",
       "      <td>0.206293</td>\n",
       "      <td>0.022686</td>\n",
       "      <td>0.000562</td>\n",
       "      <td>0.50000</td>\n",
       "      <td>0.116689</td>\n",
       "      <td>0.566809</td>\n",
       "      <td>0.020597</td>\n",
       "      <td>0.020891</td>\n",
       "      <td>1.0</td>\n",
       "      <td>1</td>\n",
       "    </tr>\n",
       "    <tr>\n",
       "      <th>3</th>\n",
       "      <td>0.593774</td>\n",
       "      <td>0.5</td>\n",
       "      <td>0.0</td>\n",
       "      <td>0.000000</td>\n",
       "      <td>0.412052</td>\n",
       "      <td>0.001299</td>\n",
       "      <td>0.087886</td>\n",
       "      <td>0.559571</td>\n",
       "      <td>0.002227</td>\n",
       "      <td>0.333333</td>\n",
       "      <td>...</td>\n",
       "      <td>0.026009</td>\n",
       "      <td>0.074658</td>\n",
       "      <td>0.003375</td>\n",
       "      <td>1.00000</td>\n",
       "      <td>0.025595</td>\n",
       "      <td>0.097360</td>\n",
       "      <td>0.020597</td>\n",
       "      <td>0.002580</td>\n",
       "      <td>0.0</td>\n",
       "      <td>1</td>\n",
       "    </tr>\n",
       "    <tr>\n",
       "      <th>4</th>\n",
       "      <td>0.278900</td>\n",
       "      <td>0.0</td>\n",
       "      <td>0.0</td>\n",
       "      <td>0.000000</td>\n",
       "      <td>0.160199</td>\n",
       "      <td>0.009740</td>\n",
       "      <td>0.134400</td>\n",
       "      <td>0.841197</td>\n",
       "      <td>0.000700</td>\n",
       "      <td>0.833333</td>\n",
       "      <td>...</td>\n",
       "      <td>0.049540</td>\n",
       "      <td>0.064444</td>\n",
       "      <td>0.003375</td>\n",
       "      <td>0.85715</td>\n",
       "      <td>0.032973</td>\n",
       "      <td>0.131737</td>\n",
       "      <td>0.020597</td>\n",
       "      <td>0.002613</td>\n",
       "      <td>1.0</td>\n",
       "      <td>1</td>\n",
       "    </tr>\n",
       "    <tr>\n",
       "      <th>...</th>\n",
       "      <td>...</td>\n",
       "      <td>...</td>\n",
       "      <td>...</td>\n",
       "      <td>...</td>\n",
       "      <td>...</td>\n",
       "      <td>...</td>\n",
       "      <td>...</td>\n",
       "      <td>...</td>\n",
       "      <td>...</td>\n",
       "      <td>...</td>\n",
       "      <td>...</td>\n",
       "      <td>...</td>\n",
       "      <td>...</td>\n",
       "      <td>...</td>\n",
       "      <td>...</td>\n",
       "      <td>...</td>\n",
       "      <td>...</td>\n",
       "      <td>...</td>\n",
       "      <td>...</td>\n",
       "      <td>...</td>\n",
       "      <td>...</td>\n",
       "    </tr>\n",
       "    <tr>\n",
       "      <th>472417</th>\n",
       "      <td>0.423788</td>\n",
       "      <td>0.0</td>\n",
       "      <td>0.0</td>\n",
       "      <td>0.000000</td>\n",
       "      <td>0.485636</td>\n",
       "      <td>0.018182</td>\n",
       "      <td>0.285714</td>\n",
       "      <td>0.792730</td>\n",
       "      <td>0.004645</td>\n",
       "      <td>0.333333</td>\n",
       "      <td>...</td>\n",
       "      <td>0.000000</td>\n",
       "      <td>0.000000</td>\n",
       "      <td>0.000000</td>\n",
       "      <td>0.00000</td>\n",
       "      <td>0.000000</td>\n",
       "      <td>0.000000</td>\n",
       "      <td>0.000000</td>\n",
       "      <td>0.000000</td>\n",
       "      <td>1.0</td>\n",
       "      <td>1</td>\n",
       "    </tr>\n",
       "    <tr>\n",
       "      <th>472418</th>\n",
       "      <td>0.539659</td>\n",
       "      <td>0.5</td>\n",
       "      <td>0.0</td>\n",
       "      <td>0.000105</td>\n",
       "      <td>0.158255</td>\n",
       "      <td>0.005844</td>\n",
       "      <td>0.114286</td>\n",
       "      <td>0.517002</td>\n",
       "      <td>0.002545</td>\n",
       "      <td>0.500000</td>\n",
       "      <td>...</td>\n",
       "      <td>0.112360</td>\n",
       "      <td>0.020824</td>\n",
       "      <td>0.004499</td>\n",
       "      <td>0.85000</td>\n",
       "      <td>0.042598</td>\n",
       "      <td>0.189578</td>\n",
       "      <td>0.020597</td>\n",
       "      <td>0.003336</td>\n",
       "      <td>1.0</td>\n",
       "      <td>1</td>\n",
       "    </tr>\n",
       "    <tr>\n",
       "      <th>472419</th>\n",
       "      <td>0.435566</td>\n",
       "      <td>0.5</td>\n",
       "      <td>0.0</td>\n",
       "      <td>0.000164</td>\n",
       "      <td>0.423629</td>\n",
       "      <td>0.003247</td>\n",
       "      <td>0.142857</td>\n",
       "      <td>0.801128</td>\n",
       "      <td>0.000859</td>\n",
       "      <td>0.666667</td>\n",
       "      <td>...</td>\n",
       "      <td>0.064070</td>\n",
       "      <td>0.030698</td>\n",
       "      <td>0.016873</td>\n",
       "      <td>0.92645</td>\n",
       "      <td>0.031424</td>\n",
       "      <td>0.202529</td>\n",
       "      <td>0.020597</td>\n",
       "      <td>0.004713</td>\n",
       "      <td>0.0</td>\n",
       "      <td>1</td>\n",
       "    </tr>\n",
       "    <tr>\n",
       "      <th>472420</th>\n",
       "      <td>0.395057</td>\n",
       "      <td>0.5</td>\n",
       "      <td>0.0</td>\n",
       "      <td>0.000000</td>\n",
       "      <td>0.340654</td>\n",
       "      <td>0.010390</td>\n",
       "      <td>0.285714</td>\n",
       "      <td>0.731666</td>\n",
       "      <td>0.000700</td>\n",
       "      <td>0.000000</td>\n",
       "      <td>...</td>\n",
       "      <td>0.039394</td>\n",
       "      <td>0.112085</td>\n",
       "      <td>0.000562</td>\n",
       "      <td>0.50000</td>\n",
       "      <td>0.040467</td>\n",
       "      <td>0.101130</td>\n",
       "      <td>0.112085</td>\n",
       "      <td>0.001517</td>\n",
       "      <td>1.0</td>\n",
       "      <td>1</td>\n",
       "    </tr>\n",
       "    <tr>\n",
       "      <th>472421</th>\n",
       "      <td>0.340031</td>\n",
       "      <td>0.0</td>\n",
       "      <td>0.0</td>\n",
       "      <td>0.000000</td>\n",
       "      <td>0.383177</td>\n",
       "      <td>0.004545</td>\n",
       "      <td>0.285714</td>\n",
       "      <td>0.877686</td>\n",
       "      <td>0.001145</td>\n",
       "      <td>0.000000</td>\n",
       "      <td>...</td>\n",
       "      <td>0.045928</td>\n",
       "      <td>0.059760</td>\n",
       "      <td>0.002812</td>\n",
       "      <td>0.90000</td>\n",
       "      <td>0.030159</td>\n",
       "      <td>0.114229</td>\n",
       "      <td>0.023433</td>\n",
       "      <td>0.003758</td>\n",
       "      <td>1.0</td>\n",
       "      <td>1</td>\n",
       "    </tr>\n",
       "  </tbody>\n",
       "</table>\n",
       "<p>472422 rows × 219 columns</p>\n",
       "</div>"
      ],
      "text/plain": [
       "        feature_1  feature_2  feature_3  feature_4  feature_5  feature_6   \n",
       "0        0.554222        1.0        0.0   0.000000   0.398189   0.000000  \\\n",
       "1        0.521013        0.5        0.0        NaN   0.299222   0.000649   \n",
       "2        0.545612        1.0        0.0   0.000102   0.248790   0.000000   \n",
       "3        0.593774        0.5        0.0   0.000000   0.412052   0.001299   \n",
       "4        0.278900        0.0        0.0   0.000000   0.160199   0.009740   \n",
       "...           ...        ...        ...        ...        ...        ...   \n",
       "472417   0.423788        0.0        0.0   0.000000   0.485636   0.018182   \n",
       "472418   0.539659        0.5        0.0   0.000105   0.158255   0.005844   \n",
       "472419   0.435566        0.5        0.0   0.000164   0.423629   0.003247   \n",
       "472420   0.395057        0.5        0.0   0.000000   0.340654   0.010390   \n",
       "472421   0.340031        0.0        0.0   0.000000   0.383177   0.004545   \n",
       "\n",
       "        feature_7  feature_8  feature_9  feature_10  ...  feature_210   \n",
       "0        0.190514   0.774141   0.004995    0.666667  ...     0.000000  \\\n",
       "1        0.000000   0.827157   0.000668    0.000000  ...     0.000000   \n",
       "2        0.571429   0.851531   0.000604    0.000000  ...     0.206293   \n",
       "3        0.087886   0.559571   0.002227    0.333333  ...     0.026009   \n",
       "4        0.134400   0.841197   0.000700    0.833333  ...     0.049540   \n",
       "...           ...        ...        ...         ...  ...          ...   \n",
       "472417   0.285714   0.792730   0.004645    0.333333  ...     0.000000   \n",
       "472418   0.114286   0.517002   0.002545    0.500000  ...     0.112360   \n",
       "472419   0.142857   0.801128   0.000859    0.666667  ...     0.064070   \n",
       "472420   0.285714   0.731666   0.000700    0.000000  ...     0.039394   \n",
       "472421   0.285714   0.877686   0.001145    0.000000  ...     0.045928   \n",
       "\n",
       "        feature_211  feature_212  feature_213  feature_214  feature_215   \n",
       "0          0.000000     0.000000      0.00000     0.000000     0.000000  \\\n",
       "1          0.000000     0.000000      0.00000     0.000000     0.000000   \n",
       "2          0.022686     0.000562      0.50000     0.116689     0.566809   \n",
       "3          0.074658     0.003375      1.00000     0.025595     0.097360   \n",
       "4          0.064444     0.003375      0.85715     0.032973     0.131737   \n",
       "...             ...          ...          ...          ...          ...   \n",
       "472417     0.000000     0.000000      0.00000     0.000000     0.000000   \n",
       "472418     0.020824     0.004499      0.85000     0.042598     0.189578   \n",
       "472419     0.030698     0.016873      0.92645     0.031424     0.202529   \n",
       "472420     0.112085     0.000562      0.50000     0.040467     0.101130   \n",
       "472421     0.059760     0.002812      0.90000     0.030159     0.114229   \n",
       "\n",
       "       feature_216  feature_217  feature_218  target  \n",
       "0         0.000000     0.000000          1.0       1  \n",
       "1         0.000000     0.000000          1.0       1  \n",
       "2         0.020597     0.020891          1.0       1  \n",
       "3         0.020597     0.002580          0.0       1  \n",
       "4         0.020597     0.002613          1.0       1  \n",
       "...            ...          ...          ...     ...  \n",
       "472417    0.000000     0.000000          1.0       1  \n",
       "472418    0.020597     0.003336          1.0       1  \n",
       "472419    0.020597     0.004713          0.0       1  \n",
       "472420    0.112085     0.001517          1.0       1  \n",
       "472421    0.023433     0.003758          1.0       1  \n",
       "\n",
       "[472422 rows x 219 columns]"
      ]
     },
     "execution_count": 5,
     "metadata": {},
     "output_type": "execute_result"
    }
   ],
   "source": [
    "df = pd.read_pickle('../Base de datos/nn_challenge_train.pkl')\n",
    "df"
   ]
  },
  {
   "cell_type": "code",
   "execution_count": 6,
   "id": "4133746f",
   "metadata": {
    "ExecuteTime": {
     "end_time": "2023-08-26T01:47:41.242969Z",
     "start_time": "2023-08-26T01:47:38.163095Z"
    }
   },
   "outputs": [
    {
     "data": {
      "text/html": [
       "<div>\n",
       "<style scoped>\n",
       "    .dataframe tbody tr th:only-of-type {\n",
       "        vertical-align: middle;\n",
       "    }\n",
       "\n",
       "    .dataframe tbody tr th {\n",
       "        vertical-align: top;\n",
       "    }\n",
       "\n",
       "    .dataframe thead th {\n",
       "        text-align: right;\n",
       "    }\n",
       "</style>\n",
       "<table border=\"1\" class=\"dataframe\">\n",
       "  <thead>\n",
       "    <tr style=\"text-align: right;\">\n",
       "      <th></th>\n",
       "      <th>feature_1</th>\n",
       "      <th>feature_2</th>\n",
       "      <th>feature_3</th>\n",
       "      <th>feature_4</th>\n",
       "      <th>feature_5</th>\n",
       "      <th>feature_6</th>\n",
       "      <th>feature_7</th>\n",
       "      <th>feature_8</th>\n",
       "      <th>feature_9</th>\n",
       "      <th>feature_10</th>\n",
       "      <th>...</th>\n",
       "      <th>feature_210</th>\n",
       "      <th>feature_211</th>\n",
       "      <th>feature_212</th>\n",
       "      <th>feature_213</th>\n",
       "      <th>feature_214</th>\n",
       "      <th>feature_215</th>\n",
       "      <th>feature_216</th>\n",
       "      <th>feature_217</th>\n",
       "      <th>feature_218</th>\n",
       "      <th>target</th>\n",
       "    </tr>\n",
       "  </thead>\n",
       "  <tbody>\n",
       "    <tr>\n",
       "      <th>count</th>\n",
       "      <td>472422.000000</td>\n",
       "      <td>472420.000000</td>\n",
       "      <td>471254.000000</td>\n",
       "      <td>435576.000000</td>\n",
       "      <td>472422.000000</td>\n",
       "      <td>471256.000000</td>\n",
       "      <td>472422.000000</td>\n",
       "      <td>472422.000000</td>\n",
       "      <td>471256.000000</td>\n",
       "      <td>449700.000000</td>\n",
       "      <td>...</td>\n",
       "      <td>472420.000000</td>\n",
       "      <td>472420.000000</td>\n",
       "      <td>472420.000000</td>\n",
       "      <td>472420.000000</td>\n",
       "      <td>472420.000000</td>\n",
       "      <td>472420.000000</td>\n",
       "      <td>472420.000000</td>\n",
       "      <td>472420.000000</td>\n",
       "      <td>471255.000000</td>\n",
       "      <td>472422.000000</td>\n",
       "    </tr>\n",
       "    <tr>\n",
       "      <th>mean</th>\n",
       "      <td>0.518669</td>\n",
       "      <td>0.544020</td>\n",
       "      <td>0.004611</td>\n",
       "      <td>0.000691</td>\n",
       "      <td>0.312839</td>\n",
       "      <td>0.015258</td>\n",
       "      <td>0.249711</td>\n",
       "      <td>0.727841</td>\n",
       "      <td>0.001884</td>\n",
       "      <td>0.513358</td>\n",
       "      <td>...</td>\n",
       "      <td>0.080568</td>\n",
       "      <td>0.091190</td>\n",
       "      <td>0.003238</td>\n",
       "      <td>0.584832</td>\n",
       "      <td>0.040472</td>\n",
       "      <td>0.154438</td>\n",
       "      <td>0.057250</td>\n",
       "      <td>0.004895</td>\n",
       "      <td>0.653336</td>\n",
       "      <td>0.859308</td>\n",
       "    </tr>\n",
       "    <tr>\n",
       "      <th>std</th>\n",
       "      <td>0.108863</td>\n",
       "      <td>0.324083</td>\n",
       "      <td>0.018434</td>\n",
       "      <td>0.010233</td>\n",
       "      <td>0.112954</td>\n",
       "      <td>0.025510</td>\n",
       "      <td>0.145240</td>\n",
       "      <td>0.110845</td>\n",
       "      <td>0.006095</td>\n",
       "      <td>0.318793</td>\n",
       "      <td>...</td>\n",
       "      <td>0.089586</td>\n",
       "      <td>0.115406</td>\n",
       "      <td>0.009128</td>\n",
       "      <td>0.358869</td>\n",
       "      <td>0.043787</td>\n",
       "      <td>0.123564</td>\n",
       "      <td>0.103643</td>\n",
       "      <td>0.016048</td>\n",
       "      <td>0.475908</td>\n",
       "      <td>0.347704</td>\n",
       "    </tr>\n",
       "    <tr>\n",
       "      <th>min</th>\n",
       "      <td>0.000000</td>\n",
       "      <td>0.000000</td>\n",
       "      <td>0.000000</td>\n",
       "      <td>0.000000</td>\n",
       "      <td>0.000000</td>\n",
       "      <td>0.000000</td>\n",
       "      <td>0.000000</td>\n",
       "      <td>0.000000</td>\n",
       "      <td>0.000000</td>\n",
       "      <td>0.000000</td>\n",
       "      <td>...</td>\n",
       "      <td>0.000000</td>\n",
       "      <td>0.000000</td>\n",
       "      <td>0.000000</td>\n",
       "      <td>0.000000</td>\n",
       "      <td>0.000000</td>\n",
       "      <td>0.000000</td>\n",
       "      <td>0.000000</td>\n",
       "      <td>0.000000</td>\n",
       "      <td>0.000000</td>\n",
       "      <td>0.000000</td>\n",
       "    </tr>\n",
       "    <tr>\n",
       "      <th>25%</th>\n",
       "      <td>0.445342</td>\n",
       "      <td>0.500000</td>\n",
       "      <td>0.000000</td>\n",
       "      <td>0.000000</td>\n",
       "      <td>0.227816</td>\n",
       "      <td>0.001948</td>\n",
       "      <td>0.152343</td>\n",
       "      <td>0.662139</td>\n",
       "      <td>0.000732</td>\n",
       "      <td>0.333333</td>\n",
       "      <td>...</td>\n",
       "      <td>0.023898</td>\n",
       "      <td>0.020597</td>\n",
       "      <td>0.000562</td>\n",
       "      <td>0.500000</td>\n",
       "      <td>0.024305</td>\n",
       "      <td>0.093145</td>\n",
       "      <td>0.020597</td>\n",
       "      <td>0.001184</td>\n",
       "      <td>0.000000</td>\n",
       "      <td>1.000000</td>\n",
       "    </tr>\n",
       "    <tr>\n",
       "      <th>50%</th>\n",
       "      <td>0.518781</td>\n",
       "      <td>0.500000</td>\n",
       "      <td>0.000000</td>\n",
       "      <td>0.000051</td>\n",
       "      <td>0.293266</td>\n",
       "      <td>0.006494</td>\n",
       "      <td>0.228571</td>\n",
       "      <td>0.747226</td>\n",
       "      <td>0.001145</td>\n",
       "      <td>0.500000</td>\n",
       "      <td>...</td>\n",
       "      <td>0.058742</td>\n",
       "      <td>0.049828</td>\n",
       "      <td>0.001687</td>\n",
       "      <td>0.727250</td>\n",
       "      <td>0.035991</td>\n",
       "      <td>0.143492</td>\n",
       "      <td>0.020597</td>\n",
       "      <td>0.002420</td>\n",
       "      <td>1.000000</td>\n",
       "      <td>1.000000</td>\n",
       "    </tr>\n",
       "    <tr>\n",
       "      <th>75%</th>\n",
       "      <td>0.592213</td>\n",
       "      <td>1.000000</td>\n",
       "      <td>0.000000</td>\n",
       "      <td>0.000147</td>\n",
       "      <td>0.379608</td>\n",
       "      <td>0.018182</td>\n",
       "      <td>0.326514</td>\n",
       "      <td>0.811302</td>\n",
       "      <td>0.001909</td>\n",
       "      <td>0.750000</td>\n",
       "      <td>...</td>\n",
       "      <td>0.110885</td>\n",
       "      <td>0.123073</td>\n",
       "      <td>0.003937</td>\n",
       "      <td>0.852950</td>\n",
       "      <td>0.051146</td>\n",
       "      <td>0.225993</td>\n",
       "      <td>0.037407</td>\n",
       "      <td>0.004468</td>\n",
       "      <td>1.000000</td>\n",
       "      <td>1.000000</td>\n",
       "    </tr>\n",
       "    <tr>\n",
       "      <th>max</th>\n",
       "      <td>1.000000</td>\n",
       "      <td>1.000000</td>\n",
       "      <td>1.000000</td>\n",
       "      <td>1.000000</td>\n",
       "      <td>1.000000</td>\n",
       "      <td>1.000000</td>\n",
       "      <td>1.000000</td>\n",
       "      <td>1.000000</td>\n",
       "      <td>1.000000</td>\n",
       "      <td>1.000000</td>\n",
       "      <td>...</td>\n",
       "      <td>1.000000</td>\n",
       "      <td>1.000000</td>\n",
       "      <td>1.000000</td>\n",
       "      <td>1.000000</td>\n",
       "      <td>1.000000</td>\n",
       "      <td>1.000000</td>\n",
       "      <td>1.000000</td>\n",
       "      <td>1.000000</td>\n",
       "      <td>1.000000</td>\n",
       "      <td>1.000000</td>\n",
       "    </tr>\n",
       "  </tbody>\n",
       "</table>\n",
       "<p>8 rows × 208 columns</p>\n",
       "</div>"
      ],
      "text/plain": [
       "           feature_1      feature_2      feature_3      feature_4   \n",
       "count  472422.000000  472420.000000  471254.000000  435576.000000  \\\n",
       "mean        0.518669       0.544020       0.004611       0.000691   \n",
       "std         0.108863       0.324083       0.018434       0.010233   \n",
       "min         0.000000       0.000000       0.000000       0.000000   \n",
       "25%         0.445342       0.500000       0.000000       0.000000   \n",
       "50%         0.518781       0.500000       0.000000       0.000051   \n",
       "75%         0.592213       1.000000       0.000000       0.000147   \n",
       "max         1.000000       1.000000       1.000000       1.000000   \n",
       "\n",
       "           feature_5      feature_6      feature_7      feature_8   \n",
       "count  472422.000000  471256.000000  472422.000000  472422.000000  \\\n",
       "mean        0.312839       0.015258       0.249711       0.727841   \n",
       "std         0.112954       0.025510       0.145240       0.110845   \n",
       "min         0.000000       0.000000       0.000000       0.000000   \n",
       "25%         0.227816       0.001948       0.152343       0.662139   \n",
       "50%         0.293266       0.006494       0.228571       0.747226   \n",
       "75%         0.379608       0.018182       0.326514       0.811302   \n",
       "max         1.000000       1.000000       1.000000       1.000000   \n",
       "\n",
       "           feature_9     feature_10  ...    feature_210    feature_211   \n",
       "count  471256.000000  449700.000000  ...  472420.000000  472420.000000  \\\n",
       "mean        0.001884       0.513358  ...       0.080568       0.091190   \n",
       "std         0.006095       0.318793  ...       0.089586       0.115406   \n",
       "min         0.000000       0.000000  ...       0.000000       0.000000   \n",
       "25%         0.000732       0.333333  ...       0.023898       0.020597   \n",
       "50%         0.001145       0.500000  ...       0.058742       0.049828   \n",
       "75%         0.001909       0.750000  ...       0.110885       0.123073   \n",
       "max         1.000000       1.000000  ...       1.000000       1.000000   \n",
       "\n",
       "         feature_212    feature_213    feature_214    feature_215   \n",
       "count  472420.000000  472420.000000  472420.000000  472420.000000  \\\n",
       "mean        0.003238       0.584832       0.040472       0.154438   \n",
       "std         0.009128       0.358869       0.043787       0.123564   \n",
       "min         0.000000       0.000000       0.000000       0.000000   \n",
       "25%         0.000562       0.500000       0.024305       0.093145   \n",
       "50%         0.001687       0.727250       0.035991       0.143492   \n",
       "75%         0.003937       0.852950       0.051146       0.225993   \n",
       "max         1.000000       1.000000       1.000000       1.000000   \n",
       "\n",
       "         feature_216    feature_217    feature_218         target  \n",
       "count  472420.000000  472420.000000  471255.000000  472422.000000  \n",
       "mean        0.057250       0.004895       0.653336       0.859308  \n",
       "std         0.103643       0.016048       0.475908       0.347704  \n",
       "min         0.000000       0.000000       0.000000       0.000000  \n",
       "25%         0.020597       0.001184       0.000000       1.000000  \n",
       "50%         0.020597       0.002420       1.000000       1.000000  \n",
       "75%         0.037407       0.004468       1.000000       1.000000  \n",
       "max         1.000000       1.000000       1.000000       1.000000  \n",
       "\n",
       "[8 rows x 208 columns]"
      ]
     },
     "execution_count": 6,
     "metadata": {},
     "output_type": "execute_result"
    }
   ],
   "source": [
    "df.describe()"
   ]
  },
  {
   "cell_type": "code",
   "execution_count": 7,
   "id": "7ae8b0db",
   "metadata": {
    "ExecuteTime": {
     "end_time": "2023-08-26T01:47:41.258991Z",
     "start_time": "2023-08-26T01:47:41.244963Z"
    }
   },
   "outputs": [
    {
     "data": {
      "text/plain": [
       "float32     197\n",
       "float64      10\n",
       "category      1\n",
       "category      1\n",
       "category      1\n",
       "category      1\n",
       "category      1\n",
       "category      1\n",
       "category      1\n",
       "object        1\n",
       "category      1\n",
       "category      1\n",
       "category      1\n",
       "int32         1\n",
       "Name: count, dtype: int64"
      ]
     },
     "execution_count": 7,
     "metadata": {},
     "output_type": "execute_result"
    }
   ],
   "source": [
    "df.dtypes.value_counts()"
   ]
  },
  {
   "cell_type": "code",
   "execution_count": 8,
   "id": "c03a4f83",
   "metadata": {
    "ExecuteTime": {
     "end_time": "2023-08-26T01:47:41.274490Z",
     "start_time": "2023-08-26T01:47:41.259987Z"
    }
   },
   "outputs": [
    {
     "data": {
      "text/plain": [
       "Index(['feature_17', 'feature_87', 'feature_118', 'feature_119', 'feature_139',\n",
       "       'feature_144', 'feature_147', 'feature_148', 'feature_158',\n",
       "       'feature_159', 'feature_195'],\n",
       "      dtype='object')"
      ]
     },
     "execution_count": 8,
     "metadata": {},
     "output_type": "execute_result"
    }
   ],
   "source": [
    "# Encuentra las columnas categóricas\n",
    "categorical_columns = df.select_dtypes(include=['object', 'category']).columns\n",
    "categorical_columns"
   ]
  },
  {
   "cell_type": "code",
   "execution_count": 9,
   "id": "61c7e7bb",
   "metadata": {
    "ExecuteTime": {
     "end_time": "2023-08-26T01:47:41.304965Z",
     "start_time": "2023-08-26T01:47:41.275489Z"
    }
   },
   "outputs": [
    {
     "data": {
      "text/plain": [
       "Index(['feature_1', 'feature_5', 'feature_8', 'feature_47', 'feature_86',\n",
       "       'feature_89', 'feature_114', 'feature_115', 'feature_117',\n",
       "       'feature_127'],\n",
       "      dtype='object')"
      ]
     },
     "execution_count": 9,
     "metadata": {},
     "output_type": "execute_result"
    }
   ],
   "source": [
    "# Encuentra las columnas categóricas\n",
    "categorical_columns = df.select_dtypes(include=['float64']).columns\n",
    "categorical_columns"
   ]
  },
  {
   "cell_type": "code",
   "execution_count": 10,
   "id": "a4be892e",
   "metadata": {
    "ExecuteTime": {
     "end_time": "2023-08-26T01:47:41.320464Z",
     "start_time": "2023-08-26T01:47:41.304965Z"
    }
   },
   "outputs": [
    {
     "data": {
      "text/plain": [
       "target\n",
       "1    405956\n",
       "0     66466\n",
       "Name: count, dtype: int64"
      ]
     },
     "execution_count": 10,
     "metadata": {},
     "output_type": "execute_result"
    }
   ],
   "source": [
    "df['target'].value_counts()"
   ]
  },
  {
   "cell_type": "code",
   "execution_count": 11,
   "id": "3d13c378",
   "metadata": {
    "ExecuteTime": {
     "end_time": "2023-08-26T01:47:41.461952Z",
     "start_time": "2023-08-26T01:47:41.321461Z"
    }
   },
   "outputs": [
    {
     "data": {
      "text/plain": [
       "feature_1          0\n",
       "feature_2          2\n",
       "feature_3       1168\n",
       "feature_4      36846\n",
       "feature_5          0\n",
       "               ...  \n",
       "feature_215        2\n",
       "feature_216        2\n",
       "feature_217        2\n",
       "feature_218     1167\n",
       "target             0\n",
       "Length: 219, dtype: int64"
      ]
     },
     "execution_count": 11,
     "metadata": {},
     "output_type": "execute_result"
    }
   ],
   "source": [
    "df.isna().sum()"
   ]
  },
  {
   "cell_type": "code",
   "execution_count": 12,
   "id": "d323094b",
   "metadata": {
    "ExecuteTime": {
     "end_time": "2023-08-26T01:47:41.602144Z",
     "start_time": "2023-08-26T01:47:41.462949Z"
    }
   },
   "outputs": [
    {
     "name": "stdout",
     "output_type": "stream",
     "text": [
      "feature_15     117925\n",
      "feature_139     60157\n",
      "feature_119     51148\n",
      "feature_182     39001\n",
      "feature_172     38995\n",
      "                ...  \n",
      "feature_143         0\n",
      "feature_144         0\n",
      "feature_148         0\n",
      "feature_162         0\n",
      "target              0\n",
      "Length: 219, dtype: int64\n"
     ]
    }
   ],
   "source": [
    "# Calcula la suma de los valores nulos en cada columna\n",
    "na_sum = df.isna().sum()\n",
    "\n",
    "# Ordena los resultados de mayor a menor\n",
    "sorted_na_sum = na_sum.sort_values(ascending=False)\n",
    "\n",
    "# Muestra los resultados ordenados\n",
    "print(sorted_na_sum)"
   ]
  },
  {
   "cell_type": "code",
   "execution_count": 13,
   "id": "537fe567",
   "metadata": {
    "ExecuteTime": {
     "end_time": "2023-08-26T01:47:41.618141Z",
     "start_time": "2023-08-26T01:47:41.604137Z"
    }
   },
   "outputs": [],
   "source": [
    "def percentage_nan(data: pd.DataFrame):\n",
    "    \"\"\"\n",
    "    This function calculates the percentage\n",
    "    of nan values within all of the columns \n",
    "    of the dataframe\n",
    "    \"\"\"\n",
    "    columns=list(data.columns)\n",
    "    percentages = {col:0 for col in columns} #Dictionary Comprehension\n",
    "    for col in columns: \n",
    "        percentages[col] = 100*data[col].isna().sum()/len(data.index)\n",
    "        \n",
    "    return percentages"
   ]
  },
  {
   "cell_type": "code",
   "execution_count": 14,
   "id": "9fbe519e",
   "metadata": {
    "ExecuteTime": {
     "end_time": "2023-08-26T01:47:41.742873Z",
     "start_time": "2023-08-26T01:47:41.619975Z"
    }
   },
   "outputs": [
    {
     "data": {
      "text/plain": [
       "{'feature_1': 0.0,\n",
       " 'feature_2': 0.00042335030968075155,\n",
       " 'feature_3': 0.2472365808535589,\n",
       " 'feature_4': 7.799382755248486,\n",
       " 'feature_5': 0.0,\n",
       " 'feature_6': 0.24681323054387813,\n",
       " 'feature_7': 0.0,\n",
       " 'feature_8': 0.0,\n",
       " 'feature_9': 0.24681323054387813,\n",
       " 'feature_10': 4.809682868283018,\n",
       " 'feature_11': 0.24681323054387813,\n",
       " 'feature_12': 0.24681323054387813,\n",
       " 'feature_13': 0.0,\n",
       " 'feature_14': 0.0,\n",
       " 'feature_15': 24.961792634551312,\n",
       " 'feature_16': 5.073641786368967,\n",
       " 'feature_17': 0.8018254865353434,\n",
       " 'feature_18': 0.0,\n",
       " 'feature_19': 0.00021167515484037577,\n",
       " 'feature_20': 0.0,\n",
       " 'feature_21': 0.0,\n",
       " 'feature_22': 0.0,\n",
       " 'feature_23': 0.0,\n",
       " 'feature_24': 0.0,\n",
       " 'feature_25': 0.0,\n",
       " 'feature_26': 0.0,\n",
       " 'feature_27': 0.008255331038774655,\n",
       " 'feature_28': 0.008255331038774655,\n",
       " 'feature_29': 0.008255331038774655,\n",
       " 'feature_30': 0.008255331038774655,\n",
       " 'feature_31': 0.008255331038774655,\n",
       " 'feature_32': 0.008255331038774655,\n",
       " 'feature_33': 0.008255331038774655,\n",
       " 'feature_34': 0.008255331038774655,\n",
       " 'feature_35': 0.008255331038774655,\n",
       " 'feature_36': 0.008255331038774655,\n",
       " 'feature_37': 0.008255331038774655,\n",
       " 'feature_38': 0.008255331038774655,\n",
       " 'feature_39': 0.008255331038774655,\n",
       " 'feature_40': 0.0,\n",
       " 'feature_41': 0.2472365808535589,\n",
       " 'feature_42': 0.24702490569871852,\n",
       " 'feature_43': 0.2472365808535589,\n",
       " 'feature_44': 0.2472365808535589,\n",
       " 'feature_45': 0.2487183069374415,\n",
       " 'feature_46': 0.2472365808535589,\n",
       " 'feature_47': 0.0,\n",
       " 'feature_48': 0.24681323054387813,\n",
       " 'feature_49': 0.24681323054387813,\n",
       " 'feature_50': 0.24681323054387813,\n",
       " 'feature_51': 5.073641786368967,\n",
       " 'feature_52': 0.24681323054387813,\n",
       " 'feature_53': 5.073641786368967,\n",
       " 'feature_54': 0.24681323054387813,\n",
       " 'feature_55': 0.00042335030968075155,\n",
       " 'feature_56': 0.00042335030968075155,\n",
       " 'feature_57': 0.00042335030968075155,\n",
       " 'feature_58': 0.00042335030968075155,\n",
       " 'feature_59': 0.00042335030968075155,\n",
       " 'feature_60': 0.00042335030968075155,\n",
       " 'feature_61': 0.00042335030968075155,\n",
       " 'feature_62': 0.00042335030968075155,\n",
       " 'feature_63': 0.00042335030968075155,\n",
       " 'feature_64': 0.00042335030968075155,\n",
       " 'feature_65': 0.00042335030968075155,\n",
       " 'feature_66': 0.00042335030968075155,\n",
       " 'feature_67': 0.24681323054387813,\n",
       " 'feature_68': 0.24681323054387813,\n",
       " 'feature_69': 0.24681323054387813,\n",
       " 'feature_70': 0.24681323054387813,\n",
       " 'feature_71': 0.24681323054387813,\n",
       " 'feature_72': 3.5997476832154303,\n",
       " 'feature_73': 2.913920181532613,\n",
       " 'feature_74': 3.1672953418765424,\n",
       " 'feature_75': 0.0,\n",
       " 'feature_76': 0.24681323054387813,\n",
       " 'feature_77': 0.24681323054387813,\n",
       " 'feature_78': 0.24681323054387813,\n",
       " 'feature_79': 0.24681323054387813,\n",
       " 'feature_80': 0.24681323054387813,\n",
       " 'feature_81': 0.24681323054387813,\n",
       " 'feature_82': 0.24702490569871852,\n",
       " 'feature_83': 0.4699188437456342,\n",
       " 'feature_84': 1.204431631041738,\n",
       " 'feature_85': 0.2573969882858969,\n",
       " 'feature_86': 0.0,\n",
       " 'feature_87': 0.35646096075119277,\n",
       " 'feature_88': 0.00021167515484037577,\n",
       " 'feature_89': 0.0,\n",
       " 'feature_90': 8.07773558386358,\n",
       " 'feature_91': 7.987350292746739,\n",
       " 'feature_92': 8.063341673334435,\n",
       " 'feature_93': 0.00042335030968075155,\n",
       " 'feature_94': 0.00042335030968075155,\n",
       " 'feature_95': 0.00042335030968075155,\n",
       " 'feature_96': 0.00042335030968075155,\n",
       " 'feature_97': 0.00042335030968075155,\n",
       " 'feature_98': 0.00042335030968075155,\n",
       " 'feature_99': 0.00042335030968075155,\n",
       " 'feature_100': 0.00042335030968075155,\n",
       " 'feature_101': 0.00042335030968075155,\n",
       " 'feature_102': 0.00042335030968075155,\n",
       " 'feature_103': 0.012700509290422546,\n",
       " 'feature_104': 0.00042335030968075155,\n",
       " 'feature_105': 0.00042335030968075155,\n",
       " 'feature_106': 0.00042335030968075155,\n",
       " 'feature_107': 0.00042335030968075155,\n",
       " 'feature_108': 0.00042335030968075155,\n",
       " 'feature_109': 0.00042335030968075155,\n",
       " 'feature_110': 0.00042335030968075155,\n",
       " 'feature_111': 0.00042335030968075155,\n",
       " 'feature_112': 0.00042335030968075155,\n",
       " 'feature_113': 0.00042335030968075155,\n",
       " 'feature_114': 0.0,\n",
       " 'feature_115': 0.0,\n",
       " 'feature_116': 0.24702490569871852,\n",
       " 'feature_117': 0.0,\n",
       " 'feature_118': 0.3920223867643759,\n",
       " 'feature_119': 10.82676081977554,\n",
       " 'feature_120': 0.24702490569871852,\n",
       " 'feature_121': 0.11218783206539916,\n",
       " 'feature_122': 1.7770129248849547,\n",
       " 'feature_123': 0.2472365808535589,\n",
       " 'feature_124': 0.24702490569871852,\n",
       " 'feature_125': 0.24702490569871852,\n",
       " 'feature_126': 0.24702490569871852,\n",
       " 'feature_127': 0.0,\n",
       " 'feature_128': 0.3382568974349205,\n",
       " 'feature_129': 0.00042335030968075155,\n",
       " 'feature_130': 0.00042335030968075155,\n",
       " 'feature_131': 7.9265995233075515,\n",
       " 'feature_132': 8.204529001612965,\n",
       " 'feature_133': 7.95983252261749,\n",
       " 'feature_134': 8.068633552205444,\n",
       " 'feature_135': 0.24681323054387813,\n",
       " 'feature_136': 0.0,\n",
       " 'feature_137': 0.24681323054387813,\n",
       " 'feature_138': 0.0,\n",
       " 'feature_139': 12.733742289732485,\n",
       " 'feature_140': 0.00021167515484037577,\n",
       " 'feature_141': 0.0,\n",
       " 'feature_142': 0.0,\n",
       " 'feature_143': 0.0,\n",
       " 'feature_144': 0.0,\n",
       " 'feature_145': 0.24702490569871852,\n",
       " 'feature_146': 0.24681323054387813,\n",
       " 'feature_147': 0.24829495662776077,\n",
       " 'feature_148': 0.0,\n",
       " 'feature_149': 7.995817298940354,\n",
       " 'feature_150': 0.0006350254645211273,\n",
       " 'feature_151': 8.07202035468289,\n",
       " 'feature_152': 0.0006350254645211273,\n",
       " 'feature_153': 8.01042288462434,\n",
       " 'feature_154': 7.971686331288551,\n",
       " 'feature_155': 0.00042335030968075155,\n",
       " 'feature_156': 0.00042335030968075155,\n",
       " 'feature_157': 0.24702490569871852,\n",
       " 'feature_158': 0.24702490569871852,\n",
       " 'feature_159': 0.24829495662776077,\n",
       " 'feature_160': 0.24681323054387813,\n",
       " 'feature_161': 0.24681323054387813,\n",
       " 'feature_162': 0.0,\n",
       " 'feature_163': 0.0,\n",
       " 'feature_164': 0.0,\n",
       " 'feature_165': 0.24702490569871852,\n",
       " 'feature_166': 0.24681323054387813,\n",
       " 'feature_167': 0.41213152647421164,\n",
       " 'feature_168': 0.24681323054387813,\n",
       " 'feature_169': 8.030320349179336,\n",
       " 'feature_170': 8.245805656806837,\n",
       " 'feature_171': 0.2472365808535589,\n",
       " 'feature_172': 8.254272663000453,\n",
       " 'feature_173': 7.852301543958579,\n",
       " 'feature_174': 8.220616313380834,\n",
       " 'feature_175': 8.202200574909721,\n",
       " 'feature_176': 8.057203093844063,\n",
       " 'feature_177': 8.23056504565833,\n",
       " 'feature_178': 8.222733064929237,\n",
       " 'feature_179': 8.183149810974086,\n",
       " 'feature_180': 8.203682300993604,\n",
       " 'feature_181': 8.227389918335724,\n",
       " 'feature_182': 8.255542713929495,\n",
       " 'feature_183': 8.080487360876505,\n",
       " 'feature_184': 7.978036585933762,\n",
       " 'feature_185': 8.06058989632151,\n",
       " 'feature_186': 8.048312737340767,\n",
       " 'feature_187': 0.00021167515484037577,\n",
       " 'feature_188': 8.02185334298572,\n",
       " 'feature_189': 0.0,\n",
       " 'feature_190': 8.005977706372692,\n",
       " 'feature_191': 0.2540101858084509,\n",
       " 'feature_192': 0.00021167515484037577,\n",
       " 'feature_193': 0.24681323054387813,\n",
       " 'feature_194': 0.0,\n",
       " 'feature_195': 0.00042335030968075155,\n",
       " 'feature_196': 0.00042335030968075155,\n",
       " 'feature_197': 0.00042335030968075155,\n",
       " 'feature_198': 0.00042335030968075155,\n",
       " 'feature_199': 0.00042335030968075155,\n",
       " 'feature_200': 0.00042335030968075155,\n",
       " 'feature_201': 0.00042335030968075155,\n",
       " 'feature_202': 0.00042335030968075155,\n",
       " 'feature_203': 0.00042335030968075155,\n",
       " 'feature_204': 0.00042335030968075155,\n",
       " 'feature_205': 0.00042335030968075155,\n",
       " 'feature_206': 0.00042335030968075155,\n",
       " 'feature_207': 0.00042335030968075155,\n",
       " 'feature_208': 0.00042335030968075155,\n",
       " 'feature_209': 0.00042335030968075155,\n",
       " 'feature_210': 0.00042335030968075155,\n",
       " 'feature_211': 0.00042335030968075155,\n",
       " 'feature_212': 0.00042335030968075155,\n",
       " 'feature_213': 0.00042335030968075155,\n",
       " 'feature_214': 0.00042335030968075155,\n",
       " 'feature_215': 0.00042335030968075155,\n",
       " 'feature_216': 0.00042335030968075155,\n",
       " 'feature_217': 0.00042335030968075155,\n",
       " 'feature_218': 0.24702490569871852,\n",
       " 'target': 0.0}"
      ]
     },
     "execution_count": 14,
     "metadata": {},
     "output_type": "execute_result"
    }
   ],
   "source": [
    "missing_vals_percentages =percentage_nan(df)\n",
    "missing_vals_percentages"
   ]
  },
  {
   "cell_type": "code",
   "execution_count": 15,
   "id": "0b4bf489",
   "metadata": {
    "ExecuteTime": {
     "end_time": "2023-08-26T01:47:41.757536Z",
     "start_time": "2023-08-26T01:47:41.743872Z"
    }
   },
   "outputs": [
    {
     "data": {
      "text/plain": [
       "{'feature_4': 7.799382755248486,\n",
       " 'feature_15': 24.961792634551312,\n",
       " 'feature_16': 5.073641786368967,\n",
       " 'feature_51': 5.073641786368967,\n",
       " 'feature_53': 5.073641786368967,\n",
       " 'feature_90': 8.07773558386358,\n",
       " 'feature_91': 7.987350292746739,\n",
       " 'feature_92': 8.063341673334435,\n",
       " 'feature_119': 10.82676081977554,\n",
       " 'feature_131': 7.9265995233075515,\n",
       " 'feature_132': 8.204529001612965,\n",
       " 'feature_133': 7.95983252261749,\n",
       " 'feature_134': 8.068633552205444,\n",
       " 'feature_139': 12.733742289732485,\n",
       " 'feature_149': 7.995817298940354,\n",
       " 'feature_151': 8.07202035468289,\n",
       " 'feature_153': 8.01042288462434,\n",
       " 'feature_154': 7.971686331288551,\n",
       " 'feature_169': 8.030320349179336,\n",
       " 'feature_170': 8.245805656806837,\n",
       " 'feature_172': 8.254272663000453,\n",
       " 'feature_173': 7.852301543958579,\n",
       " 'feature_174': 8.220616313380834,\n",
       " 'feature_175': 8.202200574909721,\n",
       " 'feature_176': 8.057203093844063,\n",
       " 'feature_177': 8.23056504565833,\n",
       " 'feature_178': 8.222733064929237,\n",
       " 'feature_179': 8.183149810974086,\n",
       " 'feature_180': 8.203682300993604,\n",
       " 'feature_181': 8.227389918335724,\n",
       " 'feature_182': 8.255542713929495,\n",
       " 'feature_183': 8.080487360876505,\n",
       " 'feature_184': 7.978036585933762,\n",
       " 'feature_185': 8.06058989632151,\n",
       " 'feature_186': 8.048312737340767,\n",
       " 'feature_188': 8.02185334298572,\n",
       " 'feature_190': 8.005977706372692}"
      ]
     },
     "execution_count": 15,
     "metadata": {},
     "output_type": "execute_result"
    }
   ],
   "source": [
    "cols_missing_vals = {key: val for key, val in missing_vals_percentages.items() if val>5}\n",
    "cols_missing_vals"
   ]
  },
  {
   "cell_type": "code",
   "execution_count": 16,
   "id": "6ce4cb47",
   "metadata": {
    "ExecuteTime": {
     "end_time": "2023-08-26T01:47:41.772997Z",
     "start_time": "2023-08-26T01:47:41.759537Z"
    }
   },
   "outputs": [
    {
     "data": {
      "text/plain": [
       "{'feature_15': 24.961792634551312,\n",
       " 'feature_139': 12.733742289732485,\n",
       " 'feature_119': 10.82676081977554,\n",
       " 'feature_182': 8.255542713929495,\n",
       " 'feature_172': 8.254272663000453,\n",
       " 'feature_170': 8.245805656806837,\n",
       " 'feature_177': 8.23056504565833,\n",
       " 'feature_181': 8.227389918335724,\n",
       " 'feature_178': 8.222733064929237,\n",
       " 'feature_174': 8.220616313380834,\n",
       " 'feature_132': 8.204529001612965,\n",
       " 'feature_180': 8.203682300993604,\n",
       " 'feature_175': 8.202200574909721,\n",
       " 'feature_179': 8.183149810974086,\n",
       " 'feature_183': 8.080487360876505,\n",
       " 'feature_90': 8.07773558386358,\n",
       " 'feature_151': 8.07202035468289,\n",
       " 'feature_134': 8.068633552205444,\n",
       " 'feature_92': 8.063341673334435,\n",
       " 'feature_185': 8.06058989632151,\n",
       " 'feature_176': 8.057203093844063,\n",
       " 'feature_186': 8.048312737340767,\n",
       " 'feature_169': 8.030320349179336,\n",
       " 'feature_188': 8.02185334298572,\n",
       " 'feature_153': 8.01042288462434,\n",
       " 'feature_190': 8.005977706372692,\n",
       " 'feature_149': 7.995817298940354,\n",
       " 'feature_91': 7.987350292746739,\n",
       " 'feature_184': 7.978036585933762,\n",
       " 'feature_154': 7.971686331288551,\n",
       " 'feature_133': 7.95983252261749,\n",
       " 'feature_131': 7.9265995233075515,\n",
       " 'feature_173': 7.852301543958579,\n",
       " 'feature_4': 7.799382755248486,\n",
       " 'feature_16': 5.073641786368967,\n",
       " 'feature_51': 5.073641786368967,\n",
       " 'feature_53': 5.073641786368967}"
      ]
     },
     "execution_count": 16,
     "metadata": {},
     "output_type": "execute_result"
    }
   ],
   "source": [
    "sorted_cols_missing_vals = {k: v for k, v in sorted(cols_missing_vals.items(), key=lambda item: item[1], reverse=True)}\n",
    "sorted_cols_missing_vals"
   ]
  },
  {
   "cell_type": "code",
   "execution_count": 17,
   "id": "013abfc6",
   "metadata": {
    "ExecuteTime": {
     "end_time": "2023-08-26T01:47:42.394360Z",
     "start_time": "2023-08-26T01:47:41.774003Z"
    }
   },
   "outputs": [
    {
     "data": {
      "image/png": "[encoded data removed]",
      "text/plain": [
       "<Figure size 2000x1200 with 1 Axes>"
      ]
     },
     "metadata": {},
     "output_type": "display_data"
    }
   ],
   "source": [
    "# Importamos las bibliotecas necesarias\n",
    "import seaborn as sns\n",
    "import matplotlib.pyplot as plt\n",
    "import numpy as np\n",
    "\n",
    "# Configuramos el estilo de Seaborn\n",
    "sns.set_theme(style=\"whitegrid\")\n",
    "\n",
    "# Creamos la gráfica\n",
    "plt.figure(figsize=(20, 12))\n",
    "\n",
    "# Extraemos las llaves y valores del diccionario ordenado\n",
    "sorted_keys = list(sorted_cols_missing_vals.keys())\n",
    "sorted_values = list(sorted_cols_missing_vals.values())\n",
    "\n",
    "# Utilizamos el parámetro `palette` para variar el color de las barras según su altura\n",
    "palette = sns.color_palette(\"coolwarm\", len(sorted_values))\n",
    "\n",
    "sns.barplot(x=sorted_keys, \n",
    "            y=sorted_values, \n",
    "            palette=palette)\n",
    "\n",
    "# Añadimos etiquetas y ajustamos la apariencia\n",
    "plt.xticks(rotation=90, fontsize=15)\n",
    "plt.yticks(fontsize=15)\n",
    "plt.xlabel(\"Features\", fontsize=25)\n",
    "plt.ylabel(\"Percentage of Missing Values\", fontsize=25)\n",
    "\n",
    "# Mostramos la gráfica\n",
    "plt.show()"
   ]
  },
  {
   "cell_type": "code",
   "execution_count": 18,
   "id": "ba1afd18",
   "metadata": {
    "ExecuteTime": {
     "end_time": "2023-08-26T01:47:42.426407Z",
     "start_time": "2023-08-26T01:47:42.395357Z"
    }
   },
   "outputs": [
    {
     "data": {
      "text/plain": [
       "count    354497.000000\n",
       "mean          0.338828\n",
       "std           0.343248\n",
       "min           0.000000\n",
       "25%           0.062500\n",
       "50%           0.182390\n",
       "75%           0.545455\n",
       "max           1.000000\n",
       "Name: feature_15, dtype: float64"
      ]
     },
     "execution_count": 18,
     "metadata": {},
     "output_type": "execute_result"
    }
   ],
   "source": [
    "df['feature_15'].describe()"
   ]
  },
  {
   "cell_type": "code",
   "execution_count": 19,
   "id": "86e663a0",
   "metadata": {
    "ExecuteTime": {
     "end_time": "2023-08-26T01:47:42.442376Z",
     "start_time": "2023-08-26T01:47:42.427407Z"
    }
   },
   "outputs": [
    {
     "data": {
      "text/plain": [
       "0         pZv4.01770.92\n",
       "1          ccl2.0570.53\n",
       "2         pZv4.01770.92\n",
       "3         pZv4.01770.92\n",
       "4          ccl2.0570.53\n",
       "              ...      \n",
       "472417     R!g1.0180.30\n",
       "472418     ccl2.0570.53\n",
       "472419     ccl2.0570.53\n",
       "472420     R!g1.0180.30\n",
       "472421     R!g1.0180.30\n",
       "Name: feature_118, Length: 472422, dtype: category\n",
       "Categories (3, object): ['R!g1.0180.30', 'ccl2.0570.53', 'pZv4.01770.92']"
      ]
     },
     "execution_count": 19,
     "metadata": {},
     "output_type": "execute_result"
    }
   ],
   "source": [
    "df['feature_118']"
   ]
  },
  {
   "cell_type": "code",
   "execution_count": 20,
   "id": "83e98f7d",
   "metadata": {
    "ExecuteTime": {
     "end_time": "2023-08-26T01:47:42.457328Z",
     "start_time": "2023-08-26T01:47:42.443373Z"
    }
   },
   "outputs": [
    {
     "data": {
      "text/plain": [
       "Index(['feature_17', 'feature_87', 'feature_118', 'feature_119', 'feature_139',\n",
       "       'feature_144', 'feature_147', 'feature_148', 'feature_158',\n",
       "       'feature_159', 'feature_195'],\n",
       "      dtype='object')"
      ]
     },
     "execution_count": 20,
     "metadata": {},
     "output_type": "execute_result"
    }
   ],
   "source": [
    "# Encuentra las columnas categóricas\n",
    "categorical_columns = df.select_dtypes(include=['object', 'category']).columns\n",
    "categorical_columns"
   ]
  },
  {
   "cell_type": "code",
   "execution_count": 21,
   "id": "1328ad95",
   "metadata": {
    "ExecuteTime": {
     "end_time": "2023-08-26T01:47:43.094000Z",
     "start_time": "2023-08-26T01:47:42.458326Z"
    }
   },
   "outputs": [],
   "source": [
    "from sklearn.preprocessing import LabelEncoder\n",
    "\n",
    "# Crea una instancia del LabelEncoder\n",
    "le = LabelEncoder()\n",
    "\n",
    "# Aplica Label Encoding usando apply\n",
    "df[categorical_columns] = df[categorical_columns].apply(lambda col: le.fit_transform(col))"
   ]
  },
  {
   "cell_type": "code",
   "execution_count": 22,
   "id": "48371eb3",
   "metadata": {
    "ExecuteTime": {
     "end_time": "2023-08-26T01:47:43.108961Z",
     "start_time": "2023-08-26T01:47:43.094997Z"
    }
   },
   "outputs": [
    {
     "data": {
      "text/plain": [
       "Index([], dtype='object')"
      ]
     },
     "execution_count": 22,
     "metadata": {},
     "output_type": "execute_result"
    }
   ],
   "source": [
    "# Encuentra las columnas categóricas\n",
    "categorical_columns = df.select_dtypes(include=['object', 'category']).columns\n",
    "categorical_columns"
   ]
  },
  {
   "cell_type": "code",
   "execution_count": 23,
   "id": "9554184b",
   "metadata": {
    "ExecuteTime": {
     "end_time": "2023-08-26T01:47:43.123850Z",
     "start_time": "2023-08-26T01:47:43.110464Z"
    }
   },
   "outputs": [
    {
     "data": {
      "text/plain": [
       "float32    197\n",
       "int32       12\n",
       "float64     10\n",
       "Name: count, dtype: int64"
      ]
     },
     "execution_count": 23,
     "metadata": {},
     "output_type": "execute_result"
    }
   ],
   "source": [
    "df.dtypes.value_counts()"
   ]
  },
  {
   "cell_type": "code",
   "execution_count": 24,
   "id": "54b711a9",
   "metadata": {
    "ExecuteTime": {
     "end_time": "2023-08-26T01:47:43.139345Z",
     "start_time": "2023-08-26T01:47:43.124848Z"
    }
   },
   "outputs": [
    {
     "data": {
      "text/plain": [
       "0         2\n",
       "1         1\n",
       "2         2\n",
       "3         2\n",
       "4         1\n",
       "         ..\n",
       "472417    0\n",
       "472418    1\n",
       "472419    1\n",
       "472420    0\n",
       "472421    0\n",
       "Name: feature_118, Length: 472422, dtype: int32"
      ]
     },
     "execution_count": 24,
     "metadata": {},
     "output_type": "execute_result"
    }
   ],
   "source": [
    "df['feature_118']"
   ]
  },
  {
   "cell_type": "code",
   "execution_count": 28,
   "id": "55ae7a65",
   "metadata": {
    "ExecuteTime": {
     "end_time": "2023-08-26T01:50:52.451239Z",
     "start_time": "2023-08-26T01:50:52.334350Z"
    }
   },
   "outputs": [],
   "source": [
    "df.to_pickle(\"../Base de datos/nocategorical.pkl\")"
   ]
  }
 ],
 "metadata": {
  "hide_input": false,
  "kernelspec": {
   "display_name": "Python 3 (ipykernel)",
   "language": "python",
   "name": "python3"
  },
  "language_info": {
   "codemirror_mode": {
    "name": "ipython",
    "version": 3
   },
   "file_extension": ".py",
   "mimetype": "text/x-python",
   "name": "python",
   "nbconvert_exporter": "python",
   "pygments_lexer": "ipython3",
   "version": "3.10.11"
  },
  "toc": {
   "base_numbering": 1,
   "nav_menu": {},
   "number_sections": true,
   "sideBar": true,
   "skip_h1_title": false,
   "title_cell": "Table of Contents",
   "title_sidebar": "Contents",
   "toc_cell": false,
   "toc_position": {},
   "toc_section_display": true,
   "toc_window_display": false
  },
  "varInspector": {
   "cols": {
    "lenName": 16,
    "lenType": 16,
    "lenVar": 40
   },
   "kernels_config": {
    "python": {
     "delete_cmd_postfix": "",
     "delete_cmd_prefix": "del ",
     "library": "var_list.py",
     "varRefreshCmd": "print(var_dic_list())"
    },
    "r": {
     "delete_cmd_postfix": ") ",
     "delete_cmd_prefix": "rm(",
     "library": "var_list.r",
     "varRefreshCmd": "cat(var_dic_list()) "
    }
   },
   "types_to_exclude": [
    "module",
    "function",
    "builtin_function_or_method",
    "instance",
    "_Feature"
   ],
   "window_display": false
  }
 },
 "nbformat": 4,
 "nbformat_minor": 5
}
